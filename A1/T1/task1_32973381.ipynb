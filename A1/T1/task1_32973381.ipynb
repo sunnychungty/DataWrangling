{
  "cells": [
    {
      "cell_type": "markdown",
      "metadata": {
        "id": "QCbAmQ47iqK4"
      },
      "source": [
        "<div class=\"alert alert-block alert-success\">\n",
        "    \n",
        "# FIT5196 Task 1 in Assessment 1\n",
        "#### Student Name: Tsz Yan CHUNG\n",
        "#### Student ID: 32973381\n",
        "\n",
        "Date: 19/08/2022\n",
        "\n",
        "\n",
        "Environment: Google colab\n",
        "\n",
        "Libraries used:\n",
        "* os (for interacting with the operating system, mainly for accessing files in different directories) \n",
        "* re (for regular expression, installed and imported) \n",
        "* pandas (for data manipulation) \n",
        "    \n",
        "</div>"
      ]
    },
    {
      "cell_type": "markdown",
      "metadata": {
        "id": "IjBFqYK4iqK5"
      },
      "source": [
        "<div class=\"alert alert-block alert-danger\">\n",
        "    \n",
        "## Table of Contents\n",
        "\n",
        "</div>    \n",
        "\n",
        "[1. Introduction](#Intro) <br>\n",
        "[2. Importing Libraries](#libs) <br>\n",
        "[3. Examining Review Files](#examine) <br>\n",
        "[4. Loading and Parsing Files](#parse) <br>\n",
        "$\\;\\;\\;\\;$[4.1. Defining Regular Expressions](#Reg_Exp) <br>\n",
        "$\\;\\;\\;\\;$[4.2. Reading Files](#Read) <br>\n",
        "$\\;\\;\\;\\;$[4.3. Whatever else](#latin) <br>\n",
        "[5. Writing to an CSV File](#write) <br>\n",
        "$\\;\\;\\;\\;$[5.1. Verification - using the sample files](#test_xml) <br>\n",
        "[6. Summary](#summary) <br>\n",
        "[7. References](#Ref) <br>"
      ]
    },
    {
      "cell_type": "markdown",
      "metadata": {
        "id": "AcbqK3KliqK6"
      },
      "source": [
        "-------------------------------------"
      ]
    },
    {
      "cell_type": "markdown",
      "metadata": {
        "id": "pEFdSCIUiqK6"
      },
      "source": [
        "<div class=\"alert alert-block alert-warning\">\n",
        "\n",
        "## 1.  Introduction  <a class=\"anchor\" name=\"Intro\"></a>\n",
        "    \n",
        "</div>"
      ]
    },
    {
      "cell_type": "markdown",
      "metadata": {
        "id": "cGg4-8VSiqK6"
      },
      "source": [
        "This assessment regards extracting data from semi-sctuctured text files. The dataset contained 500 `.txt` files which included various information about user reviews. In particular, there are four types of attributes that are desired: product ID, product review, review summary and the latest review dates.\n",
        "\n",
        "The following notebook will go through all the processes step by step, until the aim to create a CSV following the sample.csv format is achieved."
      ]
    },
    {
      "cell_type": "markdown",
      "metadata": {
        "id": "p6Ql-W6BiqK7"
      },
      "source": [
        "-------------------------------------"
      ]
    },
    {
      "cell_type": "markdown",
      "metadata": {
        "id": "hnctlBF6iqK7"
      },
      "source": [
        "<div class=\"alert alert-block alert-warning\">\n",
        "    \n",
        "## 2.  Importing Libraries  <a class=\"anchor\" name=\"libs\"></a>\n",
        " </div>"
      ]
    },
    {
      "cell_type": "markdown",
      "metadata": {
        "id": "dQOLlwmAiqK7"
      },
      "source": [
        "The only permitted packages to be used in this assessment are imported in the following. They are used to fulfill the following tasks:\n",
        "\n",
        "* **os:** to interact with the operating system, e.g. navigate through folders\n",
        "* **re:** to define and use regular expressions\n",
        "* **pandas:** to create, access and manipulate dataframe"
      ]
    },
    {
      "cell_type": "code",
      "execution_count": 1,
      "metadata": {
        "id": "mKGO6FAXiqK7"
      },
      "outputs": [],
      "source": [
        "# Import libraries\n",
        "import pandas as pd\n",
        "import os\n",
        "import re"
      ]
    },
    {
      "cell_type": "code",
      "source": [
        "# This task was conducted on Google colab\n",
        "from google.colab import drive\n",
        "drive.mount('/content/drive') "
      ],
      "metadata": {
        "id": "wMWqFiW4jewp",
        "colab": {
          "base_uri": "https://localhost:8080/",
          "height": 0
        },
        "outputId": "233d7cb7-5010-4c91-acac-d300ac61a0e5"
      },
      "execution_count": 2,
      "outputs": [
        {
          "output_type": "stream",
          "name": "stdout",
          "text": [
            "Drive already mounted at /content/drive; to attempt to forcibly remount, call drive.mount(\"/content/drive\", force_remount=True).\n"
          ]
        }
      ]
    },
    {
      "cell_type": "markdown",
      "metadata": {
        "id": "3DEWD9qIiqK8"
      },
      "source": [
        "-------------------------------------"
      ]
    },
    {
      "cell_type": "markdown",
      "metadata": {
        "collapsed": true,
        "id": "Z814ttFYiqK8"
      },
      "source": [
        "<div class=\"alert alert-block alert-warning\">\n",
        "\n",
        "## 3.  Examining and Loading Files<a class=\"anchor\" name=\"examine\"></a>\n",
        "\n",
        " </div>"
      ]
    },
    {
      "cell_type": "markdown",
      "source": [
        "Before diving into the details of the files directly,\n",
        "it is important to understand the overall structure of the requested output."
      ],
      "metadata": {
        "id": "ilFcclx1xUth"
      }
    },
    {
      "cell_type": "code",
      "source": [
        "os.chdir(\"/content/drive/Shareddrives/FIT5196-s2-2022/A1/Task1/sample IO/\")\n",
        "sample = pd.read_csv(\"sample_output_task1.csv\", encoding = \"UTF-8\")"
      ],
      "metadata": {
        "id": "RqMw6k8exahk"
      },
      "execution_count": 15,
      "outputs": []
    },
    {
      "cell_type": "code",
      "source": [
        "# Display sample\n",
        "sample"
      ],
      "metadata": {
        "colab": {
          "base_uri": "https://localhost:8080/",
          "height": 520
        },
        "id": "U0lUJn63xtde",
        "outputId": "ee5f763b-47ed-454e-e7bf-9f7e7fcfc7c4"
      },
      "execution_count": 17,
      "outputs": [
        {
          "output_type": "execute_result",
          "data": {
            "text/plain": [
              "           PID                                     product_review  \\\n",
              "0   B000KIQ15U  ['This is worth it for the convenience and the...   \n",
              "1   B001I4HF8W  ['Careful of the revision numbers on your old ...   \n",
              "2   B0037NYQ5C  [\"Bought this drive to replace a faulty hard d...   \n",
              "3   B0052MNIAA  ['After a horrible failed hard drive experienc...   \n",
              "4   B0068Y7HUS  ['I like it, nice colors, sound, features, the...   \n",
              "5   6304432437  [\"The Doctor and Mel head to Pardaise Towers f...   \n",
              "6   B00005LMAL  [\"Dwight Yoakam's &quot;South of Heaven, West ...   \n",
              "7   B00005RDB0  ['Watched disc 1. A fine, quick, adequate intr...   \n",
              "8   B00091S6RY  [\"I enjoyed this movie so much.  It's good cle...   \n",
              "9   B00A704PG8  ['Very spooky.  Similar to but very different ...   \n",
              "10  1577319109  ['It\\'s always interesting and entertaining to...   \n",
              "11  1600761259  [\"In a book that grabs you and won't let go (I...   \n",
              "12  1601420137  [\"Can't wait to get another of her books. Remi...   \n",
              "13  1612961657  ['I received a copy of the book from the Autho...   \n",
              "14  B00CLUGBXW  [\"Great series, each one get better and better...   \n",
              "\n",
              "                                       review_summary latest_review_date  \n",
              "0   ['OK. Value for money. Nothing spectacular', '...         01/02/2014  \n",
              "1   ['Careful of revision numbers', 'great', 'Perf...         03/07/2014  \n",
              "2   ['Good price for a good drive', 'HD for laptop...         27/04/2014  \n",
              "3   [\"It's all about the back-up drive\", 'Confiden...         28/06/2014  \n",
              "4   ['its good', 'Usb is buggy', 'Very Nice', 'Awe...         17/02/2014  \n",
              "5   ['Fun episode , annoying Kangs!', \"Silly but i...         03/06/2014  \n",
              "6   ['Not Your Standard Western Fare', 'Hang on a ...         14/06/2014  \n",
              "7   ['Meh.', 'The Avatar Of American Letters', 'Gr...         31/01/2014  \n",
              "8   ['A really likeable movie!', 'I liked it', 'Lo...         08/07/2014  \n",
              "9   ['Very spooky. Similar to but very different f...         04/07/2014  \n",
              "10  ['Oh mommy pat my bum', 'Finger pointing at th...         10/12/2013  \n",
              "11  ['Fabre Gives Good Reason to Read REASONS!', '...         03/08/2011  \n",
              "12  ['Yep.....Gayle Roper is well worth reading......         05/06/2014  \n",
              "13  ['Asha Butterflys', 'Brilliant Book', 'Great R...         31/07/2013  \n",
              "14  ['Into the Fire', 'Another great read..', 'lov...         06/07/2014  "
            ],
            "text/html": [
              "\n",
              "  <div id=\"df-24abee07-e2cb-45a5-9c05-8ef836b2b943\">\n",
              "    <div class=\"colab-df-container\">\n",
              "      <div>\n",
              "<style scoped>\n",
              "    .dataframe tbody tr th:only-of-type {\n",
              "        vertical-align: middle;\n",
              "    }\n",
              "\n",
              "    .dataframe tbody tr th {\n",
              "        vertical-align: top;\n",
              "    }\n",
              "\n",
              "    .dataframe thead th {\n",
              "        text-align: right;\n",
              "    }\n",
              "</style>\n",
              "<table border=\"1\" class=\"dataframe\">\n",
              "  <thead>\n",
              "    <tr style=\"text-align: right;\">\n",
              "      <th></th>\n",
              "      <th>PID</th>\n",
              "      <th>product_review</th>\n",
              "      <th>review_summary</th>\n",
              "      <th>latest_review_date</th>\n",
              "    </tr>\n",
              "  </thead>\n",
              "  <tbody>\n",
              "    <tr>\n",
              "      <th>0</th>\n",
              "      <td>B000KIQ15U</td>\n",
              "      <td>['This is worth it for the convenience and the...</td>\n",
              "      <td>['OK. Value for money. Nothing spectacular', '...</td>\n",
              "      <td>01/02/2014</td>\n",
              "    </tr>\n",
              "    <tr>\n",
              "      <th>1</th>\n",
              "      <td>B001I4HF8W</td>\n",
              "      <td>['Careful of the revision numbers on your old ...</td>\n",
              "      <td>['Careful of revision numbers', 'great', 'Perf...</td>\n",
              "      <td>03/07/2014</td>\n",
              "    </tr>\n",
              "    <tr>\n",
              "      <th>2</th>\n",
              "      <td>B0037NYQ5C</td>\n",
              "      <td>[\"Bought this drive to replace a faulty hard d...</td>\n",
              "      <td>['Good price for a good drive', 'HD for laptop...</td>\n",
              "      <td>27/04/2014</td>\n",
              "    </tr>\n",
              "    <tr>\n",
              "      <th>3</th>\n",
              "      <td>B0052MNIAA</td>\n",
              "      <td>['After a horrible failed hard drive experienc...</td>\n",
              "      <td>[\"It's all about the back-up drive\", 'Confiden...</td>\n",
              "      <td>28/06/2014</td>\n",
              "    </tr>\n",
              "    <tr>\n",
              "      <th>4</th>\n",
              "      <td>B0068Y7HUS</td>\n",
              "      <td>['I like it, nice colors, sound, features, the...</td>\n",
              "      <td>['its good', 'Usb is buggy', 'Very Nice', 'Awe...</td>\n",
              "      <td>17/02/2014</td>\n",
              "    </tr>\n",
              "    <tr>\n",
              "      <th>5</th>\n",
              "      <td>6304432437</td>\n",
              "      <td>[\"The Doctor and Mel head to Pardaise Towers f...</td>\n",
              "      <td>['Fun episode , annoying Kangs!', \"Silly but i...</td>\n",
              "      <td>03/06/2014</td>\n",
              "    </tr>\n",
              "    <tr>\n",
              "      <th>6</th>\n",
              "      <td>B00005LMAL</td>\n",
              "      <td>[\"Dwight Yoakam's &amp;quot;South of Heaven, West ...</td>\n",
              "      <td>['Not Your Standard Western Fare', 'Hang on a ...</td>\n",
              "      <td>14/06/2014</td>\n",
              "    </tr>\n",
              "    <tr>\n",
              "      <th>7</th>\n",
              "      <td>B00005RDB0</td>\n",
              "      <td>['Watched disc 1. A fine, quick, adequate intr...</td>\n",
              "      <td>['Meh.', 'The Avatar Of American Letters', 'Gr...</td>\n",
              "      <td>31/01/2014</td>\n",
              "    </tr>\n",
              "    <tr>\n",
              "      <th>8</th>\n",
              "      <td>B00091S6RY</td>\n",
              "      <td>[\"I enjoyed this movie so much.  It's good cle...</td>\n",
              "      <td>['A really likeable movie!', 'I liked it', 'Lo...</td>\n",
              "      <td>08/07/2014</td>\n",
              "    </tr>\n",
              "    <tr>\n",
              "      <th>9</th>\n",
              "      <td>B00A704PG8</td>\n",
              "      <td>['Very spooky.  Similar to but very different ...</td>\n",
              "      <td>['Very spooky. Similar to but very different f...</td>\n",
              "      <td>04/07/2014</td>\n",
              "    </tr>\n",
              "    <tr>\n",
              "      <th>10</th>\n",
              "      <td>1577319109</td>\n",
              "      <td>['It\\'s always interesting and entertaining to...</td>\n",
              "      <td>['Oh mommy pat my bum', 'Finger pointing at th...</td>\n",
              "      <td>10/12/2013</td>\n",
              "    </tr>\n",
              "    <tr>\n",
              "      <th>11</th>\n",
              "      <td>1600761259</td>\n",
              "      <td>[\"In a book that grabs you and won't let go (I...</td>\n",
              "      <td>['Fabre Gives Good Reason to Read REASONS!', '...</td>\n",
              "      <td>03/08/2011</td>\n",
              "    </tr>\n",
              "    <tr>\n",
              "      <th>12</th>\n",
              "      <td>1601420137</td>\n",
              "      <td>[\"Can't wait to get another of her books. Remi...</td>\n",
              "      <td>['Yep.....Gayle Roper is well worth reading......</td>\n",
              "      <td>05/06/2014</td>\n",
              "    </tr>\n",
              "    <tr>\n",
              "      <th>13</th>\n",
              "      <td>1612961657</td>\n",
              "      <td>['I received a copy of the book from the Autho...</td>\n",
              "      <td>['Asha Butterflys', 'Brilliant Book', 'Great R...</td>\n",
              "      <td>31/07/2013</td>\n",
              "    </tr>\n",
              "    <tr>\n",
              "      <th>14</th>\n",
              "      <td>B00CLUGBXW</td>\n",
              "      <td>[\"Great series, each one get better and better...</td>\n",
              "      <td>['Into the Fire', 'Another great read..', 'lov...</td>\n",
              "      <td>06/07/2014</td>\n",
              "    </tr>\n",
              "  </tbody>\n",
              "</table>\n",
              "</div>\n",
              "      <button class=\"colab-df-convert\" onclick=\"convertToInteractive('df-24abee07-e2cb-45a5-9c05-8ef836b2b943')\"\n",
              "              title=\"Convert this dataframe to an interactive table.\"\n",
              "              style=\"display:none;\">\n",
              "        \n",
              "  <svg xmlns=\"http://www.w3.org/2000/svg\" height=\"24px\"viewBox=\"0 0 24 24\"\n",
              "       width=\"24px\">\n",
              "    <path d=\"M0 0h24v24H0V0z\" fill=\"none\"/>\n",
              "    <path d=\"M18.56 5.44l.94 2.06.94-2.06 2.06-.94-2.06-.94-.94-2.06-.94 2.06-2.06.94zm-11 1L8.5 8.5l.94-2.06 2.06-.94-2.06-.94L8.5 2.5l-.94 2.06-2.06.94zm10 10l.94 2.06.94-2.06 2.06-.94-2.06-.94-.94-2.06-.94 2.06-2.06.94z\"/><path d=\"M17.41 7.96l-1.37-1.37c-.4-.4-.92-.59-1.43-.59-.52 0-1.04.2-1.43.59L10.3 9.45l-7.72 7.72c-.78.78-.78 2.05 0 2.83L4 21.41c.39.39.9.59 1.41.59.51 0 1.02-.2 1.41-.59l7.78-7.78 2.81-2.81c.8-.78.8-2.07 0-2.86zM5.41 20L4 18.59l7.72-7.72 1.47 1.35L5.41 20z\"/>\n",
              "  </svg>\n",
              "      </button>\n",
              "      \n",
              "  <style>\n",
              "    .colab-df-container {\n",
              "      display:flex;\n",
              "      flex-wrap:wrap;\n",
              "      gap: 12px;\n",
              "    }\n",
              "\n",
              "    .colab-df-convert {\n",
              "      background-color: #E8F0FE;\n",
              "      border: none;\n",
              "      border-radius: 50%;\n",
              "      cursor: pointer;\n",
              "      display: none;\n",
              "      fill: #1967D2;\n",
              "      height: 32px;\n",
              "      padding: 0 0 0 0;\n",
              "      width: 32px;\n",
              "    }\n",
              "\n",
              "    .colab-df-convert:hover {\n",
              "      background-color: #E2EBFA;\n",
              "      box-shadow: 0px 1px 2px rgba(60, 64, 67, 0.3), 0px 1px 3px 1px rgba(60, 64, 67, 0.15);\n",
              "      fill: #174EA6;\n",
              "    }\n",
              "\n",
              "    [theme=dark] .colab-df-convert {\n",
              "      background-color: #3B4455;\n",
              "      fill: #D2E3FC;\n",
              "    }\n",
              "\n",
              "    [theme=dark] .colab-df-convert:hover {\n",
              "      background-color: #434B5C;\n",
              "      box-shadow: 0px 1px 3px 1px rgba(0, 0, 0, 0.15);\n",
              "      filter: drop-shadow(0px 1px 2px rgba(0, 0, 0, 0.3));\n",
              "      fill: #FFFFFF;\n",
              "    }\n",
              "  </style>\n",
              "\n",
              "      <script>\n",
              "        const buttonEl =\n",
              "          document.querySelector('#df-24abee07-e2cb-45a5-9c05-8ef836b2b943 button.colab-df-convert');\n",
              "        buttonEl.style.display =\n",
              "          google.colab.kernel.accessAllowed ? 'block' : 'none';\n",
              "\n",
              "        async function convertToInteractive(key) {\n",
              "          const element = document.querySelector('#df-24abee07-e2cb-45a5-9c05-8ef836b2b943');\n",
              "          const dataTable =\n",
              "            await google.colab.kernel.invokeFunction('convertToInteractive',\n",
              "                                                     [key], {});\n",
              "          if (!dataTable) return;\n",
              "\n",
              "          const docLinkHtml = 'Like what you see? Visit the ' +\n",
              "            '<a target=\"_blank\" href=https://colab.research.google.com/notebooks/data_table.ipynb>data table notebook</a>'\n",
              "            + ' to learn more about interactive tables.';\n",
              "          element.innerHTML = '';\n",
              "          dataTable['output_type'] = 'display_data';\n",
              "          await google.colab.output.renderOutput(dataTable, element);\n",
              "          const docLink = document.createElement('div');\n",
              "          docLink.innerHTML = docLinkHtml;\n",
              "          element.appendChild(docLink);\n",
              "        }\n",
              "      </script>\n",
              "    </div>\n",
              "  </div>\n",
              "  "
            ]
          },
          "metadata": {},
          "execution_count": 17
        }
      ]
    },
    {
      "cell_type": "markdown",
      "metadata": {
        "id": "4YVIqb_miqK8"
      },
      "source": [
        "On top of this, I also opened a few text file manually and noticed the name of the desired information might varies slightly, and they are enclosed by certain patterns like the h1/ h2 quotations.\n",
        "\n",
        "In the following stpes, after extracting all of the data from all text files to a python variable, abnormal formats will also be observed.\n"
      ]
    },
    {
      "cell_type": "code",
      "source": [
        "# Set up directory\n",
        "os.chdir(\"/content/drive/Shareddrives/FIT5196-s2-2022/A1/Task1/input_data\")\n",
        "\n",
        "# Access all txt files in the directory\n",
        "data = ''\n",
        "for root, dirs, files in os.walk(\"32973381\"):\n",
        "  for file in files:  # remove index after test\n",
        "    with open(\"32973381/\" + file, \"r\", encoding = \"UTF-8\") as f:\n",
        "      data += f.read()\n",
        "\n",
        "# Look for all possible combination of <h1> context which indicates specific attributes\n",
        "attribute_h1 = set(re.findall(r'<h1> (.*?) <h1>', data))\n",
        "# Look for all possible combination of <h2> context which indicates specific attributes\n",
        "attribute_h2 = set(re.findall(r'<h2> (.*?) <\\/h2>', data))\n",
        "\n",
        "print('h1:', attribute_h1)\n",
        "print('h2:',attribute_h2)"
      ],
      "metadata": {
        "colab": {
          "base_uri": "https://localhost:8080/",
          "height": 0
        },
        "id": "Q73WH73GMNXF",
        "outputId": "a0779b9c-3d94-4097-ff2c-fea86552f7d0"
      },
      "execution_count": 3,
      "outputs": [
        {
          "output_type": "stream",
          "name": "stdout",
          "text": [
            "h1: {'product_reviews', 'REVIEWS', 'product.reviews', 'PRODUCT.ID', 'PRODUCT_ID', 'Product ID'}\n",
            "h2: {'REVIEW SUMMARY', 'REVIEW TEXT', 'review.summary', 'REVIEW DATE', 'review.date', 'review.text'}\n"
          ]
        }
      ]
    },
    {
      "cell_type": "markdown",
      "source": [
        "For the two regular expression methods set up on the cell above:\n",
        "```\n",
        "attribute_h1 = set(re.findall(r'<h1> (.*?) <h1>', data))  #method1\n",
        "attribute_h2 = set(re.findall(r'<h2> (.*?) </h2>', data))  #method2\n",
        "```\n",
        "Method1 tries to capture texts surrounded by the h1 quotation among text files, \n",
        "\n",
        "while method2 is capturing texts surrounded by the h2 quotation.\n",
        "\n",
        "By making the captured values a set, the following observations are made:\n",
        "\n",
        "PID: \"PRODUCT_ID\", \"Product ID\", \"PRODUCT.ID\" <br>\n",
        "review_summary: \"review.summary\", \"REVIEW SUMMARY\" <br>\n",
        "review_date: \"REVIEW DATE\", \"review.date\"<br>\n",
        "product_review: \"product_reviews\", \"product.reviews\"<br>\n",
        "\n",
        "Regular expression methods can be further set up looking for these specific values"
      ],
      "metadata": {
        "id": "4V3-VptZQfSB"
      }
    },
    {
      "cell_type": "markdown",
      "metadata": {
        "id": "fBEASWLfiqK-"
      },
      "source": [
        "-------------------------------------"
      ]
    },
    {
      "cell_type": "markdown",
      "metadata": {
        "collapsed": true,
        "id": "iDoVeDSHiqK-"
      },
      "source": [
        "<div class=\"alert alert-block alert-warning\"> \n",
        "\n",
        "## 4.  Parsing Files <a class=\"anchor\" name=\"parse\"></a>\n",
        "\n",
        "</div>"
      ]
    },
    {
      "cell_type": "markdown",
      "metadata": {
        "id": "z24HaN8hiqK-"
      },
      "source": [
        "After knowing the possible combination of the desired attributes, regular expression methods could be set up one by one for each of these attirbutes."
      ]
    },
    {
      "cell_type": "markdown",
      "metadata": {
        "id": "gQ0tuwvZiqK-"
      },
      "source": [
        "-------------------------------------"
      ]
    },
    {
      "cell_type": "markdown",
      "metadata": {
        "id": "rApp_Ic9iqK-"
      },
      "source": [
        "<div class=\"alert alert-block alert-info\">\n",
        "    \n",
        "### 4.1. Defining Regular Expressions <a class=\"anchor\" name=\"Reg_Exp\"></a>"
      ]
    },
    {
      "cell_type": "markdown",
      "metadata": {
        "id": "knauV0VViqK-"
      },
      "source": [
        "Defining correct regular expressions is crucial in extracting desired information from the text efficiently:\n",
        "<h4>PRODUCT ID</h4>\n",
        "\n",
        "\n",
        "```\n",
        "# Get product ID\n",
        "prod_id = re.findall(r'<h1> .*?[._ ][Ii][Dd] <h1>\\n <p> (.*?) <p>', data)\n",
        "```\n",
        "First, for Product ID, it is known that each text file represents only one product, and one product ID. By search for text followed by the header \"ProductID\" and its variations, PID for each text files could be obtained.\n",
        "\n",
        "For the 3 variations:\n",
        "```\n",
        "<h1>[\"Product ID\", \"PRODUCT_ID\", \"PRODUCT.ID\"]<h1>\n",
        " <p> [PID] <p>\n",
        "```\n",
        "I focused on the h1 quotation instead of the word \"Product\" itselfs, knowing that h1 usually represent header or title, which is relatively rare in a html file. And the rest of the format could be captured by the 3 character groups which allow all 3 variation to fit in, and hence capture the PID on the following line."
      ]
    },
    {
      "cell_type": "markdown",
      "metadata": {
        "id": "gZ-njkJciqK_"
      },
      "source": [
        "-------------------------------------"
      ]
    },
    {
      "cell_type": "markdown",
      "source": [
        "<h4>PRODUCT REVIEW & PRODUCT SUMMARY</h4>\n",
        "\n",
        "\n",
        "```\n",
        "# Get product review\n",
        "prod_text = re.findall(r\"(?:(?:<h2>\\sREVIEW\\sTEXT\\s<\\/h2>)|(?:<h2>\\sreview\\.text\\s>\\/h2>))\\n\\n\\s<p>\\s?(.+\\.?)\\s<\\/p>\", data)\n",
        "```\n",
        "For product review, by strictly following the sample output provided, which is representing review_text in the text files.\n",
        "\n",
        "To capture such texts, knowing that the values are strictly followed by the h2 heading \"review text\" and its variation, non-capturing groups are set up to allow different format of text in the regular expression. The white spaces and new lines are also observed and applied to the regular expression.\n",
        "\n",
        "Which the same logic could be applied to product summary as well.\n",
        "\n",
        "```\n",
        "# Get product summary\n",
        "review_summary = re.findall(r\"(?:(?:<h2>\\sREVIEW\\sSUMMARY\\s<\\/h2>)|(?:<h2>\\sreview\\.summary\\s>\\/h2>))\\n\\n\\s<p>\\s?(.+\\.?)\\s<\\/p>\", data)\n",
        "```\n"
      ],
      "metadata": {
        "id": "vxtLyhFxpyLZ"
      }
    },
    {
      "cell_type": "markdown",
      "source": [
        "-------------------------------------"
      ],
      "metadata": {
        "id": "TbqamYM8p20i"
      }
    },
    {
      "cell_type": "markdown",
      "source": [
        "<h4>DATES</h4>\n",
        "\n",
        "\n",
        "```\n",
        "# Get all dates\n",
        "date = re.findall(r\"(?:(?:<h2>\\sREVIEW\\sDATE\\s<\\/h2>)|(?:<h2>\\sreview[.]date\\s<\\/h2>))\\n\\s+(\\d{1,2}-\\d{1,2}-\\d{4})\", data)\n",
        "```\n",
        "For dates data, knowing that they are following the \"review date\" text in h2 quotation, specifying 2 consecutive one or two digits number and one 4 digits number for the year, join with forward slash could help the regular expression works."
      ],
      "metadata": {
        "id": "gYqYqg3Kp5Og"
      }
    },
    {
      "cell_type": "markdown",
      "source": [
        "-------------------------------------"
      ],
      "metadata": {
        "id": "JT_HTcDQp7nB"
      }
    },
    {
      "cell_type": "markdown",
      "metadata": {
        "id": "YTqmBHIKiqK_"
      },
      "source": [
        "These patterns are used in the next step when reading the files."
      ]
    },
    {
      "cell_type": "markdown",
      "metadata": {
        "id": "QGcAMvmhiqK_"
      },
      "source": [
        "<div class=\"alert alert-block alert-info\">\n",
        "    \n",
        "### 4.2. Reading Files <a class=\"anchor\" name=\"Read\"></a>"
      ]
    },
    {
      "cell_type": "markdown",
      "metadata": {
        "id": "llC5D5M3iqK_"
      },
      "source": [
        "When all regular expression methods are defined, they can be applied to the actual text files. To extract information from each text files, files will be went through one by one, storing the desired values into a separated list, so that they are stored in order and can be easily retrieved."
      ]
    },
    {
      "cell_type": "code",
      "source": [
        "# Define variables\n",
        "df = ''\n",
        "data = ''\n",
        "prod_text = []\n",
        "review_sum = []\n",
        "latest_review_date = []\n",
        "prod_id = []"
      ],
      "metadata": {
        "id": "LUIlnCvJ8NXy"
      },
      "execution_count": 4,
      "outputs": []
    },
    {
      "cell_type": "code",
      "source": [
        "# Loop through 500 text files to get all the information needed\n",
        "# data of each attribute will be saved into a list as a single values. \n",
        "# So each list of an attribute should have a length the same as the total number of files read in the end \n",
        "for root, dirs, files in os.walk(\"32973381\"):  \n",
        "  for file in files[:]:    # Indexing are added for testing purpose only, remove after debug\n",
        "    with open(\"32973381/\" + file, \"r\", encoding = \"UTF-8\") as f:\n",
        "      data = f.read()\n",
        "      # Extract desired data into lists one by one:\n",
        "      prod_text.append(str(re.findall(r\"(?:(?:<h2>\\sREVIEW\\sTEXT\\s<\\/h2>)|(?:<h2>\\sreview\\.text\\s<\\/h2>))\\n\\n\\s<p>\\s?(.+\\.?)\\s<\\/p>\", data)))\n",
        "      review_sum.append(str(re.findall(r\"(?:(?:<h2>\\sREVIEW\\sSUMMARY\\s<\\/h2>)|(?:<h2>\\sreview\\.summary\\s<\\/h2>))\\n\\n\\s<p>\\s?(.+\\.?)\\s<\\/p>\", data)))\n",
        "      prod_id.append(re.findall(r\"<h1> .*?[._ ][Ii][Dd] <h1>\\n <p> (.*?) <p>\", data)[0])\n",
        "      # Wrangle date data and get latest review date\n",
        "      date = re.findall(r\"(?:(?:<h2>\\sREVIEW\\sDATE\\s<\\/h2>)|(?:<h2>\\sreview[.]date\\s<\\/h2>))\\n\\s+(\\d{1,2}-\\d{1,2}-\\d{4})\", data)\n",
        "      date_list = []  # Create empty date_list to store date value for every loop, as only the latest date is required\n",
        "      for line in date:  # To find the latest review date, convert each date into int format \"YYYYMMDD\", the latest date coud be obtained by sorting dates in order\n",
        "        date_list.append(int(str(line[6:]) + str(line[0:2]) + str(line[3:5])))\n",
        "      review_date = (sorted(date_list, reverse = True)[0])\n",
        "      # Changing date into the same format as shwon in the sample csv file\n",
        "      latest_review_date.append([str(review_date)[6:] + '/' + str(review_date)[4:6] + '/' + str(review_date)[:4]][0]) \n"
      ],
      "metadata": {
        "id": "g4E0ON6N9N2I"
      },
      "execution_count": 5,
      "outputs": []
    },
    {
      "cell_type": "markdown",
      "metadata": {
        "id": "G-brytUfiqLA"
      },
      "source": [
        "Some extra works were done on the dates data. As it is only required to derive the latest review date. Therefore from all the dates info extracted for a product, they are re-formatted as integer \"YYYYMMDD\", which they could now be compared. \n",
        "\n",
        "After obtaining the latest review date (largest value), it is stored in latest_review_date list.\n"
      ]
    },
    {
      "cell_type": "markdown",
      "source": [
        "-------------------------------------"
      ],
      "metadata": {
        "id": "XMtKtBlBrtWx"
      }
    },
    {
      "cell_type": "markdown",
      "source": [
        "Let's take a look at the extracted data, they should have the same length. \n",
        "\n",
        "We can see that ids, dates, revieiws summary and reviews text are parsed and stored correctly."
      ],
      "metadata": {
        "id": "jQK6AbPcrvuv"
      }
    },
    {
      "cell_type": "code",
      "source": [
        "# Checking length of extracted lists\n",
        "len(prod_text) == len(prod_id) == len(review_sum) == len(latest_review_date)"
      ],
      "metadata": {
        "colab": {
          "base_uri": "https://localhost:8080/",
          "height": 0
        },
        "id": "smzE_8Hn9KMB",
        "outputId": "a1ad459d-70f9-4042-a2d0-ab3ba2177199"
      },
      "execution_count": 6,
      "outputs": [
        {
          "output_type": "execute_result",
          "data": {
            "text/plain": [
              "True"
            ]
          },
          "metadata": {},
          "execution_count": 6
        }
      ]
    },
    {
      "cell_type": "markdown",
      "metadata": {
        "id": "ZtwS6ttqiqLA"
      },
      "source": [
        "<div class=\"alert alert-block alert-info\">\n",
        "    \n",
        "### 4.3. Convert Extracted Data into DataFrame <a class=\"anchor\" name=\"df\"></a>\n",
        "When all data are extracted successfully, they could be assigned to a dictionary. As the lists created from the loop are in order, if there are no misisng values, the DataFrame is correctly built."
      ]
    },
    {
      "cell_type": "code",
      "source": [
        "# Create dataframe\n",
        "df = pd.DataFrame({\"PID\":prod_id, \"product_review\":prod_text, \"review_summary\":review_sum, \"latest_review_date\":latest_review_date})\n"
      ],
      "metadata": {
        "id": "uRsQa_NTUdJZ"
      },
      "execution_count": 7,
      "outputs": []
    },
    {
      "cell_type": "code",
      "source": [
        "# Check for missing values\n",
        "df.sum().isna()"
      ],
      "metadata": {
        "colab": {
          "base_uri": "https://localhost:8080/",
          "height": 0
        },
        "id": "Db6zCvBvWtLz",
        "outputId": "719cc098-d44d-4969-918d-d428ad3b5bbf"
      },
      "execution_count": 8,
      "outputs": [
        {
          "output_type": "execute_result",
          "data": {
            "text/plain": [
              "PID                   False\n",
              "product_review        False\n",
              "review_summary        False\n",
              "latest_review_date    False\n",
              "dtype: bool"
            ]
          },
          "metadata": {},
          "execution_count": 8
        }
      ]
    },
    {
      "cell_type": "markdown",
      "metadata": {
        "id": "7g9k9Fb8iqLB"
      },
      "source": [
        "-------------------------------------"
      ]
    },
    {
      "cell_type": "markdown",
      "metadata": {
        "collapsed": true,
        "id": "KVwmp1LfiqLE"
      },
      "source": [
        "<div class=\"alert alert-block alert-warning\"> \n",
        "\n",
        "## 5.  Writing to an CSV File <a class=\"anchor\" name=\"write\"></a>\n",
        "\n",
        "</div>"
      ]
    },
    {
      "cell_type": "markdown",
      "source": [
        "As the dataframe is created, it can now be outputed as a csv file using one of the pandas method: to_csv.\n"
      ],
      "metadata": {
        "id": "I1ECP8gJnFq9"
      }
    },
    {
      "cell_type": "code",
      "source": [
        "# Export dataframe as a csv file to mydrive\n",
        "# Set up directory\n",
        "os.chdir(\"/content/drive/MyDrive/\")\n",
        "\n",
        "# Writing file as csv, neglect index when exporting dataframe\n",
        "df.to_csv(\"32973381.csv\", index = False, mode = \"w\", encoding = \"UTF-8\")"
      ],
      "metadata": {
        "id": "A0R7Edd5W6ol"
      },
      "execution_count": 9,
      "outputs": []
    },
    {
      "cell_type": "markdown",
      "metadata": {
        "id": "i0WT10TJiqLE"
      },
      "source": [
        "-------------------------------------"
      ]
    },
    {
      "cell_type": "markdown",
      "metadata": {
        "collapsed": true,
        "id": "3XcaJBATiqLE"
      },
      "source": [
        "<div class=\"alert alert-block alert-info\">\n",
        "    \n",
        "### 5.1. Verification of the Generated CSV File <a class=\"anchor\" name=\"test_xml\"></a>"
      ]
    },
    {
      "cell_type": "markdown",
      "metadata": {
        "id": "jEg_xQdXiqLF"
      },
      "source": [
        "To verify our output, the csv can be read again using the read_csv metho, to check all the data inside "
      ]
    },
    {
      "cell_type": "code",
      "source": [
        "# Set up directory\n",
        "os.chdir(\"/content/drive/MyDrive/\")\n",
        "\n",
        "# Read csv\n",
        "df_read = pd.read_csv(\"32973381.csv\", encoding = \"UTF-8\")"
      ],
      "metadata": {
        "id": "lAvwDvsllL91"
      },
      "execution_count": 10,
      "outputs": []
    },
    {
      "cell_type": "code",
      "source": [
        "# Display dataframe\n",
        "df_read"
      ],
      "metadata": {
        "colab": {
          "base_uri": "https://localhost:8080/",
          "height": 424
        },
        "id": "7Xx4Z7vgnqF3",
        "outputId": "6996ac6f-8113-4aa5-9ae6-50593be92fa2"
      },
      "execution_count": 11,
      "outputs": [
        {
          "output_type": "execute_result",
          "data": {
            "text/plain": [
              "            PID                                     product_review  \\\n",
              "0    B00006JLOS  [\"This is the third time the lens mechanism ha...   \n",
              "1    B00008OE46  ['I bought this camera back when they were abo...   \n",
              "2    B00008WIX5  [\"So you say you want to get those follow shot...   \n",
              "3    B000094AE4  ['I had bought this to upgrade my Cisco ASA 55...   \n",
              "4    B00009R8DD  ['Works great. I see alot of people end up tap...   \n",
              "..          ...                                                ...   \n",
              "495  B00L2RFDJS  ['People are actually paying for a summary of ...   \n",
              "496  B00LADEH0U  [\"This is not your typical romance story.  If ...   \n",
              "497  B00LCP768G  [\"Granted this book is free but it's no excuse...   \n",
              "498  B00LJDDE5A  ['I found while reading &#34;Healing Your Inne...   \n",
              "499  B00LK6TRMK  ['I have been looking for a diet that would he...   \n",
              "\n",
              "                                        review_summary latest_review_date  \n",
              "0    ['Weak lens ruins a good camera for third time...         09/05/2014  \n",
              "1    [\"worked so well I'm buying another\", 'DURABLE...         09/05/2013  \n",
              "2    ['A well-priced inventive dolly solution!', 'F...         03/07/2014  \n",
              "3    ['Works but not exactly as I was expecting', '...         18/06/2014  \n",
              "4    ['Perfect for its application', 'Works but.......         19/05/2014  \n",
              "..                                                 ...                ...  \n",
              "495  ['To read a book or not to read; that is the q...         21/07/2014  \n",
              "496  ['A Dark and Gritty Romance', 'Intense!! Smoki...         22/07/2014  \n",
              "497  ['Editor needed', 'Three Stars', 'Great natura...         17/07/2014  \n",
              "498  ['Looking within to Heal!', 'Very interesting'...         22/07/2014  \n",
              "499  ['Very good cookbook', 'Great!', 'Low Choleste...         22/07/2014  \n",
              "\n",
              "[500 rows x 4 columns]"
            ],
            "text/html": [
              "\n",
              "  <div id=\"df-32cbce46-50a2-4386-b925-57b61e8ea288\">\n",
              "    <div class=\"colab-df-container\">\n",
              "      <div>\n",
              "<style scoped>\n",
              "    .dataframe tbody tr th:only-of-type {\n",
              "        vertical-align: middle;\n",
              "    }\n",
              "\n",
              "    .dataframe tbody tr th {\n",
              "        vertical-align: top;\n",
              "    }\n",
              "\n",
              "    .dataframe thead th {\n",
              "        text-align: right;\n",
              "    }\n",
              "</style>\n",
              "<table border=\"1\" class=\"dataframe\">\n",
              "  <thead>\n",
              "    <tr style=\"text-align: right;\">\n",
              "      <th></th>\n",
              "      <th>PID</th>\n",
              "      <th>product_review</th>\n",
              "      <th>review_summary</th>\n",
              "      <th>latest_review_date</th>\n",
              "    </tr>\n",
              "  </thead>\n",
              "  <tbody>\n",
              "    <tr>\n",
              "      <th>0</th>\n",
              "      <td>B00006JLOS</td>\n",
              "      <td>[\"This is the third time the lens mechanism ha...</td>\n",
              "      <td>['Weak lens ruins a good camera for third time...</td>\n",
              "      <td>09/05/2014</td>\n",
              "    </tr>\n",
              "    <tr>\n",
              "      <th>1</th>\n",
              "      <td>B00008OE46</td>\n",
              "      <td>['I bought this camera back when they were abo...</td>\n",
              "      <td>[\"worked so well I'm buying another\", 'DURABLE...</td>\n",
              "      <td>09/05/2013</td>\n",
              "    </tr>\n",
              "    <tr>\n",
              "      <th>2</th>\n",
              "      <td>B00008WIX5</td>\n",
              "      <td>[\"So you say you want to get those follow shot...</td>\n",
              "      <td>['A well-priced inventive dolly solution!', 'F...</td>\n",
              "      <td>03/07/2014</td>\n",
              "    </tr>\n",
              "    <tr>\n",
              "      <th>3</th>\n",
              "      <td>B000094AE4</td>\n",
              "      <td>['I had bought this to upgrade my Cisco ASA 55...</td>\n",
              "      <td>['Works but not exactly as I was expecting', '...</td>\n",
              "      <td>18/06/2014</td>\n",
              "    </tr>\n",
              "    <tr>\n",
              "      <th>4</th>\n",
              "      <td>B00009R8DD</td>\n",
              "      <td>['Works great. I see alot of people end up tap...</td>\n",
              "      <td>['Perfect for its application', 'Works but.......</td>\n",
              "      <td>19/05/2014</td>\n",
              "    </tr>\n",
              "    <tr>\n",
              "      <th>...</th>\n",
              "      <td>...</td>\n",
              "      <td>...</td>\n",
              "      <td>...</td>\n",
              "      <td>...</td>\n",
              "    </tr>\n",
              "    <tr>\n",
              "      <th>495</th>\n",
              "      <td>B00L2RFDJS</td>\n",
              "      <td>['People are actually paying for a summary of ...</td>\n",
              "      <td>['To read a book or not to read; that is the q...</td>\n",
              "      <td>21/07/2014</td>\n",
              "    </tr>\n",
              "    <tr>\n",
              "      <th>496</th>\n",
              "      <td>B00LADEH0U</td>\n",
              "      <td>[\"This is not your typical romance story.  If ...</td>\n",
              "      <td>['A Dark and Gritty Romance', 'Intense!! Smoki...</td>\n",
              "      <td>22/07/2014</td>\n",
              "    </tr>\n",
              "    <tr>\n",
              "      <th>497</th>\n",
              "      <td>B00LCP768G</td>\n",
              "      <td>[\"Granted this book is free but it's no excuse...</td>\n",
              "      <td>['Editor needed', 'Three Stars', 'Great natura...</td>\n",
              "      <td>17/07/2014</td>\n",
              "    </tr>\n",
              "    <tr>\n",
              "      <th>498</th>\n",
              "      <td>B00LJDDE5A</td>\n",
              "      <td>['I found while reading &amp;#34;Healing Your Inne...</td>\n",
              "      <td>['Looking within to Heal!', 'Very interesting'...</td>\n",
              "      <td>22/07/2014</td>\n",
              "    </tr>\n",
              "    <tr>\n",
              "      <th>499</th>\n",
              "      <td>B00LK6TRMK</td>\n",
              "      <td>['I have been looking for a diet that would he...</td>\n",
              "      <td>['Very good cookbook', 'Great!', 'Low Choleste...</td>\n",
              "      <td>22/07/2014</td>\n",
              "    </tr>\n",
              "  </tbody>\n",
              "</table>\n",
              "<p>500 rows × 4 columns</p>\n",
              "</div>\n",
              "      <button class=\"colab-df-convert\" onclick=\"convertToInteractive('df-32cbce46-50a2-4386-b925-57b61e8ea288')\"\n",
              "              title=\"Convert this dataframe to an interactive table.\"\n",
              "              style=\"display:none;\">\n",
              "        \n",
              "  <svg xmlns=\"http://www.w3.org/2000/svg\" height=\"24px\"viewBox=\"0 0 24 24\"\n",
              "       width=\"24px\">\n",
              "    <path d=\"M0 0h24v24H0V0z\" fill=\"none\"/>\n",
              "    <path d=\"M18.56 5.44l.94 2.06.94-2.06 2.06-.94-2.06-.94-.94-2.06-.94 2.06-2.06.94zm-11 1L8.5 8.5l.94-2.06 2.06-.94-2.06-.94L8.5 2.5l-.94 2.06-2.06.94zm10 10l.94 2.06.94-2.06 2.06-.94-2.06-.94-.94-2.06-.94 2.06-2.06.94z\"/><path d=\"M17.41 7.96l-1.37-1.37c-.4-.4-.92-.59-1.43-.59-.52 0-1.04.2-1.43.59L10.3 9.45l-7.72 7.72c-.78.78-.78 2.05 0 2.83L4 21.41c.39.39.9.59 1.41.59.51 0 1.02-.2 1.41-.59l7.78-7.78 2.81-2.81c.8-.78.8-2.07 0-2.86zM5.41 20L4 18.59l7.72-7.72 1.47 1.35L5.41 20z\"/>\n",
              "  </svg>\n",
              "      </button>\n",
              "      \n",
              "  <style>\n",
              "    .colab-df-container {\n",
              "      display:flex;\n",
              "      flex-wrap:wrap;\n",
              "      gap: 12px;\n",
              "    }\n",
              "\n",
              "    .colab-df-convert {\n",
              "      background-color: #E8F0FE;\n",
              "      border: none;\n",
              "      border-radius: 50%;\n",
              "      cursor: pointer;\n",
              "      display: none;\n",
              "      fill: #1967D2;\n",
              "      height: 32px;\n",
              "      padding: 0 0 0 0;\n",
              "      width: 32px;\n",
              "    }\n",
              "\n",
              "    .colab-df-convert:hover {\n",
              "      background-color: #E2EBFA;\n",
              "      box-shadow: 0px 1px 2px rgba(60, 64, 67, 0.3), 0px 1px 3px 1px rgba(60, 64, 67, 0.15);\n",
              "      fill: #174EA6;\n",
              "    }\n",
              "\n",
              "    [theme=dark] .colab-df-convert {\n",
              "      background-color: #3B4455;\n",
              "      fill: #D2E3FC;\n",
              "    }\n",
              "\n",
              "    [theme=dark] .colab-df-convert:hover {\n",
              "      background-color: #434B5C;\n",
              "      box-shadow: 0px 1px 3px 1px rgba(0, 0, 0, 0.15);\n",
              "      filter: drop-shadow(0px 1px 2px rgba(0, 0, 0, 0.3));\n",
              "      fill: #FFFFFF;\n",
              "    }\n",
              "  </style>\n",
              "\n",
              "      <script>\n",
              "        const buttonEl =\n",
              "          document.querySelector('#df-32cbce46-50a2-4386-b925-57b61e8ea288 button.colab-df-convert');\n",
              "        buttonEl.style.display =\n",
              "          google.colab.kernel.accessAllowed ? 'block' : 'none';\n",
              "\n",
              "        async function convertToInteractive(key) {\n",
              "          const element = document.querySelector('#df-32cbce46-50a2-4386-b925-57b61e8ea288');\n",
              "          const dataTable =\n",
              "            await google.colab.kernel.invokeFunction('convertToInteractive',\n",
              "                                                     [key], {});\n",
              "          if (!dataTable) return;\n",
              "\n",
              "          const docLinkHtml = 'Like what you see? Visit the ' +\n",
              "            '<a target=\"_blank\" href=https://colab.research.google.com/notebooks/data_table.ipynb>data table notebook</a>'\n",
              "            + ' to learn more about interactive tables.';\n",
              "          element.innerHTML = '';\n",
              "          dataTable['output_type'] = 'display_data';\n",
              "          await google.colab.output.renderOutput(dataTable, element);\n",
              "          const docLink = document.createElement('div');\n",
              "          docLink.innerHTML = docLinkHtml;\n",
              "          element.appendChild(docLink);\n",
              "        }\n",
              "      </script>\n",
              "    </div>\n",
              "  </div>\n",
              "  "
            ]
          },
          "metadata": {},
          "execution_count": 11
        }
      ]
    },
    {
      "cell_type": "markdown",
      "source": [
        "Check for data loss when reading csv file"
      ],
      "metadata": {
        "id": "B7G_CKgyoNSu"
      }
    },
    {
      "cell_type": "code",
      "source": [
        "# check for missing values\n",
        "df_read.sum().isna()"
      ],
      "metadata": {
        "colab": {
          "base_uri": "https://localhost:8080/",
          "height": 0
        },
        "id": "39BFReI3oNxp",
        "outputId": "340d8074-e0bb-463b-bbf5-2b0096c05d8c"
      },
      "execution_count": 12,
      "outputs": [
        {
          "output_type": "execute_result",
          "data": {
            "text/plain": [
              "PID                   False\n",
              "product_review        False\n",
              "review_summary        False\n",
              "latest_review_date    False\n",
              "dtype: bool"
            ]
          },
          "metadata": {},
          "execution_count": 12
        }
      ]
    },
    {
      "cell_type": "markdown",
      "source": [
        "Check if data is consistent to the original dataframe"
      ],
      "metadata": {
        "id": "zD9E2OayoONk"
      }
    },
    {
      "cell_type": "code",
      "source": [
        "df_read == df"
      ],
      "metadata": {
        "colab": {
          "base_uri": "https://localhost:8080/",
          "height": 424
        },
        "id": "OFJHXJw2oOoi",
        "outputId": "d78d2cbb-b5f5-4ef6-e229-57baf634651d"
      },
      "execution_count": 13,
      "outputs": [
        {
          "output_type": "execute_result",
          "data": {
            "text/plain": [
              "      PID  product_review  review_summary  latest_review_date\n",
              "0    True            True            True                True\n",
              "1    True            True            True                True\n",
              "2    True            True            True                True\n",
              "3    True            True            True                True\n",
              "4    True            True            True                True\n",
              "..    ...             ...             ...                 ...\n",
              "495  True            True            True                True\n",
              "496  True            True            True                True\n",
              "497  True            True            True                True\n",
              "498  True            True            True                True\n",
              "499  True            True            True                True\n",
              "\n",
              "[500 rows x 4 columns]"
            ],
            "text/html": [
              "\n",
              "  <div id=\"df-f0dce007-7e89-40ef-acbc-b7f76d67f8fd\">\n",
              "    <div class=\"colab-df-container\">\n",
              "      <div>\n",
              "<style scoped>\n",
              "    .dataframe tbody tr th:only-of-type {\n",
              "        vertical-align: middle;\n",
              "    }\n",
              "\n",
              "    .dataframe tbody tr th {\n",
              "        vertical-align: top;\n",
              "    }\n",
              "\n",
              "    .dataframe thead th {\n",
              "        text-align: right;\n",
              "    }\n",
              "</style>\n",
              "<table border=\"1\" class=\"dataframe\">\n",
              "  <thead>\n",
              "    <tr style=\"text-align: right;\">\n",
              "      <th></th>\n",
              "      <th>PID</th>\n",
              "      <th>product_review</th>\n",
              "      <th>review_summary</th>\n",
              "      <th>latest_review_date</th>\n",
              "    </tr>\n",
              "  </thead>\n",
              "  <tbody>\n",
              "    <tr>\n",
              "      <th>0</th>\n",
              "      <td>True</td>\n",
              "      <td>True</td>\n",
              "      <td>True</td>\n",
              "      <td>True</td>\n",
              "    </tr>\n",
              "    <tr>\n",
              "      <th>1</th>\n",
              "      <td>True</td>\n",
              "      <td>True</td>\n",
              "      <td>True</td>\n",
              "      <td>True</td>\n",
              "    </tr>\n",
              "    <tr>\n",
              "      <th>2</th>\n",
              "      <td>True</td>\n",
              "      <td>True</td>\n",
              "      <td>True</td>\n",
              "      <td>True</td>\n",
              "    </tr>\n",
              "    <tr>\n",
              "      <th>3</th>\n",
              "      <td>True</td>\n",
              "      <td>True</td>\n",
              "      <td>True</td>\n",
              "      <td>True</td>\n",
              "    </tr>\n",
              "    <tr>\n",
              "      <th>4</th>\n",
              "      <td>True</td>\n",
              "      <td>True</td>\n",
              "      <td>True</td>\n",
              "      <td>True</td>\n",
              "    </tr>\n",
              "    <tr>\n",
              "      <th>...</th>\n",
              "      <td>...</td>\n",
              "      <td>...</td>\n",
              "      <td>...</td>\n",
              "      <td>...</td>\n",
              "    </tr>\n",
              "    <tr>\n",
              "      <th>495</th>\n",
              "      <td>True</td>\n",
              "      <td>True</td>\n",
              "      <td>True</td>\n",
              "      <td>True</td>\n",
              "    </tr>\n",
              "    <tr>\n",
              "      <th>496</th>\n",
              "      <td>True</td>\n",
              "      <td>True</td>\n",
              "      <td>True</td>\n",
              "      <td>True</td>\n",
              "    </tr>\n",
              "    <tr>\n",
              "      <th>497</th>\n",
              "      <td>True</td>\n",
              "      <td>True</td>\n",
              "      <td>True</td>\n",
              "      <td>True</td>\n",
              "    </tr>\n",
              "    <tr>\n",
              "      <th>498</th>\n",
              "      <td>True</td>\n",
              "      <td>True</td>\n",
              "      <td>True</td>\n",
              "      <td>True</td>\n",
              "    </tr>\n",
              "    <tr>\n",
              "      <th>499</th>\n",
              "      <td>True</td>\n",
              "      <td>True</td>\n",
              "      <td>True</td>\n",
              "      <td>True</td>\n",
              "    </tr>\n",
              "  </tbody>\n",
              "</table>\n",
              "<p>500 rows × 4 columns</p>\n",
              "</div>\n",
              "      <button class=\"colab-df-convert\" onclick=\"convertToInteractive('df-f0dce007-7e89-40ef-acbc-b7f76d67f8fd')\"\n",
              "              title=\"Convert this dataframe to an interactive table.\"\n",
              "              style=\"display:none;\">\n",
              "        \n",
              "  <svg xmlns=\"http://www.w3.org/2000/svg\" height=\"24px\"viewBox=\"0 0 24 24\"\n",
              "       width=\"24px\">\n",
              "    <path d=\"M0 0h24v24H0V0z\" fill=\"none\"/>\n",
              "    <path d=\"M18.56 5.44l.94 2.06.94-2.06 2.06-.94-2.06-.94-.94-2.06-.94 2.06-2.06.94zm-11 1L8.5 8.5l.94-2.06 2.06-.94-2.06-.94L8.5 2.5l-.94 2.06-2.06.94zm10 10l.94 2.06.94-2.06 2.06-.94-2.06-.94-.94-2.06-.94 2.06-2.06.94z\"/><path d=\"M17.41 7.96l-1.37-1.37c-.4-.4-.92-.59-1.43-.59-.52 0-1.04.2-1.43.59L10.3 9.45l-7.72 7.72c-.78.78-.78 2.05 0 2.83L4 21.41c.39.39.9.59 1.41.59.51 0 1.02-.2 1.41-.59l7.78-7.78 2.81-2.81c.8-.78.8-2.07 0-2.86zM5.41 20L4 18.59l7.72-7.72 1.47 1.35L5.41 20z\"/>\n",
              "  </svg>\n",
              "      </button>\n",
              "      \n",
              "  <style>\n",
              "    .colab-df-container {\n",
              "      display:flex;\n",
              "      flex-wrap:wrap;\n",
              "      gap: 12px;\n",
              "    }\n",
              "\n",
              "    .colab-df-convert {\n",
              "      background-color: #E8F0FE;\n",
              "      border: none;\n",
              "      border-radius: 50%;\n",
              "      cursor: pointer;\n",
              "      display: none;\n",
              "      fill: #1967D2;\n",
              "      height: 32px;\n",
              "      padding: 0 0 0 0;\n",
              "      width: 32px;\n",
              "    }\n",
              "\n",
              "    .colab-df-convert:hover {\n",
              "      background-color: #E2EBFA;\n",
              "      box-shadow: 0px 1px 2px rgba(60, 64, 67, 0.3), 0px 1px 3px 1px rgba(60, 64, 67, 0.15);\n",
              "      fill: #174EA6;\n",
              "    }\n",
              "\n",
              "    [theme=dark] .colab-df-convert {\n",
              "      background-color: #3B4455;\n",
              "      fill: #D2E3FC;\n",
              "    }\n",
              "\n",
              "    [theme=dark] .colab-df-convert:hover {\n",
              "      background-color: #434B5C;\n",
              "      box-shadow: 0px 1px 3px 1px rgba(0, 0, 0, 0.15);\n",
              "      filter: drop-shadow(0px 1px 2px rgba(0, 0, 0, 0.3));\n",
              "      fill: #FFFFFF;\n",
              "    }\n",
              "  </style>\n",
              "\n",
              "      <script>\n",
              "        const buttonEl =\n",
              "          document.querySelector('#df-f0dce007-7e89-40ef-acbc-b7f76d67f8fd button.colab-df-convert');\n",
              "        buttonEl.style.display =\n",
              "          google.colab.kernel.accessAllowed ? 'block' : 'none';\n",
              "\n",
              "        async function convertToInteractive(key) {\n",
              "          const element = document.querySelector('#df-f0dce007-7e89-40ef-acbc-b7f76d67f8fd');\n",
              "          const dataTable =\n",
              "            await google.colab.kernel.invokeFunction('convertToInteractive',\n",
              "                                                     [key], {});\n",
              "          if (!dataTable) return;\n",
              "\n",
              "          const docLinkHtml = 'Like what you see? Visit the ' +\n",
              "            '<a target=\"_blank\" href=https://colab.research.google.com/notebooks/data_table.ipynb>data table notebook</a>'\n",
              "            + ' to learn more about interactive tables.';\n",
              "          element.innerHTML = '';\n",
              "          dataTable['output_type'] = 'display_data';\n",
              "          await google.colab.output.renderOutput(dataTable, element);\n",
              "          const docLink = document.createElement('div');\n",
              "          docLink.innerHTML = docLinkHtml;\n",
              "          element.appendChild(docLink);\n",
              "        }\n",
              "      </script>\n",
              "    </div>\n",
              "  </div>\n",
              "  "
            ]
          },
          "metadata": {},
          "execution_count": 13
        }
      ]
    },
    {
      "cell_type": "markdown",
      "metadata": {
        "id": "20RDw_JDiqLF"
      },
      "source": [
        "-------------------------------------"
      ]
    },
    {
      "cell_type": "markdown",
      "metadata": {
        "id": "cO8vwKqkiqLF"
      },
      "source": [
        "<div class=\"alert alert-block alert-warning\"> \n",
        "\n",
        "## 6. Summary <a class=\"anchor\" name=\"summary\"></a>\n",
        "\n",
        "</div>"
      ]
    },
    {
      "cell_type": "markdown",
      "metadata": {
        "id": "4QdX7ozQiqLF"
      },
      "source": [
        "From all the process, it can be told that with the correct regular expression method set up, and parsing properly, data could be extracted quickly.\n",
        "\n",
        "It is also worth mentioning that due to the word limit of a Microsoft excel's cell (limit of 32759 characters), the csv output to an excel file may not be 100% accurate. The word limits setting may cause error to the file structure.\n",
        "\n",
        "If the csv file will be read directly using the pandas library or other data processing applications, then it should not be a problem.\n",
        "\n",
        "However, if Microsoft excel is a desired format of output for some reason, the data might need to be parsed again, one of the suggestion is as follow:\n",
        "\n",
        "```\n",
        "for idx, value in zip(df.index, df[\"product_review\"]):\n",
        "  if len(df[\"product_review\"][idx]) > 32758:\n",
        "    df[\"product_review\"][idx] = df[\"product_review\"][idx][:32758]\n",
        "```"
      ]
    },
    {
      "cell_type": "markdown",
      "source": [
        "Although some information could be loss as this method shorten the values in a cell in order to fit into a cell, this might be useful if certain degree of loss of data is acceptable."
      ],
      "metadata": {
        "id": "1bVGbu_NtZya"
      }
    },
    {
      "cell_type": "markdown",
      "metadata": {
        "id": "TnASfTmniqLF"
      },
      "source": [
        "-------------------------------------"
      ]
    },
    {
      "cell_type": "markdown",
      "metadata": {
        "id": "Li7bchX9iqLF"
      },
      "source": [
        "<div class=\"alert alert-block alert-warning\"> \n",
        "\n",
        "## 7. References <a class=\"anchor\" name=\"Ref\"></a>\n",
        "\n",
        "</div>"
      ]
    },
    {
      "cell_type": "markdown",
      "metadata": {
        "id": "TkWuWC3NiqLF"
      },
      "source": [
        "\n",
        "\n",
        "[1]<a class=\"anchor\" name=\"ref-2\"></a> Pandas documentation on DataFrame method,https://pandas.pydata.org/docs/reference/api/pandas.DataFrame.html, Accessed on 23/08/2022\n",
        "\n",
        "[2]<a class=\"anchor\" name=\"ref-2\"></a> Pandas documentation on DataFrame.to_csv method, https://pandas.pydata.org/docs/reference/api/pandas.DataFrame.to_csv.html, Accessed on 23/08/2022\n",
        "\n",
        "[3] Stack Overflow discussion on how to match all characters with regular expression, https://stackoverflow.com/questions/2912894/how-to-match-any-character-in-regular-expression, Accessed on 23/08/2022\n",
        "\n",
        "[4] Regular expression cheat sheet on Geeksforgeeks, https://www.geeksforgeeks.org/python-regex-cheat-sheet/, Accessed on 23/08/2022\n",
        "\n",
        "[5] Regex tester. https://regex101.com/. Accessed on 22/08/2022"
      ]
    },
    {
      "cell_type": "markdown",
      "metadata": {
        "id": "dVyuz4LciqLG"
      },
      "source": [
        "## --------------------------------------------------------------------------------------------------------------------------"
      ]
    }
  ],
  "metadata": {
    "kernelspec": {
      "display_name": "Python 3",
      "language": "python",
      "name": "python3"
    },
    "language_info": {
      "codemirror_mode": {
        "name": "ipython",
        "version": 3
      },
      "file_extension": ".py",
      "mimetype": "text/x-python",
      "name": "python",
      "nbconvert_exporter": "python",
      "pygments_lexer": "ipython3",
      "version": "3.6.9"
    },
    "colab": {
      "name": "task1_32973381.ipynb",
      "provenance": [],
      "collapsed_sections": []
    }
  },
  "nbformat": 4,
  "nbformat_minor": 0
}