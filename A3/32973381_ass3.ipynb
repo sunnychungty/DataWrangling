{
  "cells": [
    {
      "cell_type": "markdown",
      "metadata": {
        "id": "UfqNg2dhMzrx"
      },
      "source": [
        "<div class=\"alert alert-block alert-success\">\n",
        "    \n",
        "# FIT5196 Assessment 3\n",
        "#### Student Name: Tsz Yan CHUNG\n",
        "#### Student ID: 32973381\n",
        "\n",
        "Date: 13/10/2022\n",
        "\n",
        "\n",
        "Environment: Google colab\n",
        "\n",
        "</div>"
      ]
    },
    {
      "cell_type": "markdown",
      "metadata": {
        "id": "qqSvU-r73mui"
      },
      "source": [
        "-------------------------------------"
      ]
    },
    {
      "cell_type": "markdown",
      "metadata": {
        "id": "bW-fsoFM3kGY"
      },
      "source": [
        "<div class=\"alert alert-block alert-danger\">\n",
        "    \n",
        "## Table of Contents\n",
        "\n",
        "</div>    \n",
        "\n",
        "[1. Introduction](#Intro) <br>\n",
        "[2. Importing Libraries](#libs) <br>\n",
        "[3. Task 1: Data Integration](#t1) <br>\n",
        "$\\;\\;\\;\\;$[3.1 Solve for Suburb column](#sub) <br>\n",
        "$\\;\\;\\;\\;$[3.2 Solve for closest train station id and distance](#id-dist) <br>\n",
        "$\\;\\;\\;\\;$[3.3 Solve for average travel time from station to CBD](#time) <br>\n",
        "$\\;\\;\\;\\;$[3.4 Check if a property is over-priced](#op) <br>\n",
        "$\\;\\;\\;\\;$[3.5 Solve for average number of crime](#crime) <br>\n",
        "$\\;\\;\\;\\;$[3.6 Export csv file](#write) <br>\n",
        "[4. Task 2: Data Reshaping](#t2) <br>\n",
        "$\\;\\;\\;\\;\\;\\;\\;$[4.1 Normalization](#norm) <br>\n",
        "$\\;\\;\\;\\;\\;\\;\\;$[4.1.1 Z-Score Normalization](#zscore) <br>\n",
        "$\\;\\;\\;\\;\\;\\;\\;$[4.1.2 Min-max Normalization](#minmax) <br>\n",
        "$\\;\\;\\;\\;\\;\\;\\;$[4.2 Tranformation](#tran) <br>\n",
        "$\\;\\;\\;\\;\\;\\;\\;$[4.2.1 Root tranformation](#rt) <br>\n",
        "$\\;\\;\\;\\;\\;\\;\\;$[4.2.2 Power tranformation](#sq) <br>\n",
        "$\\;\\;\\;\\;\\;\\;\\;$[4.2.3 Log tranformation](#log) <br>\n",
        "[4.3. Conclusion](#conclude) <br>\n"
      ]
    },
    {
      "cell_type": "markdown",
      "metadata": {
        "id": "3peOiYO24xIf"
      },
      "source": [
        "-------------------------------------"
      ]
    },
    {
      "cell_type": "markdown",
      "metadata": {
        "id": "J22ShqTlkr3P"
      },
      "source": [
        "<div class=\"alert alert-block alert-warning\">\n",
        "\n",
        "## 1.  Introduction  <a class=\"anchor\" name=\"Intro\"></a>\n",
        "    \n",
        "</div>"
      ]
    },
    {
      "cell_type": "markdown",
      "metadata": {
        "id": "MMCY5I413q49"
      },
      "source": [
        "Two major tasks will be performed in this assessment:\n",
        "\n",
        "1. Data Integration\n",
        "2. Data Reshaping\n",
        "\n",
        "These tasks will be performed separately, while some of them might provide insight in other tasks.\n",
        "\n",
        "This notebook aims to demonstrate the methodology to achieve the correct result.\n",
        "\n",
        "** Note to audience:\n",
        "In step 3.1, a zip file has to be extracted to conducted certain task. The directory is set to be my drive, which might not be accessible to everyone. Please remeber to change to extract directory before running the code, so that the whole ipynb file could run properly. \n",
        "\n",
        "Also in step 3.1, one of the codes might take up to 2 minutes to run, you patience is really appreciated."
      ]
    },
    {
      "cell_type": "markdown",
      "metadata": {
        "id": "0XcRrFFEkzWp"
      },
      "source": [
        "-------------------------------------"
      ]
    },
    {
      "cell_type": "markdown",
      "metadata": {
        "id": "4UP6FDD6OxpZ"
      },
      "source": [
        "<div class=\"alert alert-block alert-warning\">\n",
        "    \n",
        "## 2. Import Libraries, set up directories, and parse data  <a class=\"anchor\" name=\"libs\"></a>\n",
        " </div>"
      ]
    },
    {
      "cell_type": "code",
      "execution_count": 1,
      "metadata": {
        "colab": {
          "base_uri": "https://localhost:8080/"
        },
        "id": "-W5fKPal6RFN",
        "outputId": "f40c15b0-383b-4481-e3ea-660c89d6ef70"
      },
      "outputs": [
        {
          "output_type": "stream",
          "name": "stdout",
          "text": [
            "Looking in indexes: https://pypi.org/simple, https://us-python.pkg.dev/colab-wheels/public/simple/\n",
            "Requirement already satisfied: geopandas in /usr/local/lib/python3.7/dist-packages (0.10.2)\n",
            "Requirement already satisfied: fiona>=1.8 in /usr/local/lib/python3.7/dist-packages (from geopandas) (1.8.22)\n",
            "Requirement already satisfied: shapely>=1.6 in /usr/local/lib/python3.7/dist-packages (from geopandas) (1.8.5.post1)\n",
            "Requirement already satisfied: pyproj>=2.2.0 in /usr/local/lib/python3.7/dist-packages (from geopandas) (3.2.1)\n",
            "Requirement already satisfied: pandas>=0.25.0 in /usr/local/lib/python3.7/dist-packages (from geopandas) (1.3.5)\n",
            "Requirement already satisfied: cligj>=0.5 in /usr/local/lib/python3.7/dist-packages (from fiona>=1.8->geopandas) (0.7.2)\n",
            "Requirement already satisfied: six>=1.7 in /usr/local/lib/python3.7/dist-packages (from fiona>=1.8->geopandas) (1.15.0)\n",
            "Requirement already satisfied: attrs>=17 in /usr/local/lib/python3.7/dist-packages (from fiona>=1.8->geopandas) (22.1.0)\n",
            "Requirement already satisfied: click-plugins>=1.0 in /usr/local/lib/python3.7/dist-packages (from fiona>=1.8->geopandas) (1.1.1)\n",
            "Requirement already satisfied: click>=4.0 in /usr/local/lib/python3.7/dist-packages (from fiona>=1.8->geopandas) (7.1.2)\n",
            "Requirement already satisfied: munch in /usr/local/lib/python3.7/dist-packages (from fiona>=1.8->geopandas) (2.5.0)\n",
            "Requirement already satisfied: certifi in /usr/local/lib/python3.7/dist-packages (from fiona>=1.8->geopandas) (2022.9.24)\n",
            "Requirement already satisfied: setuptools in /usr/local/lib/python3.7/dist-packages (from fiona>=1.8->geopandas) (57.4.0)\n",
            "Requirement already satisfied: numpy>=1.17.3 in /usr/local/lib/python3.7/dist-packages (from pandas>=0.25.0->geopandas) (1.21.6)\n",
            "Requirement already satisfied: pytz>=2017.3 in /usr/local/lib/python3.7/dist-packages (from pandas>=0.25.0->geopandas) (2022.5)\n",
            "Requirement already satisfied: python-dateutil>=2.7.3 in /usr/local/lib/python3.7/dist-packages (from pandas>=0.25.0->geopandas) (2.8.2)\n"
          ]
        }
      ],
      "source": [
        "# import libraries\n",
        "!pip install geopandas\n",
        "import os\n",
        "import re\n",
        "import numpy as np\n",
        "import pandas as pd\n",
        "import geopandas as gpd\n",
        "from datetime import datetime as dt\n",
        "from zipfile import ZipFile\n",
        "from shapely.geometry import Point, Polygon, shape\n",
        "from geopandas.tools import sjoin\n",
        "from math import radians, cos, sin, atan2, sqrt, asin\n",
        "from sklearn import preprocessing\n",
        "import datetime\n",
        "from tqdm import tqdm\n",
        "import math"
      ]
    },
    {
      "cell_type": "code",
      "execution_count": 2,
      "metadata": {
        "colab": {
          "base_uri": "https://localhost:8080/"
        },
        "id": "PoxgXeJW6Q8t",
        "outputId": "01e0879b-7e04-4438-ad51-685ef5372b4f"
      },
      "outputs": [
        {
          "output_type": "stream",
          "name": "stdout",
          "text": [
            "Drive already mounted at /content/drive; to attempt to forcibly remount, call drive.mount(\"/content/drive\", force_remount=True).\n"
          ]
        }
      ],
      "source": [
        "# This task was conducted on Google colab\n",
        "from google.colab import drive\n",
        "drive.mount('/content/drive') "
      ]
    },
    {
      "cell_type": "code",
      "execution_count": 3,
      "metadata": {
        "colab": {
          "base_uri": "https://localhost:8080/",
          "height": 36
        },
        "id": "uaL1IZHxCpmg",
        "outputId": "03933ea4-d803-4d1c-89e3-312a9441872c"
      },
      "outputs": [
        {
          "output_type": "execute_result",
          "data": {
            "text/plain": [
              "'/content/drive'"
            ],
            "application/vnd.google.colaboratory.intrinsic+json": {
              "type": "string"
            }
          },
          "metadata": {},
          "execution_count": 3
        }
      ],
      "source": [
        "# Set up directories\n",
        "\n",
        "os.chdir(\"/content/drive\")\n",
        "os.getcwd()"
      ]
    },
    {
      "cell_type": "code",
      "execution_count": 4,
      "metadata": {
        "id": "hq7bu5Mh6i20"
      },
      "outputs": [],
      "source": [
        "# Read data file\n",
        "df = pd.read_csv(\"Shareddrives/FIT5196-s2-2022/A3/student_data/32973381.csv\")"
      ]
    },
    {
      "cell_type": "markdown",
      "metadata": {
        "id": "nU-64mK00cPF"
      },
      "source": [
        "It was noticed that the data file contains duplicate rows. These rows will be removed from the data frame. \n",
        "There were 39 rows dropped after such process, and 681 unique rows of data remain in the dataset."
      ]
    },
    {
      "cell_type": "code",
      "execution_count": 5,
      "metadata": {
        "id": "Fo1Yi5ykJxQa"
      },
      "outputs": [],
      "source": [
        "# remove duplicated values\n",
        "\n",
        "df[df.duplicated()]\n",
        "df = df.drop_duplicates()\n",
        "df = df.reset_index(drop = True)"
      ]
    },
    {
      "cell_type": "markdown",
      "metadata": {
        "id": "uE8ZsCOZ1Xsj"
      },
      "source": [
        "For further operation and data wrangling process, the rest of the required files were read in advanced."
      ]
    },
    {
      "cell_type": "code",
      "execution_count": 6,
      "metadata": {
        "id": "9n_dUsn96NuG"
      },
      "outputs": [],
      "source": [
        "# Comabine routes.txt files\n",
        "routes1 = pd.read_csv(\"/content/drive/Shareddrives/FIT5196-s2-2022/A3/gtfs/1/routes.txt\")\n",
        "routes2 = pd.read_csv(\"/content/drive/Shareddrives/FIT5196-s2-2022/A3/gtfs/2/routes.txt\")\n",
        "routes = pd.concat([routes1, routes2])\n",
        "\n",
        "# Comabine trips.txt files\n",
        "trips1 = pd.read_csv(\"/content/drive/Shareddrives/FIT5196-s2-2022/A3/gtfs/1/trips.txt\")\n",
        "trips2 = pd.read_csv(\"/content/drive/Shareddrives/FIT5196-s2-2022/A3/gtfs/2/trips.txt\")\n",
        "trips = pd.concat([trips1, trips2])\n",
        "\n",
        "# Comabine stop_times.txt files\n",
        "stop_time1 = pd.read_csv(\"/content/drive/Shareddrives/FIT5196-s2-2022/A3/gtfs/1/stop_times.txt\")\n",
        "stop_time2 = pd.read_csv(\"/content/drive/Shareddrives/FIT5196-s2-2022/A3/gtfs/2/stop_times.txt\")\n",
        "stop_time = pd.concat([stop_time1, stop_time2], ignore_index = True)\n",
        "\n",
        "# Comabine calendar.txt files\n",
        "calendar1 = pd.read_csv(\"/content/drive/Shareddrives/FIT5196-s2-2022/A3/gtfs/1/calendar.txt\")\n",
        "calendar2 = pd.read_csv(\"/content/drive/Shareddrives/FIT5196-s2-2022/A3/gtfs/2/calendar.txt\")\n",
        "calendar = pd.concat([calendar1, calendar2], ignore_index = True)\n",
        "\n",
        "# Comabine shapes.txt files\n",
        "shapes1 = pd.read_csv(\"/content/drive/Shareddrives/FIT5196-s2-2022/A3/gtfs/1/shapes.txt\")\n",
        "shapes2 = pd.read_csv(\"/content/drive/Shareddrives/FIT5196-s2-2022/A3/gtfs/2/shapes.txt\")\n",
        "shapes = pd.concat([shapes1, shapes2])\n",
        "\n",
        "# Comabine stops.txt files\n",
        "train_stops1 = pd.read_csv(\"/content/drive/Shareddrives/FIT5196-s2-2022/A3/gtfs/1/stops.txt\")\n",
        "train_stops2 = pd.read_csv(\"/content/drive/Shareddrives/FIT5196-s2-2022/A3/gtfs/2/stops.txt\")\n",
        "train_stops = pd.concat([train_stops1, train_stops2])"
      ]
    },
    {
      "cell_type": "markdown",
      "metadata": {
        "id": "TDO9McM_4y6v"
      },
      "source": [
        "-------------------------------------"
      ]
    },
    {
      "cell_type": "markdown",
      "source": [
        "<div class=\"alert alert-block alert-warning\">\n",
        "\n",
        "## 3. Task 1: Data Intergration<a class=\"anchor\" name=\"t1\"></a>\n",
        "    \n",
        "</div>"
      ],
      "metadata": {
        "id": "mUI-PKuuHdHV"
      }
    },
    {
      "cell_type": "markdown",
      "source": [
        "In this task, I will integrate several datasets into a single accroding to the instruction, and create a csv output file in the end of the task."
      ],
      "metadata": {
        "id": "mtIPNK8RHq2f"
      }
    },
    {
      "cell_type": "markdown",
      "metadata": {
        "id": "ZHlT-pLDlCDA"
      },
      "source": [
        "<div class=\"alert alert-block alert-warning\">\n",
        "    \n",
        "## 3.1 Solve for Suburb column <a class=\"anchor\" name=\"sub\"></a>\n",
        " </div>"
      ]
    },
    {
      "cell_type": "markdown",
      "metadata": {
        "id": "n_JCQLbqmQsF"
      },
      "source": [
        "To derive suburb values for each record, read suburb boundary \"shp\" file from zip flie\n",
        "\n",
        "Methodology:\n",
        "1. From the dataset, each property is provided with a coordinates of Latitude and Longitide values. With these value, a point could be form accordingly.\n",
        "\n",
        "2. Meanwhile, A shp file is provided, which is the map of VIC suburb boundary. This boundaries are basically lists of point, indicating a \"polygon\" on the map.\n",
        "\n",
        "3. By matching each \"point\" to \"polygon\", we can use the function in geopandas library: within, or contain to check if a point is within a polygon (or if a polygon contains the point). In the codes below, the within method was adopted.\n",
        "\n",
        "4. Once a polygon is matched, the name of the suburb could be referred to from the shp file provided.\n"
      ]
    },
    {
      "cell_type": "code",
      "execution_count": 7,
      "metadata": {
        "id": "g1Voa2Rs7zmR"
      },
      "outputs": [],
      "source": [
        "# Extract file, and read shp file\n",
        "# Here I used my own directory to extract Zip file, please change directory before you run the code\n",
        "\n",
        "with ZipFile(\"/content/drive/Shareddrives/FIT5196-s2-2022/A3/vic_suburb_boundary.zip\", \"r\") as zObject:\n",
        "  zObject.extractall(path = \"/content/drive/MyDrive/5196A3\")\n",
        "\n",
        "gdf = gpd.read_file(\"/content/drive/MyDrive/5196A3/VIC_LOCALITY_POLYGON_shp.shp\")"
      ]
    },
    {
      "cell_type": "code",
      "execution_count": 8,
      "metadata": {
        "id": "bayq3-HPPlLI"
      },
      "outputs": [],
      "source": [
        "# Get geometry values from student_data.csv (df) and from the suburb boundary value\n",
        "geopoint = gpd.GeoDataFrame(df, geometry = gpd.points_from_xy(df.Longtitude, df.Lattitude))\n",
        "geopoly = gpd.GeoDataFrame(gdf, geometry = gdf.geometry)"
      ]
    },
    {
      "cell_type": "code",
      "execution_count": 9,
      "metadata": {
        "id": "xBBIQZR9WpBF"
      },
      "outputs": [],
      "source": [
        "# For each single point (a point with coordinates: lat, lon), find the region that contains that single point\n",
        "# (run time: 1 minutes 43 seconds)\n",
        "sub = []\n",
        "for i, v in geopoint.iterrows():\n",
        "  for idx, val in geopoly.iterrows():\n",
        "    if v.geometry.within(val.geometry):\n",
        "      sub.append(val.VIC_LOCA_2.title())\n",
        "      break"
      ]
    },
    {
      "cell_type": "code",
      "execution_count": 10,
      "metadata": {
        "id": "_nsFF0BPr4us"
      },
      "outputs": [],
      "source": [
        "# Add suburb list to the dataframe\n",
        "\n",
        "df[\"Suburb\"] = sub"
      ]
    },
    {
      "cell_type": "markdown",
      "metadata": {
        "id": "RagZW59F-ssu"
      },
      "source": [
        "-------------------------------------"
      ]
    },
    {
      "cell_type": "markdown",
      "metadata": {
        "id": "3ZN7-wix-zGP"
      },
      "source": [
        "<div class=\"alert alert-block alert-warning\">\n",
        "    \n",
        "## 3.2 Solve for Train station ID and closest distance to train station (with direct trip to Southern Cross Station) <a class=\"anchor\" name=\"id-dist\"></a>\n",
        " </div>"
      ]
    },
    {
      "cell_type": "markdown",
      "source": [
        "In the next step, both train station ID and closest distancce to train station would be solved. Due to the methodology I applied, the method to finding them both will be performed almost simultaneously, therefore these two attributes are combined here together.\n",
        "\n"
      ],
      "metadata": {
        "id": "EJ6hzADAJvAs"
      }
    },
    {
      "cell_type": "code",
      "execution_count": 11,
      "metadata": {
        "id": "xHUz_X5YFyeN"
      },
      "outputs": [],
      "source": [
        "# Find services that work on all weekdays (Mon - Fri)\n",
        "s_id = calendar[(calendar[\"monday\"] == 1) & (calendar[\"tuesday\"] == 1) & (calendar[\"wednesday\"] == 1) & (calendar[\"thursday\"] == 1) & (calendar[\"friday\"] == 1)].service_id\n",
        "\n",
        "# Find all trips that works on all weekdays: \n",
        "all_trips = stop_time.loc[stop_time.trip_id.str.contains(('|'.join(s_id)))]\n"
      ]
    },
    {
      "cell_type": "code",
      "execution_count": 12,
      "metadata": {
        "id": "t29kIzqpba8Y"
      },
      "outputs": [],
      "source": [
        "# Create stop_dict dictionary that uses key as train_station_id, and contains the station coordinates (values)\n",
        "stop_dict = {}\n",
        "for idx, val in train_stops.iterrows():\n",
        "  stop_dict[val.stop_id] = val.stop_lon, val.stop_lat"
      ]
    },
    {
      "cell_type": "markdown",
      "metadata": {
        "id": "rOIG8NT4A2N4"
      },
      "source": [
        "From all_trips created from the codes above, they will be further filter according to their departure time. \n",
        "All trips which are departed during the weekday within time range of 0700 to 0930 will be filtered, and save as a new dataframe: \"weekday_trip\""
      ]
    },
    {
      "cell_type": "code",
      "execution_count": 13,
      "metadata": {
        "id": "hNRqDHqaNjBZ"
      },
      "outputs": [],
      "source": [
        "time_format = \"%H:%M:S\" #set up time format\n",
        "weekday_idx = []\n",
        "error_list = []\n",
        "for idx, val in all_trips.iterrows():\n",
        "  try:\n",
        "    # apply time format\n",
        "    if dt.strptime(val.departure_time, \"%H:%M:%S\") <= dt.strptime(\"09:30:00\", \"%H:%M:%S\") and dt.strptime(val.departure_time, \"%H:%M:%S\") >= dt.strptime(\"07:00:00\", \"%H:%M:%S\"):\n",
        "      weekday_idx.append(idx)\n",
        "  # Stpre errpr values\n",
        "  except ValueError:\n",
        "    error_list.append(idx)\n",
        "\n",
        "# dt.strptime(all_trips.loc[578, \"departure_time\"], \"%H:%M:%S\") < dt.strptime(\"07:00:00\", \"%H:%M:%S\")\n",
        "weekday_trip = all_trips.loc[weekday_idx,]"
      ]
    },
    {
      "cell_type": "markdown",
      "source": [
        "It was also noticed that there were some error datetime value when performing such comparison.\n",
        "The error values were found out, and they all have time values exceeded the standard 00:00 to 23:59 time range.\n",
        "\n",
        "As it was uncertain if the errors were due to mechancial malfunctions or mannual data entry mistakes, those records were removed from the calculation process to maintain accuracy."
      ],
      "metadata": {
        "id": "F1fnTkwaKY0P"
      }
    },
    {
      "cell_type": "code",
      "source": [
        "# error values\n",
        "all_trips.loc[error_list].departure_time"
      ],
      "metadata": {
        "colab": {
          "base_uri": "https://localhost:8080/"
        },
        "id": "TJJ6L5L1KSMu",
        "outputId": "79b6271c-6424-4ae6-d742-c83547c195f2"
      },
      "execution_count": 14,
      "outputs": [
        {
          "output_type": "execute_result",
          "data": {
            "text/plain": [
              "5050      24:04:00\n",
              "5051      24:17:00\n",
              "5052      24:33:00\n",
              "5053      24:42:00\n",
              "5056      24:23:00\n",
              "            ...   \n",
              "541674    25:36:00\n",
              "541679    26:33:00\n",
              "541680    26:35:00\n",
              "541681    26:37:00\n",
              "541682    26:39:00\n",
              "Name: departure_time, Length: 2779, dtype: object"
            ]
          },
          "metadata": {},
          "execution_count": 14
        }
      ]
    },
    {
      "cell_type": "code",
      "execution_count": 15,
      "metadata": {
        "id": "jNkyue1hB8_B"
      },
      "outputs": [],
      "source": [
        "# Get train_station id of Southern Cross station\n",
        "scs_id = train_stops[train_stops.stop_name.str.contains(\"Southern Cross\")][\"stop_id\"]\n"
      ]
    },
    {
      "cell_type": "markdown",
      "metadata": {
        "id": "91Mdmr0TBytF"
      },
      "source": [
        "The codes below is trying to achieve two things:\n",
        "1. Get the train_station that is the closest to the property while having direct trip to the Southern Corss Station (train_station_id)\n",
        "\n",
        "2. Get distance (Haversine distance) from that closest train station, with direct trip to Southern Cross Station, to the property. (distance_to_train_station)\n"
      ]
    },
    {
      "cell_type": "markdown",
      "metadata": {
        "id": "H3oec8XcUkOk"
      },
      "source": [
        "Methodology:\n",
        "1. Firstly, I created a loop to go through all the properties in df dataframe one by one, getting their coordinates from the Lat, Long values from the data, and convert it into radian value\n",
        "\n",
        "2. After that, I get coordinates of all train station. With coordinates of two points both obtaine, the Haversine distance calculation could be conducted and obtain the Haversine distance.\n",
        "\n",
        "3. By obtaining a list of Haversine distance, all values could then be compared, I derive the smallest number (shortest distance), and use the dictionary created to match with the train station ID.\n",
        "\n",
        "4. With the train station ID, I could check with the trips data and see if the train station has direct trip to the Southern Cross Station. If it has direct trip to Southern Cross Station, it will be stored as the final output, otherwise, I will look for the second closest train statino and repeat the process."
      ]
    },
    {
      "cell_type": "code",
      "execution_count": 16,
      "metadata": {
        "id": "Thiqhqb3ludc"
      },
      "outputs": [],
      "source": [
        "# Set up parameters for calculation purpose\n",
        "r = 6378\n",
        "closest_train_stop = []\n",
        "distance = []\n",
        "\n",
        "# Begin loop with all properties\n",
        "for idx, row in df.iterrows():\n",
        "\n",
        "  # Create emtpy contrainers to store desired value\n",
        "  dist_dict = {}   # Dictionary, store distance (key) corresponding to train station ID (value \n",
        "  dist_dict2 = {}  # Reverse dictionary of dist_dict\n",
        "  dist_list = []   # A handle to compare distance from property to train stations\n",
        "\n",
        "  # Start Haversine distance calculation\n",
        "  lon1 = radians(row.Longtitude) #Longitude coordinate of property\n",
        "  lat1 = radians(row.Lattitude)  #Latitude coordinate of property\n",
        "\n",
        "  # Create 2nd loop in stop_dict dictionary\n",
        "  for key, val in stop_dict.items():\n",
        "    lon2 = radians(val[0]) #Train station Longitude coordinate\n",
        "    lat2 = radians(val[1]) #Train station Latitude coordinate\n",
        "\n",
        "    dlon = (lon2 - lon1)  # Get difference in Longitude\n",
        "    dlat = (lat2 - lat1)  # Get difference in Latitude\n",
        "\n",
        "    # Haversine distance formula\n",
        "    a = sin(dlat / 2) ** 2 + cos(lat1) * cos(lat2) * sin(dlon / 2) ** 2\n",
        "    c = 2 * asin(sqrt(a))\n",
        "    dist = r * c  # Haversine distance obtained\n",
        "    # end of Haversine distance calculation\n",
        "\n",
        "    dist_list.append(dist)  # add calculated distance to handle\n",
        "    dist_dict[dist] = key   # add dictionary pairs of distance to train station ID\n",
        "    dist_dict2[key] = dist  \n",
        "\n",
        "  # Create while loop\n",
        "  n = 0\n",
        "  right_df = weekday_trip[weekday_trip.stop_id.isin(scs_id)]  # df of trips of Southern Cross station\n",
        "  while n in range(len(dist_list)):\n",
        "    # Get shortest distance from all train station to property,\n",
        "    # by getting the first station from a sorted list\n",
        "    closest_dist = sorted(dist_list)[n]\n",
        "\n",
        "    # Create df of trips about the closest train station, and merge it with the df of trips of Southern Cross station by \"trip_id\" \n",
        "    left_df = weekday_trip[weekday_trip[\"stop_id\"] == dist_dict[closest_dist]]\n",
        "    merged_df = left_df.merge(right_df, on = \"trip_id\", how = \"inner\")\n",
        "    \n",
        "    # If they are successfully merged, and stop_sequence number at Southern Cross Station is larger than that of the train station,\n",
        "    # it represents there are direct trip from the train station to Southern Cross Station\n",
        "    if len(merged_df[merged_df[\"stop_sequence_x\"] < merged_df[\"stop_sequence_y\"]]) > 0:\n",
        "      # Store train station ID as closest train stop\n",
        "      closest_train_stop.append(dist_dict[closest_dist])\n",
        "      # Store distance value of this closest train stop\n",
        "      distance.append(closest_dist)\n",
        "      # print(len(closest_train_stop))\n",
        "      break\n",
        "    # Otherwise, there are no direct trip from the train station to Southern Cross station\n",
        "    # Look for the next closest train station and repeat.\n",
        "    else:\n",
        "      n += 1"
      ]
    },
    {
      "cell_type": "code",
      "execution_count": 17,
      "metadata": {
        "id": "f5Ept51JE5at"
      },
      "outputs": [],
      "source": [
        "# Add the two attributes to dataframe\n",
        "df[\"train_station_id\"] = closest_train_stop\n",
        "df[\"distance_to_train_station\"] = distance"
      ]
    },
    {
      "cell_type": "markdown",
      "metadata": {
        "id": "8HlI5We7VrPm"
      },
      "source": [
        "-------------------------------------"
      ]
    },
    {
      "cell_type": "markdown",
      "metadata": {
        "id": "TVfGpzAwRzfM"
      },
      "source": [
        "<div class=\"alert alert-block alert-warning\">\n",
        "\n",
        "## 3.3.  Get travel_min_to_CBD  <a class=\"anchor\" name=\"time\"></a>\n",
        "    \n",
        "</div>"
      ]
    },
    {
      "cell_type": "markdown",
      "metadata": {
        "id": "PZn_GueTWAXP"
      },
      "source": [
        "By applying a simlar method I used for train station and distance, the travel time from a station to the Southern Cross Station could also be obtained."
      ]
    },
    {
      "cell_type": "code",
      "execution_count": 18,
      "metadata": {
        "id": "01ToR6-L2VHd"
      },
      "outputs": [],
      "source": [
        "# Create empty handle for time\n",
        "avg_time = []\n",
        "for n in range(len(closest_train_stop)):\n",
        "  travel_time = []\n",
        "  # We want to check the travel time from the list of closest train station to Southern Cross Station\n",
        "  # check for trips that match those IDs\n",
        "  left_df = weekday_trip[weekday_trip[\"stop_id\"] == closest_train_stop[n]]\n",
        "  \n",
        "  # right_df is all trips of Southern Cross Station\n",
        "  right_df = weekday_trip[weekday_trip.stop_id.isin(scs_id)]\n",
        "\n",
        "  # Merge two dataframe, if stop sequence in right_df is larger then that of left_df, it means the trip is from the targeted train station towards Southern Cross Station\n",
        "  merged_df = left_df.merge(right_df, on = \"trip_id\", how = \"inner\")\n",
        "  merged_df = (merged_df[merged_df[\"stop_sequence_x\"] < merged_df[\"stop_sequence_y\"]])\n",
        "\n",
        "  # Get the difference between departure time from the starting station and arrival time at the Southern Cross Station\n",
        "  for idx, val in merged_df.iterrows():\n",
        "    travel_time.append(dt.strptime(val.arrival_time_y, \"%H:%M:%S\") - dt.strptime(val.departure_time_x, \"%H:%M:%S\"))\n",
        "  # As there are more than one trips during that period, the time difference obtained will be a list.\n",
        "  # Get the sum of list and divide it by the number of trips would result in the average time\n",
        "  avg_time.append((sum(travel_time, datetime.timedelta()).total_seconds())/len(travel_time)/ 60)\n",
        "\n"
      ]
    },
    {
      "cell_type": "code",
      "execution_count": 19,
      "metadata": {
        "id": "DZwxzAHu2ovK"
      },
      "outputs": [],
      "source": [
        "# Store average travel time obtained into dataframe\n",
        "df[\"travel_min_to_CBD\"] = avg_time"
      ]
    },
    {
      "cell_type": "markdown",
      "metadata": {
        "id": "YwgbWv9yX5S6"
      },
      "source": [
        "-------------------------------------"
      ]
    },
    {
      "cell_type": "markdown",
      "metadata": {
        "id": "yxCOERMMX6_J"
      },
      "source": [
        "<div class=\"alert alert-block alert-warning\">\n",
        "\n",
        "## 3.4  Determine if the property is over-priced  <a class=\"anchor\" name=\"op\"></a>\n",
        "    \n",
        "</div>"
      ]
    },
    {
      "cell_type": "markdown",
      "metadata": {
        "id": "M7F-xslBX_Gr"
      },
      "source": [
        "In the next task, each property will be evaluated if it is over-priced or not by taking the Median of all properties with the same set of attributes. As instructed, the set of attributes is:\n",
        "\n",
        "1. Number of bedrooms\n",
        "2. Number of Bathrooms\n",
        "3. Number of parking spaces\n",
        "4. Property type\n",
        "5. Suburb\n",
        "6. Year of selling\n"
      ]
    },
    {
      "cell_type": "code",
      "execution_count": 20,
      "metadata": {
        "id": "f9Ip6SNVYiiI"
      },
      "outputs": [],
      "source": [
        "# Get year of selling and add to Dataframe\n",
        "df_year = pd.to_datetime(df.Date).dt.year\n",
        "df[\"Year\"] = df_year"
      ]
    },
    {
      "cell_type": "code",
      "execution_count": 21,
      "metadata": {
        "id": "pPKu6TeH4vE7"
      },
      "outputs": [],
      "source": [
        "# Apply groupby function and get the median value\n",
        "median = df.groupby([\"Rooms\", \"Bathroom\", \"Car\", \"Type\", \"Suburb\", \"Year\"])[\"Price\"].median()"
      ]
    },
    {
      "cell_type": "code",
      "execution_count": 22,
      "metadata": {
        "id": "wnyNGoojWZn0"
      },
      "outputs": [],
      "source": [
        "# Merged median dataframe and df\n",
        "combined = df.merge(median, how = \"left\", on = [\"Rooms\", \"Bathroom\", \"Car\", \"Type\", \"Suburb\", \"Year\"])\n",
        "\n",
        "# Assign \"over_price?\" boolean value\n",
        "for idx, row in combined.iterrows():\n",
        "  if row.Price_x > row.Price_y:\n",
        "    combined.loc[idx,\"over_priced?\"] = True\n",
        "  else:\n",
        "    combined.loc[idx,\"over_priced?\"] = False\n",
        "\n",
        "df[\"over_priced?\"] = combined[\"over_priced?\"]"
      ]
    },
    {
      "cell_type": "markdown",
      "metadata": {
        "id": "ybt4rukdZd1g"
      },
      "source": [
        "-------------------------------------"
      ]
    },
    {
      "cell_type": "markdown",
      "metadata": {
        "id": "8JvYAYBEZe_a"
      },
      "source": [
        "<div class=\"alert alert-block alert-warning\">\n",
        "\n",
        "## 3.5  Get average Crime numbers  <a class=\"crime\" name=\"crime\"></a>\n",
        "    \n",
        "</div>"
      ]
    },
    {
      "cell_type": "markdown",
      "source": [
        "We were provided with a text file and excel file to find the crime number in a specific council."
      ],
      "metadata": {
        "id": "MC82ei7UMCnL"
      }
    },
    {
      "cell_type": "code",
      "execution_count": 23,
      "metadata": {
        "id": "sevaJngzW4za"
      },
      "outputs": [],
      "source": [
        "# read excel that contains crime data\n",
        "excel_data = pd.ExcelFile(\"/content/drive/Shareddrives/FIT5196-s2-2022/A3/crimebylocation.xlsx\")\n",
        "sheet = excel_data.sheet_names[-1]  # Knowing there are two sheets, only the second sheet is useful for this task\n",
        "excel = excel_data.parse(sheet)"
      ]
    },
    {
      "cell_type": "code",
      "execution_count": 24,
      "metadata": {
        "colab": {
          "base_uri": "https://localhost:8080/"
        },
        "id": "5Rnwa7Blc-Ag",
        "outputId": "4b913cab-312b-4537-e608-b33373cf2154"
      },
      "outputs": [
        {
          "output_type": "stream",
          "name": "stderr",
          "text": [
            "/usr/local/lib/python3.7/dist-packages/ipykernel_launcher.py:3: FutureWarning: In a future version of pandas all arguments of DataFrame.dropna will be keyword-only\n",
            "  This is separate from the ipykernel package so we can avoid doing imports until\n",
            "/usr/local/lib/python3.7/dist-packages/ipykernel_launcher.py:4: FutureWarning: In a future version of pandas all arguments of DataFrame.dropna will be keyword-only\n",
            "  after removing the cwd from sys.path.\n"
          ]
        }
      ],
      "source": [
        "# Parsing excel file\n",
        "excel = excel.drop([\"Unnamed: 0\"], axis = 1)\n",
        "excel = excel.dropna(0, how = \"all\")\n",
        "excel = excel.dropna(1, how = \"all\")\n",
        "excel.index = range(len(excel))"
      ]
    },
    {
      "cell_type": "code",
      "execution_count": 25,
      "metadata": {
        "id": "tXvJ12xsALsV"
      },
      "outputs": [],
      "source": [
        "# Continue parsing file\n",
        "excel.iloc[1, 0] = \"Year\"\n",
        "excel.rename(columns = excel.iloc[1], inplace = True)\n",
        "excel = excel.drop(excel.index[0:2])\n",
        "excel.reset_index(inplace = True, drop = True)"
      ]
    },
    {
      "cell_type": "code",
      "execution_count": 26,
      "metadata": {
        "colab": {
          "base_uri": "https://localhost:8080/",
          "height": 797
        },
        "id": "hn4HzsaYaHnP",
        "outputId": "8b4922cd-85c7-423c-fb89-819ac9929631"
      },
      "outputs": [
        {
          "output_type": "execute_result",
          "data": {
            "text/plain": [
              "      Year       Police Region Police Service Area Local Government Area  \\\n",
              "0     2012  1 North West Metro             BANYULE               BANYULE   \n",
              "1     2012  1 North West Metro             BANYULE               BANYULE   \n",
              "2     2012  1 North West Metro             BANYULE               BANYULE   \n",
              "3     2012  1 North West Metro             BANYULE               BANYULE   \n",
              "4     2012  1 North West Metro             BANYULE               BANYULE   \n",
              "...    ...                 ...                 ...                   ...   \n",
              "9080  2016           4 Western         WARRNAMBOOL           WARRNAMBOOL   \n",
              "9081  2016           4 Western         WARRNAMBOOL           WARRNAMBOOL   \n",
              "9082  2016           4 Western         WARRNAMBOOL           WARRNAMBOOL   \n",
              "9083  2016           4 Western         WARRNAMBOOL           WARRNAMBOOL   \n",
              "9084  2016           4 Western         WARRNAMBOOL           WARRNAMBOOL   \n",
              "\n",
              "               CSA Offence Division                   CSA Offence Subdivision  \\\n",
              "0       A Crimes against the person         A10 Homicide and related offences   \n",
              "1       A Crimes against the person          A20 Assault and related offences   \n",
              "2       A Crimes against the person                       A30 Sexual offences   \n",
              "3       A Crimes against the person        A40 Abduction and related offences   \n",
              "4       A Crimes against the person                               A50 Robbery   \n",
              "...                             ...                                       ...   \n",
              "9080  E Justice procedures offences                    E10 Justice procedures   \n",
              "9081  E Justice procedures offences                    E20 Breaches of orders   \n",
              "9082               F Other offences         F20 Transport regulation offences   \n",
              "9083               F Other offences  F30 Other government regulatory offences   \n",
              "9084               F Other offences                F90 Miscellaneous offences   \n",
              "\n",
              "     Offence Count LGA ERP Victorian ERP  \n",
              "0                4  123600       5632521  \n",
              "1              568  123600       5632521  \n",
              "2              132  123600       5632521  \n",
              "3               12  123600       5632521  \n",
              "4               46  123600       5632521  \n",
              "...            ...     ...           ...  \n",
              "9080            79   33795       6053355  \n",
              "9081           360   33795       6053355  \n",
              "9082             2   33795       6053355  \n",
              "9083             4   33795       6053355  \n",
              "9084             1   33795       6053355  \n",
              "\n",
              "[9085 rows x 9 columns]"
            ],
            "text/html": [
              "\n",
              "  <div id=\"df-e7d720ad-3864-4aa9-b421-e606ef83961a\">\n",
              "    <div class=\"colab-df-container\">\n",
              "      <div>\n",
              "<style scoped>\n",
              "    .dataframe tbody tr th:only-of-type {\n",
              "        vertical-align: middle;\n",
              "    }\n",
              "\n",
              "    .dataframe tbody tr th {\n",
              "        vertical-align: top;\n",
              "    }\n",
              "\n",
              "    .dataframe thead th {\n",
              "        text-align: right;\n",
              "    }\n",
              "</style>\n",
              "<table border=\"1\" class=\"dataframe\">\n",
              "  <thead>\n",
              "    <tr style=\"text-align: right;\">\n",
              "      <th></th>\n",
              "      <th>Year</th>\n",
              "      <th>Police Region</th>\n",
              "      <th>Police Service Area</th>\n",
              "      <th>Local Government Area</th>\n",
              "      <th>CSA Offence Division</th>\n",
              "      <th>CSA Offence Subdivision</th>\n",
              "      <th>Offence Count</th>\n",
              "      <th>LGA ERP</th>\n",
              "      <th>Victorian ERP</th>\n",
              "    </tr>\n",
              "  </thead>\n",
              "  <tbody>\n",
              "    <tr>\n",
              "      <th>0</th>\n",
              "      <td>2012</td>\n",
              "      <td>1 North West Metro</td>\n",
              "      <td>BANYULE</td>\n",
              "      <td>BANYULE</td>\n",
              "      <td>A Crimes against the person</td>\n",
              "      <td>A10 Homicide and related offences</td>\n",
              "      <td>4</td>\n",
              "      <td>123600</td>\n",
              "      <td>5632521</td>\n",
              "    </tr>\n",
              "    <tr>\n",
              "      <th>1</th>\n",
              "      <td>2012</td>\n",
              "      <td>1 North West Metro</td>\n",
              "      <td>BANYULE</td>\n",
              "      <td>BANYULE</td>\n",
              "      <td>A Crimes against the person</td>\n",
              "      <td>A20 Assault and related offences</td>\n",
              "      <td>568</td>\n",
              "      <td>123600</td>\n",
              "      <td>5632521</td>\n",
              "    </tr>\n",
              "    <tr>\n",
              "      <th>2</th>\n",
              "      <td>2012</td>\n",
              "      <td>1 North West Metro</td>\n",
              "      <td>BANYULE</td>\n",
              "      <td>BANYULE</td>\n",
              "      <td>A Crimes against the person</td>\n",
              "      <td>A30 Sexual offences</td>\n",
              "      <td>132</td>\n",
              "      <td>123600</td>\n",
              "      <td>5632521</td>\n",
              "    </tr>\n",
              "    <tr>\n",
              "      <th>3</th>\n",
              "      <td>2012</td>\n",
              "      <td>1 North West Metro</td>\n",
              "      <td>BANYULE</td>\n",
              "      <td>BANYULE</td>\n",
              "      <td>A Crimes against the person</td>\n",
              "      <td>A40 Abduction and related offences</td>\n",
              "      <td>12</td>\n",
              "      <td>123600</td>\n",
              "      <td>5632521</td>\n",
              "    </tr>\n",
              "    <tr>\n",
              "      <th>4</th>\n",
              "      <td>2012</td>\n",
              "      <td>1 North West Metro</td>\n",
              "      <td>BANYULE</td>\n",
              "      <td>BANYULE</td>\n",
              "      <td>A Crimes against the person</td>\n",
              "      <td>A50 Robbery</td>\n",
              "      <td>46</td>\n",
              "      <td>123600</td>\n",
              "      <td>5632521</td>\n",
              "    </tr>\n",
              "    <tr>\n",
              "      <th>...</th>\n",
              "      <td>...</td>\n",
              "      <td>...</td>\n",
              "      <td>...</td>\n",
              "      <td>...</td>\n",
              "      <td>...</td>\n",
              "      <td>...</td>\n",
              "      <td>...</td>\n",
              "      <td>...</td>\n",
              "      <td>...</td>\n",
              "    </tr>\n",
              "    <tr>\n",
              "      <th>9080</th>\n",
              "      <td>2016</td>\n",
              "      <td>4 Western</td>\n",
              "      <td>WARRNAMBOOL</td>\n",
              "      <td>WARRNAMBOOL</td>\n",
              "      <td>E Justice procedures offences</td>\n",
              "      <td>E10 Justice procedures</td>\n",
              "      <td>79</td>\n",
              "      <td>33795</td>\n",
              "      <td>6053355</td>\n",
              "    </tr>\n",
              "    <tr>\n",
              "      <th>9081</th>\n",
              "      <td>2016</td>\n",
              "      <td>4 Western</td>\n",
              "      <td>WARRNAMBOOL</td>\n",
              "      <td>WARRNAMBOOL</td>\n",
              "      <td>E Justice procedures offences</td>\n",
              "      <td>E20 Breaches of orders</td>\n",
              "      <td>360</td>\n",
              "      <td>33795</td>\n",
              "      <td>6053355</td>\n",
              "    </tr>\n",
              "    <tr>\n",
              "      <th>9082</th>\n",
              "      <td>2016</td>\n",
              "      <td>4 Western</td>\n",
              "      <td>WARRNAMBOOL</td>\n",
              "      <td>WARRNAMBOOL</td>\n",
              "      <td>F Other offences</td>\n",
              "      <td>F20 Transport regulation offences</td>\n",
              "      <td>2</td>\n",
              "      <td>33795</td>\n",
              "      <td>6053355</td>\n",
              "    </tr>\n",
              "    <tr>\n",
              "      <th>9083</th>\n",
              "      <td>2016</td>\n",
              "      <td>4 Western</td>\n",
              "      <td>WARRNAMBOOL</td>\n",
              "      <td>WARRNAMBOOL</td>\n",
              "      <td>F Other offences</td>\n",
              "      <td>F30 Other government regulatory offences</td>\n",
              "      <td>4</td>\n",
              "      <td>33795</td>\n",
              "      <td>6053355</td>\n",
              "    </tr>\n",
              "    <tr>\n",
              "      <th>9084</th>\n",
              "      <td>2016</td>\n",
              "      <td>4 Western</td>\n",
              "      <td>WARRNAMBOOL</td>\n",
              "      <td>WARRNAMBOOL</td>\n",
              "      <td>F Other offences</td>\n",
              "      <td>F90 Miscellaneous offences</td>\n",
              "      <td>1</td>\n",
              "      <td>33795</td>\n",
              "      <td>6053355</td>\n",
              "    </tr>\n",
              "  </tbody>\n",
              "</table>\n",
              "<p>9085 rows × 9 columns</p>\n",
              "</div>\n",
              "      <button class=\"colab-df-convert\" onclick=\"convertToInteractive('df-e7d720ad-3864-4aa9-b421-e606ef83961a')\"\n",
              "              title=\"Convert this dataframe to an interactive table.\"\n",
              "              style=\"display:none;\">\n",
              "        \n",
              "  <svg xmlns=\"http://www.w3.org/2000/svg\" height=\"24px\"viewBox=\"0 0 24 24\"\n",
              "       width=\"24px\">\n",
              "    <path d=\"M0 0h24v24H0V0z\" fill=\"none\"/>\n",
              "    <path d=\"M18.56 5.44l.94 2.06.94-2.06 2.06-.94-2.06-.94-.94-2.06-.94 2.06-2.06.94zm-11 1L8.5 8.5l.94-2.06 2.06-.94-2.06-.94L8.5 2.5l-.94 2.06-2.06.94zm10 10l.94 2.06.94-2.06 2.06-.94-2.06-.94-.94-2.06-.94 2.06-2.06.94z\"/><path d=\"M17.41 7.96l-1.37-1.37c-.4-.4-.92-.59-1.43-.59-.52 0-1.04.2-1.43.59L10.3 9.45l-7.72 7.72c-.78.78-.78 2.05 0 2.83L4 21.41c.39.39.9.59 1.41.59.51 0 1.02-.2 1.41-.59l7.78-7.78 2.81-2.81c.8-.78.8-2.07 0-2.86zM5.41 20L4 18.59l7.72-7.72 1.47 1.35L5.41 20z\"/>\n",
              "  </svg>\n",
              "      </button>\n",
              "      \n",
              "  <style>\n",
              "    .colab-df-container {\n",
              "      display:flex;\n",
              "      flex-wrap:wrap;\n",
              "      gap: 12px;\n",
              "    }\n",
              "\n",
              "    .colab-df-convert {\n",
              "      background-color: #E8F0FE;\n",
              "      border: none;\n",
              "      border-radius: 50%;\n",
              "      cursor: pointer;\n",
              "      display: none;\n",
              "      fill: #1967D2;\n",
              "      height: 32px;\n",
              "      padding: 0 0 0 0;\n",
              "      width: 32px;\n",
              "    }\n",
              "\n",
              "    .colab-df-convert:hover {\n",
              "      background-color: #E2EBFA;\n",
              "      box-shadow: 0px 1px 2px rgba(60, 64, 67, 0.3), 0px 1px 3px 1px rgba(60, 64, 67, 0.15);\n",
              "      fill: #174EA6;\n",
              "    }\n",
              "\n",
              "    [theme=dark] .colab-df-convert {\n",
              "      background-color: #3B4455;\n",
              "      fill: #D2E3FC;\n",
              "    }\n",
              "\n",
              "    [theme=dark] .colab-df-convert:hover {\n",
              "      background-color: #434B5C;\n",
              "      box-shadow: 0px 1px 3px 1px rgba(0, 0, 0, 0.15);\n",
              "      filter: drop-shadow(0px 1px 2px rgba(0, 0, 0, 0.3));\n",
              "      fill: #FFFFFF;\n",
              "    }\n",
              "  </style>\n",
              "\n",
              "      <script>\n",
              "        const buttonEl =\n",
              "          document.querySelector('#df-e7d720ad-3864-4aa9-b421-e606ef83961a button.colab-df-convert');\n",
              "        buttonEl.style.display =\n",
              "          google.colab.kernel.accessAllowed ? 'block' : 'none';\n",
              "\n",
              "        async function convertToInteractive(key) {\n",
              "          const element = document.querySelector('#df-e7d720ad-3864-4aa9-b421-e606ef83961a');\n",
              "          const dataTable =\n",
              "            await google.colab.kernel.invokeFunction('convertToInteractive',\n",
              "                                                     [key], {});\n",
              "          if (!dataTable) return;\n",
              "\n",
              "          const docLinkHtml = 'Like what you see? Visit the ' +\n",
              "            '<a target=\"_blank\" href=https://colab.research.google.com/notebooks/data_table.ipynb>data table notebook</a>'\n",
              "            + ' to learn more about interactive tables.';\n",
              "          element.innerHTML = '';\n",
              "          dataTable['output_type'] = 'display_data';\n",
              "          await google.colab.output.renderOutput(dataTable, element);\n",
              "          const docLink = document.createElement('div');\n",
              "          docLink.innerHTML = docLinkHtml;\n",
              "          element.appendChild(docLink);\n",
              "        }\n",
              "      </script>\n",
              "    </div>\n",
              "  </div>\n",
              "  "
            ]
          },
          "metadata": {},
          "execution_count": 26
        }
      ],
      "source": [
        "# Inspect excel file\n",
        "excel"
      ]
    },
    {
      "cell_type": "code",
      "execution_count": 27,
      "metadata": {
        "id": "qC017Kp7jEbK"
      },
      "outputs": [],
      "source": [
        "# By inspecting the excel file, it is known that each crime is categorized in to type A to type F.\n",
        "# In this task, only type A, B, and C are wanted\n",
        "\n",
        "# Create new column for crime type\n",
        "for idx, row in excel.iterrows():\n",
        "  excel.loc[idx, \"Crime Type\"] = (row[\"CSA Offence Subdivision\"][0])"
      ]
    },
    {
      "cell_type": "code",
      "execution_count": 28,
      "metadata": {
        "id": "8dZz274MjnoQ"
      },
      "outputs": [],
      "source": [
        "# Filter dataset to crime types that we are interested in \n",
        "types = [\"A\", \"B\", \"C\"]\n",
        "excel = excel[excel[\"Crime Type\"].isin(types)]"
      ]
    },
    {
      "cell_type": "markdown",
      "metadata": {
        "id": "0tSwAvB6af86"
      },
      "source": [
        "Moreover, the task does not require the details of the crime, but only the count of crime types within a specific region (Properties' suburb)."
      ]
    },
    {
      "cell_type": "code",
      "execution_count": 29,
      "metadata": {
        "id": "sicRp2pynlIP"
      },
      "outputs": [],
      "source": [
        "# Use the groupby function to group crimes by their \"Crime type\", \"Year of incidence\", \"Area\" that the crime took place.\n",
        "crime_grouped = excel.groupby([\"Year\", \"Crime Type\", \"Local Government Area\"])[\"Offence Count\"].sum().reset_index()"
      ]
    },
    {
      "cell_type": "code",
      "execution_count": 30,
      "metadata": {
        "colab": {
          "base_uri": "https://localhost:8080/",
          "height": 424
        },
        "id": "TmsniBWasGol",
        "outputId": "0f90b96a-9b37-407a-ee25-8d49d4f7014a"
      },
      "outputs": [
        {
          "output_type": "execute_result",
          "data": {
            "text/plain": [
              "      Year Crime Type Local Government Area Offence Count\n",
              "0     2012          A                ALPINE            72\n",
              "1     2012          A                ARARAT           217\n",
              "2     2012          A              BALLARAT          1652\n",
              "3     2012          A               BANYULE           987\n",
              "4     2012          A            BASS COAST           430\n",
              "...    ...        ...                   ...           ...\n",
              "1179  2016          C               WODONGA           162\n",
              "1180  2016          C               WYNDHAM           648\n",
              "1181  2016          C                 YARRA           955\n",
              "1182  2016          C          YARRA RANGES           570\n",
              "1183  2016          C          YARRIAMBIACK            14\n",
              "\n",
              "[1184 rows x 4 columns]"
            ],
            "text/html": [
              "\n",
              "  <div id=\"df-3addb533-56b9-4a28-8db6-2dbdc394c610\">\n",
              "    <div class=\"colab-df-container\">\n",
              "      <div>\n",
              "<style scoped>\n",
              "    .dataframe tbody tr th:only-of-type {\n",
              "        vertical-align: middle;\n",
              "    }\n",
              "\n",
              "    .dataframe tbody tr th {\n",
              "        vertical-align: top;\n",
              "    }\n",
              "\n",
              "    .dataframe thead th {\n",
              "        text-align: right;\n",
              "    }\n",
              "</style>\n",
              "<table border=\"1\" class=\"dataframe\">\n",
              "  <thead>\n",
              "    <tr style=\"text-align: right;\">\n",
              "      <th></th>\n",
              "      <th>Year</th>\n",
              "      <th>Crime Type</th>\n",
              "      <th>Local Government Area</th>\n",
              "      <th>Offence Count</th>\n",
              "    </tr>\n",
              "  </thead>\n",
              "  <tbody>\n",
              "    <tr>\n",
              "      <th>0</th>\n",
              "      <td>2012</td>\n",
              "      <td>A</td>\n",
              "      <td>ALPINE</td>\n",
              "      <td>72</td>\n",
              "    </tr>\n",
              "    <tr>\n",
              "      <th>1</th>\n",
              "      <td>2012</td>\n",
              "      <td>A</td>\n",
              "      <td>ARARAT</td>\n",
              "      <td>217</td>\n",
              "    </tr>\n",
              "    <tr>\n",
              "      <th>2</th>\n",
              "      <td>2012</td>\n",
              "      <td>A</td>\n",
              "      <td>BALLARAT</td>\n",
              "      <td>1652</td>\n",
              "    </tr>\n",
              "    <tr>\n",
              "      <th>3</th>\n",
              "      <td>2012</td>\n",
              "      <td>A</td>\n",
              "      <td>BANYULE</td>\n",
              "      <td>987</td>\n",
              "    </tr>\n",
              "    <tr>\n",
              "      <th>4</th>\n",
              "      <td>2012</td>\n",
              "      <td>A</td>\n",
              "      <td>BASS COAST</td>\n",
              "      <td>430</td>\n",
              "    </tr>\n",
              "    <tr>\n",
              "      <th>...</th>\n",
              "      <td>...</td>\n",
              "      <td>...</td>\n",
              "      <td>...</td>\n",
              "      <td>...</td>\n",
              "    </tr>\n",
              "    <tr>\n",
              "      <th>1179</th>\n",
              "      <td>2016</td>\n",
              "      <td>C</td>\n",
              "      <td>WODONGA</td>\n",
              "      <td>162</td>\n",
              "    </tr>\n",
              "    <tr>\n",
              "      <th>1180</th>\n",
              "      <td>2016</td>\n",
              "      <td>C</td>\n",
              "      <td>WYNDHAM</td>\n",
              "      <td>648</td>\n",
              "    </tr>\n",
              "    <tr>\n",
              "      <th>1181</th>\n",
              "      <td>2016</td>\n",
              "      <td>C</td>\n",
              "      <td>YARRA</td>\n",
              "      <td>955</td>\n",
              "    </tr>\n",
              "    <tr>\n",
              "      <th>1182</th>\n",
              "      <td>2016</td>\n",
              "      <td>C</td>\n",
              "      <td>YARRA RANGES</td>\n",
              "      <td>570</td>\n",
              "    </tr>\n",
              "    <tr>\n",
              "      <th>1183</th>\n",
              "      <td>2016</td>\n",
              "      <td>C</td>\n",
              "      <td>YARRIAMBIACK</td>\n",
              "      <td>14</td>\n",
              "    </tr>\n",
              "  </tbody>\n",
              "</table>\n",
              "<p>1184 rows × 4 columns</p>\n",
              "</div>\n",
              "      <button class=\"colab-df-convert\" onclick=\"convertToInteractive('df-3addb533-56b9-4a28-8db6-2dbdc394c610')\"\n",
              "              title=\"Convert this dataframe to an interactive table.\"\n",
              "              style=\"display:none;\">\n",
              "        \n",
              "  <svg xmlns=\"http://www.w3.org/2000/svg\" height=\"24px\"viewBox=\"0 0 24 24\"\n",
              "       width=\"24px\">\n",
              "    <path d=\"M0 0h24v24H0V0z\" fill=\"none\"/>\n",
              "    <path d=\"M18.56 5.44l.94 2.06.94-2.06 2.06-.94-2.06-.94-.94-2.06-.94 2.06-2.06.94zm-11 1L8.5 8.5l.94-2.06 2.06-.94-2.06-.94L8.5 2.5l-.94 2.06-2.06.94zm10 10l.94 2.06.94-2.06 2.06-.94-2.06-.94-.94-2.06-.94 2.06-2.06.94z\"/><path d=\"M17.41 7.96l-1.37-1.37c-.4-.4-.92-.59-1.43-.59-.52 0-1.04.2-1.43.59L10.3 9.45l-7.72 7.72c-.78.78-.78 2.05 0 2.83L4 21.41c.39.39.9.59 1.41.59.51 0 1.02-.2 1.41-.59l7.78-7.78 2.81-2.81c.8-.78.8-2.07 0-2.86zM5.41 20L4 18.59l7.72-7.72 1.47 1.35L5.41 20z\"/>\n",
              "  </svg>\n",
              "      </button>\n",
              "      \n",
              "  <style>\n",
              "    .colab-df-container {\n",
              "      display:flex;\n",
              "      flex-wrap:wrap;\n",
              "      gap: 12px;\n",
              "    }\n",
              "\n",
              "    .colab-df-convert {\n",
              "      background-color: #E8F0FE;\n",
              "      border: none;\n",
              "      border-radius: 50%;\n",
              "      cursor: pointer;\n",
              "      display: none;\n",
              "      fill: #1967D2;\n",
              "      height: 32px;\n",
              "      padding: 0 0 0 0;\n",
              "      width: 32px;\n",
              "    }\n",
              "\n",
              "    .colab-df-convert:hover {\n",
              "      background-color: #E2EBFA;\n",
              "      box-shadow: 0px 1px 2px rgba(60, 64, 67, 0.3), 0px 1px 3px 1px rgba(60, 64, 67, 0.15);\n",
              "      fill: #174EA6;\n",
              "    }\n",
              "\n",
              "    [theme=dark] .colab-df-convert {\n",
              "      background-color: #3B4455;\n",
              "      fill: #D2E3FC;\n",
              "    }\n",
              "\n",
              "    [theme=dark] .colab-df-convert:hover {\n",
              "      background-color: #434B5C;\n",
              "      box-shadow: 0px 1px 3px 1px rgba(0, 0, 0, 0.15);\n",
              "      filter: drop-shadow(0px 1px 2px rgba(0, 0, 0, 0.3));\n",
              "      fill: #FFFFFF;\n",
              "    }\n",
              "  </style>\n",
              "\n",
              "      <script>\n",
              "        const buttonEl =\n",
              "          document.querySelector('#df-3addb533-56b9-4a28-8db6-2dbdc394c610 button.colab-df-convert');\n",
              "        buttonEl.style.display =\n",
              "          google.colab.kernel.accessAllowed ? 'block' : 'none';\n",
              "\n",
              "        async function convertToInteractive(key) {\n",
              "          const element = document.querySelector('#df-3addb533-56b9-4a28-8db6-2dbdc394c610');\n",
              "          const dataTable =\n",
              "            await google.colab.kernel.invokeFunction('convertToInteractive',\n",
              "                                                     [key], {});\n",
              "          if (!dataTable) return;\n",
              "\n",
              "          const docLinkHtml = 'Like what you see? Visit the ' +\n",
              "            '<a target=\"_blank\" href=https://colab.research.google.com/notebooks/data_table.ipynb>data table notebook</a>'\n",
              "            + ' to learn more about interactive tables.';\n",
              "          element.innerHTML = '';\n",
              "          dataTable['output_type'] = 'display_data';\n",
              "          await google.colab.output.renderOutput(dataTable, element);\n",
              "          const docLink = document.createElement('div');\n",
              "          docLink.innerHTML = docLinkHtml;\n",
              "          element.appendChild(docLink);\n",
              "        }\n",
              "      </script>\n",
              "    </div>\n",
              "  </div>\n",
              "  "
            ]
          },
          "metadata": {},
          "execution_count": 30
        }
      ],
      "source": [
        "crime_grouped"
      ]
    },
    {
      "cell_type": "code",
      "execution_count": 31,
      "metadata": {
        "id": "BgzLnSv8x7tt"
      },
      "outputs": [],
      "source": [
        "# Call for another helpful file \n",
        "council_df = pd.read_csv(\"/content/drive/Shareddrives/FIT5196-s2-2022/A3/councils.txt\", sep = \":\", header = None)\n",
        "council_df.columns = [\"Council\", \"Suburbs\"]\n",
        "\n",
        "for idx, row in council_df.iterrows():\n",
        "  council_df.loc[idx, \"Suburbs\"] = row.Suburbs.upper()"
      ]
    },
    {
      "cell_type": "markdown",
      "metadata": {
        "id": "q9LEv-0cbIS2"
      },
      "source": [
        "council.txt is a text file seprated with colon. It contains value of suburbs, and the in charge council for each suburb.\n",
        "By using this txt file, we could refer to the df dataframe, where only \"suburb\" value is included, to their in charge council. Such that we could comopute for the average number of crime in the council area."
      ]
    },
    {
      "cell_type": "code",
      "execution_count": 32,
      "metadata": {
        "id": "NpMdZ9a0lgdy"
      },
      "outputs": [],
      "source": [
        "for idx, row in df.iterrows():\n",
        "  # We are interested in the last 3 years of record before the property purchase date (i.e. not including purchase year)\n",
        "  record = []\n",
        "  record.append(row.Year -1)\n",
        "  record.append(row.Year -2)\n",
        "  record.append(row.Year -3)\n",
        "\n",
        "  sub = row.Suburb.upper()   # Recall suburb values computed earlier\n",
        "  # Finding council in charge for the subrub according to the text file\n",
        "  council= council_df.loc[council_df[\"Suburbs\"].str.contains(sub)][\"Council\"].values[0].strip()\n",
        "  # Create subset from crime file, where the years match the last 3 years of the property purchase data\n",
        "  # and the council is the one in charge for the property suburb\n",
        "  subset = crime_grouped.loc[(crime_grouped[\"Year\"].isin(record)) & (crime_grouped[\"Local Government Area\"] == council)]\n",
        "  subset = subset.groupby([\"Crime Type\"])[\"Offence Count\"].mean()\n",
        "  # Store value according the crime type A, B, or C\n",
        "  df.loc[idx, \"crime_A_average\"] = subset[\"A\"]\n",
        "  df.loc[idx, \"crime_B_average\"] = subset[\"B\"]\n",
        "  df.loc[idx, \"crime_C_average\"] = subset[\"C\"]"
      ]
    },
    {
      "cell_type": "markdown",
      "metadata": {
        "id": "LX0_JWnnMoMk"
      },
      "source": [
        "-------------------------------------"
      ]
    },
    {
      "cell_type": "markdown",
      "source": [
        "<div class=\"alert alert-block alert-warning\">\n",
        "\n",
        "## 3.6 Export csv files <a class=\"anchor\" name=\"write\"></a>\n",
        "    \n",
        "</div>"
      ],
      "metadata": {
        "id": "janYf9kTbvTr"
      }
    },
    {
      "cell_type": "code",
      "execution_count": 33,
      "metadata": {
        "colab": {
          "base_uri": "https://localhost:8080/",
          "height": 834
        },
        "id": "cd6yKappHkDB",
        "outputId": "011c960a-c975-414d-f6a1-ea4aeaca2b50"
      },
      "outputs": [
        {
          "output_type": "execute_result",
          "data": {
            "text/plain": [
              "              ID              Address  Rooms Type      Price        Date  \\\n",
              "0    ID220474863         4/8 Bevan St      2    u   614000.0  12/08/2017   \n",
              "1    ID742726415         46 Chapel St      3    h  1000000.0  15/07/2017   \n",
              "2    ID834037259       3/37 Atkins St      2    t   672000.0  17/09/2016   \n",
              "3    ID303125007        44 Milton Pde      3    h   780000.0   3/06/2017   \n",
              "4    ID213024439        4/605 High St      2    u   630000.0  20/05/2017   \n",
              "..           ...                  ...    ...  ...        ...         ...   \n",
              "676  ID800631788  805/300 Swanston St      2    u   665000.0   7/11/2016   \n",
              "677  ID529751296        2/953 High St      2    h   555000.0  11/02/2017   \n",
              "678  ID119745776        7 Rosshire Rd      3    h   776000.0  12/11/2016   \n",
              "679  ID521269741        22 Stewart St      2    h  1140000.0   3/12/2016   \n",
              "680  ID217692938       11/5 Warner St      1    u   456000.0   6/05/2017   \n",
              "\n",
              "     Bathroom  Car  Landsize    Age  ...                     geometry  \\\n",
              "0         1.0  1.0       0.0   79.0  ...  POINT (145.07468 -37.81303)   \n",
              "1         1.0  1.0     198.0   69.0  ...  POINT (144.99104 -37.86566)   \n",
              "2         1.0  1.0       0.0   39.0  ...  POINT (145.04460 -37.80940)   \n",
              "3         1.0  1.0     546.0  129.0  ...  POINT (145.06463 -37.69388)   \n",
              "4         1.0  1.0       0.0   49.0  ...  POINT (145.00880 -37.85380)   \n",
              "..        ...  ...       ...    ...  ...                          ...   \n",
              "676       1.0  1.0       0.0   15.0  ...  POINT (144.96460 -37.81060)   \n",
              "677       1.0  2.0     229.0   49.0  ...  POINT (145.00820 -37.71000)   \n",
              "678       1.0  3.0     363.0   49.0  ...  POINT (144.86730 -37.84760)   \n",
              "679       1.0  0.0     230.0   19.0  ...  POINT (145.05500 -37.82260)   \n",
              "680       1.0  1.0    4721.0   59.0  ...  POINT (145.03720 -37.85150)   \n",
              "\n",
              "            Suburb train_station_id distance_to_train_station  \\\n",
              "0           Balwyn            19893                  1.398997   \n",
              "1         St Kilda            19956                  0.478276   \n",
              "2              Kew            19903                  1.451061   \n",
              "3         Bundoora            19984                  2.542187   \n",
              "4          Prahran            19946                  0.561337   \n",
              "..             ...              ...                       ...   \n",
              "676      Melbourne            19842                  0.191196   \n",
              "677      Reservoir            20009                  0.261188   \n",
              "678        Newport            19994                  1.532443   \n",
              "679  Hawthorn East            19853                  0.548363   \n",
              "680        Malvern            19945                  1.664965   \n",
              "\n",
              "     travel_min_to_CBD  Year  over_priced?  crime_A_average crime_B_average  \\\n",
              "0            23.818182  2017          True       959.000000     4476.666667   \n",
              "1            17.500000  2017         False      1412.000000     6364.000000   \n",
              "2            18.000000  2016         False       271.666667      771.666667   \n",
              "3            37.461538  2017         False       684.000000     1695.666667   \n",
              "4            18.384615  2017         False       705.333333     5479.666667   \n",
              "..                 ...   ...           ...              ...             ...   \n",
              "676           4.722543  2016         False       278.000000      489.000000   \n",
              "677          35.111111  2017         False       885.000000     1901.000000   \n",
              "678          16.346154  2016         False        71.000000      261.000000   \n",
              "679          19.214286  2016         False      1144.333333     6845.666667   \n",
              "680          19.384615  2017         False       717.333333     1763.000000   \n",
              "\n",
              "     crime_C_average  \n",
              "0         324.000000  \n",
              "1         699.333333  \n",
              "2          74.000000  \n",
              "3         161.000000  \n",
              "4         335.000000  \n",
              "..               ...  \n",
              "676        65.000000  \n",
              "677       227.666667  \n",
              "678        20.000000  \n",
              "679       375.666667  \n",
              "680       318.666667  \n",
              "\n",
              "[681 rows x 22 columns]"
            ],
            "text/html": [
              "\n",
              "  <div id=\"df-06753a40-3b4e-41a5-a520-a4144a9c0acc\">\n",
              "    <div class=\"colab-df-container\">\n",
              "      <div>\n",
              "<style scoped>\n",
              "    .dataframe tbody tr th:only-of-type {\n",
              "        vertical-align: middle;\n",
              "    }\n",
              "\n",
              "    .dataframe tbody tr th {\n",
              "        vertical-align: top;\n",
              "    }\n",
              "\n",
              "    .dataframe thead th {\n",
              "        text-align: right;\n",
              "    }\n",
              "</style>\n",
              "<table border=\"1\" class=\"dataframe\">\n",
              "  <thead>\n",
              "    <tr style=\"text-align: right;\">\n",
              "      <th></th>\n",
              "      <th>ID</th>\n",
              "      <th>Address</th>\n",
              "      <th>Rooms</th>\n",
              "      <th>Type</th>\n",
              "      <th>Price</th>\n",
              "      <th>Date</th>\n",
              "      <th>Bathroom</th>\n",
              "      <th>Car</th>\n",
              "      <th>Landsize</th>\n",
              "      <th>Age</th>\n",
              "      <th>...</th>\n",
              "      <th>geometry</th>\n",
              "      <th>Suburb</th>\n",
              "      <th>train_station_id</th>\n",
              "      <th>distance_to_train_station</th>\n",
              "      <th>travel_min_to_CBD</th>\n",
              "      <th>Year</th>\n",
              "      <th>over_priced?</th>\n",
              "      <th>crime_A_average</th>\n",
              "      <th>crime_B_average</th>\n",
              "      <th>crime_C_average</th>\n",
              "    </tr>\n",
              "  </thead>\n",
              "  <tbody>\n",
              "    <tr>\n",
              "      <th>0</th>\n",
              "      <td>ID220474863</td>\n",
              "      <td>4/8 Bevan St</td>\n",
              "      <td>2</td>\n",
              "      <td>u</td>\n",
              "      <td>614000.0</td>\n",
              "      <td>12/08/2017</td>\n",
              "      <td>1.0</td>\n",
              "      <td>1.0</td>\n",
              "      <td>0.0</td>\n",
              "      <td>79.0</td>\n",
              "      <td>...</td>\n",
              "      <td>POINT (145.07468 -37.81303)</td>\n",
              "      <td>Balwyn</td>\n",
              "      <td>19893</td>\n",
              "      <td>1.398997</td>\n",
              "      <td>23.818182</td>\n",
              "      <td>2017</td>\n",
              "      <td>True</td>\n",
              "      <td>959.000000</td>\n",
              "      <td>4476.666667</td>\n",
              "      <td>324.000000</td>\n",
              "    </tr>\n",
              "    <tr>\n",
              "      <th>1</th>\n",
              "      <td>ID742726415</td>\n",
              "      <td>46 Chapel St</td>\n",
              "      <td>3</td>\n",
              "      <td>h</td>\n",
              "      <td>1000000.0</td>\n",
              "      <td>15/07/2017</td>\n",
              "      <td>1.0</td>\n",
              "      <td>1.0</td>\n",
              "      <td>198.0</td>\n",
              "      <td>69.0</td>\n",
              "      <td>...</td>\n",
              "      <td>POINT (144.99104 -37.86566)</td>\n",
              "      <td>St Kilda</td>\n",
              "      <td>19956</td>\n",
              "      <td>0.478276</td>\n",
              "      <td>17.500000</td>\n",
              "      <td>2017</td>\n",
              "      <td>False</td>\n",
              "      <td>1412.000000</td>\n",
              "      <td>6364.000000</td>\n",
              "      <td>699.333333</td>\n",
              "    </tr>\n",
              "    <tr>\n",
              "      <th>2</th>\n",
              "      <td>ID834037259</td>\n",
              "      <td>3/37 Atkins St</td>\n",
              "      <td>2</td>\n",
              "      <td>t</td>\n",
              "      <td>672000.0</td>\n",
              "      <td>17/09/2016</td>\n",
              "      <td>1.0</td>\n",
              "      <td>1.0</td>\n",
              "      <td>0.0</td>\n",
              "      <td>39.0</td>\n",
              "      <td>...</td>\n",
              "      <td>POINT (145.04460 -37.80940)</td>\n",
              "      <td>Kew</td>\n",
              "      <td>19903</td>\n",
              "      <td>1.451061</td>\n",
              "      <td>18.000000</td>\n",
              "      <td>2016</td>\n",
              "      <td>False</td>\n",
              "      <td>271.666667</td>\n",
              "      <td>771.666667</td>\n",
              "      <td>74.000000</td>\n",
              "    </tr>\n",
              "    <tr>\n",
              "      <th>3</th>\n",
              "      <td>ID303125007</td>\n",
              "      <td>44 Milton Pde</td>\n",
              "      <td>3</td>\n",
              "      <td>h</td>\n",
              "      <td>780000.0</td>\n",
              "      <td>3/06/2017</td>\n",
              "      <td>1.0</td>\n",
              "      <td>1.0</td>\n",
              "      <td>546.0</td>\n",
              "      <td>129.0</td>\n",
              "      <td>...</td>\n",
              "      <td>POINT (145.06463 -37.69388)</td>\n",
              "      <td>Bundoora</td>\n",
              "      <td>19984</td>\n",
              "      <td>2.542187</td>\n",
              "      <td>37.461538</td>\n",
              "      <td>2017</td>\n",
              "      <td>False</td>\n",
              "      <td>684.000000</td>\n",
              "      <td>1695.666667</td>\n",
              "      <td>161.000000</td>\n",
              "    </tr>\n",
              "    <tr>\n",
              "      <th>4</th>\n",
              "      <td>ID213024439</td>\n",
              "      <td>4/605 High St</td>\n",
              "      <td>2</td>\n",
              "      <td>u</td>\n",
              "      <td>630000.0</td>\n",
              "      <td>20/05/2017</td>\n",
              "      <td>1.0</td>\n",
              "      <td>1.0</td>\n",
              "      <td>0.0</td>\n",
              "      <td>49.0</td>\n",
              "      <td>...</td>\n",
              "      <td>POINT (145.00880 -37.85380)</td>\n",
              "      <td>Prahran</td>\n",
              "      <td>19946</td>\n",
              "      <td>0.561337</td>\n",
              "      <td>18.384615</td>\n",
              "      <td>2017</td>\n",
              "      <td>False</td>\n",
              "      <td>705.333333</td>\n",
              "      <td>5479.666667</td>\n",
              "      <td>335.000000</td>\n",
              "    </tr>\n",
              "    <tr>\n",
              "      <th>...</th>\n",
              "      <td>...</td>\n",
              "      <td>...</td>\n",
              "      <td>...</td>\n",
              "      <td>...</td>\n",
              "      <td>...</td>\n",
              "      <td>...</td>\n",
              "      <td>...</td>\n",
              "      <td>...</td>\n",
              "      <td>...</td>\n",
              "      <td>...</td>\n",
              "      <td>...</td>\n",
              "      <td>...</td>\n",
              "      <td>...</td>\n",
              "      <td>...</td>\n",
              "      <td>...</td>\n",
              "      <td>...</td>\n",
              "      <td>...</td>\n",
              "      <td>...</td>\n",
              "      <td>...</td>\n",
              "      <td>...</td>\n",
              "      <td>...</td>\n",
              "    </tr>\n",
              "    <tr>\n",
              "      <th>676</th>\n",
              "      <td>ID800631788</td>\n",
              "      <td>805/300 Swanston St</td>\n",
              "      <td>2</td>\n",
              "      <td>u</td>\n",
              "      <td>665000.0</td>\n",
              "      <td>7/11/2016</td>\n",
              "      <td>1.0</td>\n",
              "      <td>1.0</td>\n",
              "      <td>0.0</td>\n",
              "      <td>15.0</td>\n",
              "      <td>...</td>\n",
              "      <td>POINT (144.96460 -37.81060)</td>\n",
              "      <td>Melbourne</td>\n",
              "      <td>19842</td>\n",
              "      <td>0.191196</td>\n",
              "      <td>4.722543</td>\n",
              "      <td>2016</td>\n",
              "      <td>False</td>\n",
              "      <td>278.000000</td>\n",
              "      <td>489.000000</td>\n",
              "      <td>65.000000</td>\n",
              "    </tr>\n",
              "    <tr>\n",
              "      <th>677</th>\n",
              "      <td>ID529751296</td>\n",
              "      <td>2/953 High St</td>\n",
              "      <td>2</td>\n",
              "      <td>h</td>\n",
              "      <td>555000.0</td>\n",
              "      <td>11/02/2017</td>\n",
              "      <td>1.0</td>\n",
              "      <td>2.0</td>\n",
              "      <td>229.0</td>\n",
              "      <td>49.0</td>\n",
              "      <td>...</td>\n",
              "      <td>POINT (145.00820 -37.71000)</td>\n",
              "      <td>Reservoir</td>\n",
              "      <td>20009</td>\n",
              "      <td>0.261188</td>\n",
              "      <td>35.111111</td>\n",
              "      <td>2017</td>\n",
              "      <td>False</td>\n",
              "      <td>885.000000</td>\n",
              "      <td>1901.000000</td>\n",
              "      <td>227.666667</td>\n",
              "    </tr>\n",
              "    <tr>\n",
              "      <th>678</th>\n",
              "      <td>ID119745776</td>\n",
              "      <td>7 Rosshire Rd</td>\n",
              "      <td>3</td>\n",
              "      <td>h</td>\n",
              "      <td>776000.0</td>\n",
              "      <td>12/11/2016</td>\n",
              "      <td>1.0</td>\n",
              "      <td>3.0</td>\n",
              "      <td>363.0</td>\n",
              "      <td>49.0</td>\n",
              "      <td>...</td>\n",
              "      <td>POINT (144.86730 -37.84760)</td>\n",
              "      <td>Newport</td>\n",
              "      <td>19994</td>\n",
              "      <td>1.532443</td>\n",
              "      <td>16.346154</td>\n",
              "      <td>2016</td>\n",
              "      <td>False</td>\n",
              "      <td>71.000000</td>\n",
              "      <td>261.000000</td>\n",
              "      <td>20.000000</td>\n",
              "    </tr>\n",
              "    <tr>\n",
              "      <th>679</th>\n",
              "      <td>ID521269741</td>\n",
              "      <td>22 Stewart St</td>\n",
              "      <td>2</td>\n",
              "      <td>h</td>\n",
              "      <td>1140000.0</td>\n",
              "      <td>3/12/2016</td>\n",
              "      <td>1.0</td>\n",
              "      <td>0.0</td>\n",
              "      <td>230.0</td>\n",
              "      <td>19.0</td>\n",
              "      <td>...</td>\n",
              "      <td>POINT (145.05500 -37.82260)</td>\n",
              "      <td>Hawthorn East</td>\n",
              "      <td>19853</td>\n",
              "      <td>0.548363</td>\n",
              "      <td>19.214286</td>\n",
              "      <td>2016</td>\n",
              "      <td>False</td>\n",
              "      <td>1144.333333</td>\n",
              "      <td>6845.666667</td>\n",
              "      <td>375.666667</td>\n",
              "    </tr>\n",
              "    <tr>\n",
              "      <th>680</th>\n",
              "      <td>ID217692938</td>\n",
              "      <td>11/5 Warner St</td>\n",
              "      <td>1</td>\n",
              "      <td>u</td>\n",
              "      <td>456000.0</td>\n",
              "      <td>6/05/2017</td>\n",
              "      <td>1.0</td>\n",
              "      <td>1.0</td>\n",
              "      <td>4721.0</td>\n",
              "      <td>59.0</td>\n",
              "      <td>...</td>\n",
              "      <td>POINT (145.03720 -37.85150)</td>\n",
              "      <td>Malvern</td>\n",
              "      <td>19945</td>\n",
              "      <td>1.664965</td>\n",
              "      <td>19.384615</td>\n",
              "      <td>2017</td>\n",
              "      <td>False</td>\n",
              "      <td>717.333333</td>\n",
              "      <td>1763.000000</td>\n",
              "      <td>318.666667</td>\n",
              "    </tr>\n",
              "  </tbody>\n",
              "</table>\n",
              "<p>681 rows × 22 columns</p>\n",
              "</div>\n",
              "      <button class=\"colab-df-convert\" onclick=\"convertToInteractive('df-06753a40-3b4e-41a5-a520-a4144a9c0acc')\"\n",
              "              title=\"Convert this dataframe to an interactive table.\"\n",
              "              style=\"display:none;\">\n",
              "        \n",
              "  <svg xmlns=\"http://www.w3.org/2000/svg\" height=\"24px\"viewBox=\"0 0 24 24\"\n",
              "       width=\"24px\">\n",
              "    <path d=\"M0 0h24v24H0V0z\" fill=\"none\"/>\n",
              "    <path d=\"M18.56 5.44l.94 2.06.94-2.06 2.06-.94-2.06-.94-.94-2.06-.94 2.06-2.06.94zm-11 1L8.5 8.5l.94-2.06 2.06-.94-2.06-.94L8.5 2.5l-.94 2.06-2.06.94zm10 10l.94 2.06.94-2.06 2.06-.94-2.06-.94-.94-2.06-.94 2.06-2.06.94z\"/><path d=\"M17.41 7.96l-1.37-1.37c-.4-.4-.92-.59-1.43-.59-.52 0-1.04.2-1.43.59L10.3 9.45l-7.72 7.72c-.78.78-.78 2.05 0 2.83L4 21.41c.39.39.9.59 1.41.59.51 0 1.02-.2 1.41-.59l7.78-7.78 2.81-2.81c.8-.78.8-2.07 0-2.86zM5.41 20L4 18.59l7.72-7.72 1.47 1.35L5.41 20z\"/>\n",
              "  </svg>\n",
              "      </button>\n",
              "      \n",
              "  <style>\n",
              "    .colab-df-container {\n",
              "      display:flex;\n",
              "      flex-wrap:wrap;\n",
              "      gap: 12px;\n",
              "    }\n",
              "\n",
              "    .colab-df-convert {\n",
              "      background-color: #E8F0FE;\n",
              "      border: none;\n",
              "      border-radius: 50%;\n",
              "      cursor: pointer;\n",
              "      display: none;\n",
              "      fill: #1967D2;\n",
              "      height: 32px;\n",
              "      padding: 0 0 0 0;\n",
              "      width: 32px;\n",
              "    }\n",
              "\n",
              "    .colab-df-convert:hover {\n",
              "      background-color: #E2EBFA;\n",
              "      box-shadow: 0px 1px 2px rgba(60, 64, 67, 0.3), 0px 1px 3px 1px rgba(60, 64, 67, 0.15);\n",
              "      fill: #174EA6;\n",
              "    }\n",
              "\n",
              "    [theme=dark] .colab-df-convert {\n",
              "      background-color: #3B4455;\n",
              "      fill: #D2E3FC;\n",
              "    }\n",
              "\n",
              "    [theme=dark] .colab-df-convert:hover {\n",
              "      background-color: #434B5C;\n",
              "      box-shadow: 0px 1px 3px 1px rgba(0, 0, 0, 0.15);\n",
              "      filter: drop-shadow(0px 1px 2px rgba(0, 0, 0, 0.3));\n",
              "      fill: #FFFFFF;\n",
              "    }\n",
              "  </style>\n",
              "\n",
              "      <script>\n",
              "        const buttonEl =\n",
              "          document.querySelector('#df-06753a40-3b4e-41a5-a520-a4144a9c0acc button.colab-df-convert');\n",
              "        buttonEl.style.display =\n",
              "          google.colab.kernel.accessAllowed ? 'block' : 'none';\n",
              "\n",
              "        async function convertToInteractive(key) {\n",
              "          const element = document.querySelector('#df-06753a40-3b4e-41a5-a520-a4144a9c0acc');\n",
              "          const dataTable =\n",
              "            await google.colab.kernel.invokeFunction('convertToInteractive',\n",
              "                                                     [key], {});\n",
              "          if (!dataTable) return;\n",
              "\n",
              "          const docLinkHtml = 'Like what you see? Visit the ' +\n",
              "            '<a target=\"_blank\" href=https://colab.research.google.com/notebooks/data_table.ipynb>data table notebook</a>'\n",
              "            + ' to learn more about interactive tables.';\n",
              "          element.innerHTML = '';\n",
              "          dataTable['output_type'] = 'display_data';\n",
              "          await google.colab.output.renderOutput(dataTable, element);\n",
              "          const docLink = document.createElement('div');\n",
              "          docLink.innerHTML = docLinkHtml;\n",
              "          element.appendChild(docLink);\n",
              "        }\n",
              "      </script>\n",
              "    </div>\n",
              "  </div>\n",
              "  "
            ]
          },
          "metadata": {},
          "execution_count": 33
        }
      ],
      "source": [
        "# and now the df file is almost ready with all the attributes found\n",
        "df"
      ]
    },
    {
      "cell_type": "code",
      "execution_count": 34,
      "metadata": {
        "id": "cpWOBaEXMhr7"
      },
      "outputs": [],
      "source": [
        "# Drop \"Year\" column in the dataframe\n",
        "df = df.drop([\"Year\"], axis = 1)"
      ]
    },
    {
      "cell_type": "code",
      "execution_count": 35,
      "metadata": {
        "id": "lMPpI_m6FQjp"
      },
      "outputs": [],
      "source": [
        "# Create output df and re-arrange columns order\n",
        "output = df[[\"ID\", \"Address\", \"Rooms\", \"Type\", \"Price\", \"Date\", \"Bathroom\", \"Car\", \"Landsize\", \"Age\", \"Lattitude\", \"Longtitude\", \"Suburb\", \"train_station_id\", \"distance_to_train_station\", \"travel_min_to_CBD\", \"over_priced?\", \"crime_A_average\", \"crime_B_average\", \"crime_C_average\"]]"
      ]
    },
    {
      "cell_type": "code",
      "execution_count": 36,
      "metadata": {
        "id": "c99oDZc6GHO-"
      },
      "outputs": [],
      "source": [
        "# Exportt as csv file\n",
        "os.chdir(\"/content/drive/MyDrive/5196A3\")\n",
        "output.to_csv(\"32973381_solution.csv\", index = False)"
      ]
    },
    {
      "cell_type": "markdown",
      "metadata": {
        "id": "b_jyCtKVOfLu"
      },
      "source": [
        "-------------------------------------"
      ]
    },
    {
      "cell_type": "markdown",
      "metadata": {
        "id": "BgpYNYcdeBPy"
      },
      "source": [
        "<div class=\"alert alert-block alert-warning\">\n",
        "\n",
        "## 4. Task 2: data reshaping  <a class=\"anchor\" name=\"t2\"></a>\n",
        "    \n",
        "</div>"
      ]
    },
    {
      "cell_type": "code",
      "execution_count": 37,
      "metadata": {
        "colab": {
          "base_uri": "https://localhost:8080/",
          "height": 300
        },
        "id": "999_CwwReHYC",
        "outputId": "67a74183-b3b3-4c5c-c3bc-56dcca34f641"
      },
      "outputs": [
        {
          "output_type": "execute_result",
          "data": {
            "text/plain": [
              "            Rooms  crime_C_average  travel_min_to_CBD         Age  \\\n",
              "count  681.000000       681.000000         681.000000  681.000000   \n",
              "mean     2.972100       431.281449          26.361920   55.447871   \n",
              "std      0.947497       406.434945          11.035975   46.257597   \n",
              "min      1.000000         1.000000           3.176471    2.000000   \n",
              "25%      2.000000       159.333333          19.384615   22.000000   \n",
              "50%      3.000000       335.000000          25.933333   49.000000   \n",
              "75%      4.000000       564.333333          32.416667   79.000000   \n",
              "max      7.000000      2042.333333          68.666667  823.000000   \n",
              "\n",
              "              Price  \n",
              "count  6.810000e+02  \n",
              "mean   1.083457e+06  \n",
              "std    6.535910e+05  \n",
              "min    2.160000e+05  \n",
              "25%    6.750000e+05  \n",
              "50%    9.100000e+05  \n",
              "75%    1.350000e+06  \n",
              "max    6.400000e+06  "
            ],
            "text/html": [
              "\n",
              "  <div id=\"df-e5b931f2-f0e1-452a-b8de-58dc211a2d64\">\n",
              "    <div class=\"colab-df-container\">\n",
              "      <div>\n",
              "<style scoped>\n",
              "    .dataframe tbody tr th:only-of-type {\n",
              "        vertical-align: middle;\n",
              "    }\n",
              "\n",
              "    .dataframe tbody tr th {\n",
              "        vertical-align: top;\n",
              "    }\n",
              "\n",
              "    .dataframe thead th {\n",
              "        text-align: right;\n",
              "    }\n",
              "</style>\n",
              "<table border=\"1\" class=\"dataframe\">\n",
              "  <thead>\n",
              "    <tr style=\"text-align: right;\">\n",
              "      <th></th>\n",
              "      <th>Rooms</th>\n",
              "      <th>crime_C_average</th>\n",
              "      <th>travel_min_to_CBD</th>\n",
              "      <th>Age</th>\n",
              "      <th>Price</th>\n",
              "    </tr>\n",
              "  </thead>\n",
              "  <tbody>\n",
              "    <tr>\n",
              "      <th>count</th>\n",
              "      <td>681.000000</td>\n",
              "      <td>681.000000</td>\n",
              "      <td>681.000000</td>\n",
              "      <td>681.000000</td>\n",
              "      <td>6.810000e+02</td>\n",
              "    </tr>\n",
              "    <tr>\n",
              "      <th>mean</th>\n",
              "      <td>2.972100</td>\n",
              "      <td>431.281449</td>\n",
              "      <td>26.361920</td>\n",
              "      <td>55.447871</td>\n",
              "      <td>1.083457e+06</td>\n",
              "    </tr>\n",
              "    <tr>\n",
              "      <th>std</th>\n",
              "      <td>0.947497</td>\n",
              "      <td>406.434945</td>\n",
              "      <td>11.035975</td>\n",
              "      <td>46.257597</td>\n",
              "      <td>6.535910e+05</td>\n",
              "    </tr>\n",
              "    <tr>\n",
              "      <th>min</th>\n",
              "      <td>1.000000</td>\n",
              "      <td>1.000000</td>\n",
              "      <td>3.176471</td>\n",
              "      <td>2.000000</td>\n",
              "      <td>2.160000e+05</td>\n",
              "    </tr>\n",
              "    <tr>\n",
              "      <th>25%</th>\n",
              "      <td>2.000000</td>\n",
              "      <td>159.333333</td>\n",
              "      <td>19.384615</td>\n",
              "      <td>22.000000</td>\n",
              "      <td>6.750000e+05</td>\n",
              "    </tr>\n",
              "    <tr>\n",
              "      <th>50%</th>\n",
              "      <td>3.000000</td>\n",
              "      <td>335.000000</td>\n",
              "      <td>25.933333</td>\n",
              "      <td>49.000000</td>\n",
              "      <td>9.100000e+05</td>\n",
              "    </tr>\n",
              "    <tr>\n",
              "      <th>75%</th>\n",
              "      <td>4.000000</td>\n",
              "      <td>564.333333</td>\n",
              "      <td>32.416667</td>\n",
              "      <td>79.000000</td>\n",
              "      <td>1.350000e+06</td>\n",
              "    </tr>\n",
              "    <tr>\n",
              "      <th>max</th>\n",
              "      <td>7.000000</td>\n",
              "      <td>2042.333333</td>\n",
              "      <td>68.666667</td>\n",
              "      <td>823.000000</td>\n",
              "      <td>6.400000e+06</td>\n",
              "    </tr>\n",
              "  </tbody>\n",
              "</table>\n",
              "</div>\n",
              "      <button class=\"colab-df-convert\" onclick=\"convertToInteractive('df-e5b931f2-f0e1-452a-b8de-58dc211a2d64')\"\n",
              "              title=\"Convert this dataframe to an interactive table.\"\n",
              "              style=\"display:none;\">\n",
              "        \n",
              "  <svg xmlns=\"http://www.w3.org/2000/svg\" height=\"24px\"viewBox=\"0 0 24 24\"\n",
              "       width=\"24px\">\n",
              "    <path d=\"M0 0h24v24H0V0z\" fill=\"none\"/>\n",
              "    <path d=\"M18.56 5.44l.94 2.06.94-2.06 2.06-.94-2.06-.94-.94-2.06-.94 2.06-2.06.94zm-11 1L8.5 8.5l.94-2.06 2.06-.94-2.06-.94L8.5 2.5l-.94 2.06-2.06.94zm10 10l.94 2.06.94-2.06 2.06-.94-2.06-.94-.94-2.06-.94 2.06-2.06.94z\"/><path d=\"M17.41 7.96l-1.37-1.37c-.4-.4-.92-.59-1.43-.59-.52 0-1.04.2-1.43.59L10.3 9.45l-7.72 7.72c-.78.78-.78 2.05 0 2.83L4 21.41c.39.39.9.59 1.41.59.51 0 1.02-.2 1.41-.59l7.78-7.78 2.81-2.81c.8-.78.8-2.07 0-2.86zM5.41 20L4 18.59l7.72-7.72 1.47 1.35L5.41 20z\"/>\n",
              "  </svg>\n",
              "      </button>\n",
              "      \n",
              "  <style>\n",
              "    .colab-df-container {\n",
              "      display:flex;\n",
              "      flex-wrap:wrap;\n",
              "      gap: 12px;\n",
              "    }\n",
              "\n",
              "    .colab-df-convert {\n",
              "      background-color: #E8F0FE;\n",
              "      border: none;\n",
              "      border-radius: 50%;\n",
              "      cursor: pointer;\n",
              "      display: none;\n",
              "      fill: #1967D2;\n",
              "      height: 32px;\n",
              "      padding: 0 0 0 0;\n",
              "      width: 32px;\n",
              "    }\n",
              "\n",
              "    .colab-df-convert:hover {\n",
              "      background-color: #E2EBFA;\n",
              "      box-shadow: 0px 1px 2px rgba(60, 64, 67, 0.3), 0px 1px 3px 1px rgba(60, 64, 67, 0.15);\n",
              "      fill: #174EA6;\n",
              "    }\n",
              "\n",
              "    [theme=dark] .colab-df-convert {\n",
              "      background-color: #3B4455;\n",
              "      fill: #D2E3FC;\n",
              "    }\n",
              "\n",
              "    [theme=dark] .colab-df-convert:hover {\n",
              "      background-color: #434B5C;\n",
              "      box-shadow: 0px 1px 3px 1px rgba(0, 0, 0, 0.15);\n",
              "      filter: drop-shadow(0px 1px 2px rgba(0, 0, 0, 0.3));\n",
              "      fill: #FFFFFF;\n",
              "    }\n",
              "  </style>\n",
              "\n",
              "      <script>\n",
              "        const buttonEl =\n",
              "          document.querySelector('#df-e5b931f2-f0e1-452a-b8de-58dc211a2d64 button.colab-df-convert');\n",
              "        buttonEl.style.display =\n",
              "          google.colab.kernel.accessAllowed ? 'block' : 'none';\n",
              "\n",
              "        async function convertToInteractive(key) {\n",
              "          const element = document.querySelector('#df-e5b931f2-f0e1-452a-b8de-58dc211a2d64');\n",
              "          const dataTable =\n",
              "            await google.colab.kernel.invokeFunction('convertToInteractive',\n",
              "                                                     [key], {});\n",
              "          if (!dataTable) return;\n",
              "\n",
              "          const docLinkHtml = 'Like what you see? Visit the ' +\n",
              "            '<a target=\"_blank\" href=https://colab.research.google.com/notebooks/data_table.ipynb>data table notebook</a>'\n",
              "            + ' to learn more about interactive tables.';\n",
              "          element.innerHTML = '';\n",
              "          dataTable['output_type'] = 'display_data';\n",
              "          await google.colab.output.renderOutput(dataTable, element);\n",
              "          const docLink = document.createElement('div');\n",
              "          docLink.innerHTML = docLinkHtml;\n",
              "          element.appendChild(docLink);\n",
              "        }\n",
              "      </script>\n",
              "    </div>\n",
              "  </div>\n",
              "  "
            ]
          },
          "metadata": {},
          "execution_count": 37
        }
      ],
      "source": [
        "# Select and observe the instructed estimators and output\n",
        "df[[\"Rooms\", \"crime_C_average\", \"travel_min_to_CBD\", \"Age\", \"Price\"]].describe()"
      ]
    },
    {
      "cell_type": "markdown",
      "metadata": {
        "id": "xoTtxYRGe92-"
      },
      "source": [
        "As observed from the tables above, if the four attributes:\n",
        "\"Rooms\", \"crime_C_average\", \"travel_min_to_CBD\", and \"Age\" are required to put into a linear model on predicting the price value, they result could be biased due to their difference in scale.\n",
        "\n",
        "Rooms: values ranged from 1 to 7, which is the normal number of room number a property has\n",
        "\n",
        "crime_C_average: number of crime throughout a whole year (average of 3 years), which is supposed to be a lot larger than the number of rooms a property has.\n",
        "\n",
        "travel_min_to_CBD: time values measured in minutes, which ranged from 3 minutes to 68 minutes.\n",
        "\n",
        "Age: Age of property ranged from the smallest number 2 to the largest 823.\n",
        "\n",
        "Bias in model could be caused by their difference in scale applied."
      ]
    },
    {
      "cell_type": "markdown",
      "metadata": {
        "id": "sDwOq3HOOf5n"
      },
      "source": [
        "-------------------------------------"
      ]
    },
    {
      "cell_type": "markdown",
      "metadata": {
        "id": "PKLcDtlpQzov"
      },
      "source": [
        "<div class=\"alert alert-block alert-warning\">\n",
        "\n",
        "## 4.1 Normalization  <a class=\"anchor\" name=\"norm\"></a>\n",
        "    \n",
        "</div>"
      ]
    },
    {
      "cell_type": "markdown",
      "metadata": {
        "id": "930UEMeKhM3c"
      },
      "source": [
        "<div class=\"alert alert-block alert-warning\">\n",
        "\n",
        "## 4.1.1 Z-Score Normalization  <a class=\"anchor\" name=\"zscore\"></a>\n",
        "    \n",
        "</div>"
      ]
    },
    {
      "cell_type": "markdown",
      "metadata": {
        "id": "MgpRTFNh4MCz"
      },
      "source": [
        "The first normalization method to perform is the Z-score normalization method. The aim of this method is to convert the original data into a standard normal distribution with mean of 0 and variance of 1.\n",
        "\n",
        "The benefit of this is that all attributes will be based on the same scale after such normalization process."
      ]
    },
    {
      "cell_type": "code",
      "execution_count": 38,
      "metadata": {
        "id": "VeTsjW2LeHcx"
      },
      "outputs": [],
      "source": [
        "# Get desired attributes for linear model\n",
        "df_copy = df[[\"crime_C_average\", \"Rooms\", \"travel_min_to_CBD\", \"Age\", \"Price\"]]\n",
        "# Apply normalization\n",
        "std_scale = preprocessing.StandardScaler().fit(df_copy[[\"crime_C_average\", \"Rooms\", \"travel_min_to_CBD\", \"Age\", \"Price\"]])\n",
        "df_std = std_scale.transform(df[[\"crime_C_average\", \"Rooms\", \"travel_min_to_CBD\", \"Age\", \"Price\"]])"
      ]
    },
    {
      "cell_type": "code",
      "execution_count": 39,
      "metadata": {
        "colab": {
          "base_uri": "https://localhost:8080/"
        },
        "id": "6smw4SsseHfj",
        "outputId": "fa621afd-2ef8-4626-a17d-ac3be1586f52"
      },
      "outputs": [
        {
          "output_type": "stream",
          "name": "stderr",
          "text": [
            "/usr/local/lib/python3.7/dist-packages/ipykernel_launcher.py:1: SettingWithCopyWarning: \n",
            "A value is trying to be set on a copy of a slice from a DataFrame.\n",
            "Try using .loc[row_indexer,col_indexer] = value instead\n",
            "\n",
            "See the caveats in the documentation: https://pandas.pydata.org/pandas-docs/stable/user_guide/indexing.html#returning-a-view-versus-a-copy\n",
            "  \"\"\"Entry point for launching an IPython kernel.\n",
            "/usr/local/lib/python3.7/dist-packages/ipykernel_launcher.py:2: SettingWithCopyWarning: \n",
            "A value is trying to be set on a copy of a slice from a DataFrame.\n",
            "Try using .loc[row_indexer,col_indexer] = value instead\n",
            "\n",
            "See the caveats in the documentation: https://pandas.pydata.org/pandas-docs/stable/user_guide/indexing.html#returning-a-view-versus-a-copy\n",
            "  \n",
            "/usr/local/lib/python3.7/dist-packages/ipykernel_launcher.py:3: SettingWithCopyWarning: \n",
            "A value is trying to be set on a copy of a slice from a DataFrame.\n",
            "Try using .loc[row_indexer,col_indexer] = value instead\n",
            "\n",
            "See the caveats in the documentation: https://pandas.pydata.org/pandas-docs/stable/user_guide/indexing.html#returning-a-view-versus-a-copy\n",
            "  This is separate from the ipykernel package so we can avoid doing imports until\n",
            "/usr/local/lib/python3.7/dist-packages/ipykernel_launcher.py:4: SettingWithCopyWarning: \n",
            "A value is trying to be set on a copy of a slice from a DataFrame.\n",
            "Try using .loc[row_indexer,col_indexer] = value instead\n",
            "\n",
            "See the caveats in the documentation: https://pandas.pydata.org/pandas-docs/stable/user_guide/indexing.html#returning-a-view-versus-a-copy\n",
            "  after removing the cwd from sys.path.\n",
            "/usr/local/lib/python3.7/dist-packages/ipykernel_launcher.py:5: SettingWithCopyWarning: \n",
            "A value is trying to be set on a copy of a slice from a DataFrame.\n",
            "Try using .loc[row_indexer,col_indexer] = value instead\n",
            "\n",
            "See the caveats in the documentation: https://pandas.pydata.org/pandas-docs/stable/user_guide/indexing.html#returning-a-view-versus-a-copy\n",
            "  \"\"\"\n"
          ]
        }
      ],
      "source": [
        "df_copy[\"scaled_crime\"] = df_std[:,0]\n",
        "df_copy[\"scaled_rooms\"] = df_std[:,1]\n",
        "df_copy[\"scaled_time\"] = df_std[:,2]\n",
        "df_copy[\"scaled_age\"] = df_std[:,3]\n",
        "df_copy[\"scaled_p\"] = df_std[:,4]"
      ]
    },
    {
      "cell_type": "code",
      "execution_count": 40,
      "metadata": {
        "colab": {
          "base_uri": "https://localhost:8080/",
          "height": 364
        },
        "id": "3NGADjmWit2l",
        "outputId": "65a6727c-007f-4a81-c28f-5f0bcf7d43d4"
      },
      "outputs": [
        {
          "output_type": "execute_result",
          "data": {
            "text/plain": [
              "       crime_C_average       Rooms  travel_min_to_CBD         Age  \\\n",
              "count       681.000000  681.000000         681.000000  681.000000   \n",
              "mean        431.281449    2.972100          26.361920   55.447871   \n",
              "std         406.434945    0.947497          11.035975   46.257597   \n",
              "min           1.000000    1.000000           3.176471    2.000000   \n",
              "25%         159.333333    2.000000          19.384615   22.000000   \n",
              "50%         335.000000    3.000000          25.933333   49.000000   \n",
              "75%         564.333333    4.000000          32.416667   79.000000   \n",
              "max        2042.333333    7.000000          68.666667  823.000000   \n",
              "\n",
              "              Price  scaled_crime  scaled_rooms   scaled_time    scaled_age  \\\n",
              "count  6.810000e+02  6.810000e+02  6.810000e+02  6.810000e+02  6.810000e+02   \n",
              "mean   1.083457e+06  1.252058e-16 -7.825361e-18  1.988946e-16  2.347608e-17   \n",
              "std    6.535910e+05  1.000735e+00  1.000735e+00  1.000735e+00  1.000735e+00   \n",
              "min    2.160000e+05 -1.059451e+00 -2.082909e+00 -2.102441e+00 -1.156289e+00   \n",
              "25%    6.750000e+05 -6.695979e-01 -1.026721e+00 -6.326974e-01 -7.236099e-01   \n",
              "50%    9.100000e+05 -2.370668e-01  2.946781e-02 -3.886394e-02 -1.394930e-01   \n",
              "75%    1.350000e+06  3.276039e-01  1.085656e+00  5.490405e-01  5.095258e-01   \n",
              "max    6.400000e+06  3.966775e+00  4.254222e+00  3.836167e+00  1.660519e+01   \n",
              "\n",
              "           scaled_p  \n",
              "count  6.810000e+02  \n",
              "mean   1.017297e-16  \n",
              "std    1.000735e+00  \n",
              "min   -1.328192e+00  \n",
              "25%   -6.254014e-01  \n",
              "50%   -2.655851e-01  \n",
              "75%    4.081136e-01  \n",
              "max    8.140337e+00  "
            ],
            "text/html": [
              "\n",
              "  <div id=\"df-98eecdfe-e094-43e7-984c-383144b6f788\">\n",
              "    <div class=\"colab-df-container\">\n",
              "      <div>\n",
              "<style scoped>\n",
              "    .dataframe tbody tr th:only-of-type {\n",
              "        vertical-align: middle;\n",
              "    }\n",
              "\n",
              "    .dataframe tbody tr th {\n",
              "        vertical-align: top;\n",
              "    }\n",
              "\n",
              "    .dataframe thead th {\n",
              "        text-align: right;\n",
              "    }\n",
              "</style>\n",
              "<table border=\"1\" class=\"dataframe\">\n",
              "  <thead>\n",
              "    <tr style=\"text-align: right;\">\n",
              "      <th></th>\n",
              "      <th>crime_C_average</th>\n",
              "      <th>Rooms</th>\n",
              "      <th>travel_min_to_CBD</th>\n",
              "      <th>Age</th>\n",
              "      <th>Price</th>\n",
              "      <th>scaled_crime</th>\n",
              "      <th>scaled_rooms</th>\n",
              "      <th>scaled_time</th>\n",
              "      <th>scaled_age</th>\n",
              "      <th>scaled_p</th>\n",
              "    </tr>\n",
              "  </thead>\n",
              "  <tbody>\n",
              "    <tr>\n",
              "      <th>count</th>\n",
              "      <td>681.000000</td>\n",
              "      <td>681.000000</td>\n",
              "      <td>681.000000</td>\n",
              "      <td>681.000000</td>\n",
              "      <td>6.810000e+02</td>\n",
              "      <td>6.810000e+02</td>\n",
              "      <td>6.810000e+02</td>\n",
              "      <td>6.810000e+02</td>\n",
              "      <td>6.810000e+02</td>\n",
              "      <td>6.810000e+02</td>\n",
              "    </tr>\n",
              "    <tr>\n",
              "      <th>mean</th>\n",
              "      <td>431.281449</td>\n",
              "      <td>2.972100</td>\n",
              "      <td>26.361920</td>\n",
              "      <td>55.447871</td>\n",
              "      <td>1.083457e+06</td>\n",
              "      <td>1.252058e-16</td>\n",
              "      <td>-7.825361e-18</td>\n",
              "      <td>1.988946e-16</td>\n",
              "      <td>2.347608e-17</td>\n",
              "      <td>1.017297e-16</td>\n",
              "    </tr>\n",
              "    <tr>\n",
              "      <th>std</th>\n",
              "      <td>406.434945</td>\n",
              "      <td>0.947497</td>\n",
              "      <td>11.035975</td>\n",
              "      <td>46.257597</td>\n",
              "      <td>6.535910e+05</td>\n",
              "      <td>1.000735e+00</td>\n",
              "      <td>1.000735e+00</td>\n",
              "      <td>1.000735e+00</td>\n",
              "      <td>1.000735e+00</td>\n",
              "      <td>1.000735e+00</td>\n",
              "    </tr>\n",
              "    <tr>\n",
              "      <th>min</th>\n",
              "      <td>1.000000</td>\n",
              "      <td>1.000000</td>\n",
              "      <td>3.176471</td>\n",
              "      <td>2.000000</td>\n",
              "      <td>2.160000e+05</td>\n",
              "      <td>-1.059451e+00</td>\n",
              "      <td>-2.082909e+00</td>\n",
              "      <td>-2.102441e+00</td>\n",
              "      <td>-1.156289e+00</td>\n",
              "      <td>-1.328192e+00</td>\n",
              "    </tr>\n",
              "    <tr>\n",
              "      <th>25%</th>\n",
              "      <td>159.333333</td>\n",
              "      <td>2.000000</td>\n",
              "      <td>19.384615</td>\n",
              "      <td>22.000000</td>\n",
              "      <td>6.750000e+05</td>\n",
              "      <td>-6.695979e-01</td>\n",
              "      <td>-1.026721e+00</td>\n",
              "      <td>-6.326974e-01</td>\n",
              "      <td>-7.236099e-01</td>\n",
              "      <td>-6.254014e-01</td>\n",
              "    </tr>\n",
              "    <tr>\n",
              "      <th>50%</th>\n",
              "      <td>335.000000</td>\n",
              "      <td>3.000000</td>\n",
              "      <td>25.933333</td>\n",
              "      <td>49.000000</td>\n",
              "      <td>9.100000e+05</td>\n",
              "      <td>-2.370668e-01</td>\n",
              "      <td>2.946781e-02</td>\n",
              "      <td>-3.886394e-02</td>\n",
              "      <td>-1.394930e-01</td>\n",
              "      <td>-2.655851e-01</td>\n",
              "    </tr>\n",
              "    <tr>\n",
              "      <th>75%</th>\n",
              "      <td>564.333333</td>\n",
              "      <td>4.000000</td>\n",
              "      <td>32.416667</td>\n",
              "      <td>79.000000</td>\n",
              "      <td>1.350000e+06</td>\n",
              "      <td>3.276039e-01</td>\n",
              "      <td>1.085656e+00</td>\n",
              "      <td>5.490405e-01</td>\n",
              "      <td>5.095258e-01</td>\n",
              "      <td>4.081136e-01</td>\n",
              "    </tr>\n",
              "    <tr>\n",
              "      <th>max</th>\n",
              "      <td>2042.333333</td>\n",
              "      <td>7.000000</td>\n",
              "      <td>68.666667</td>\n",
              "      <td>823.000000</td>\n",
              "      <td>6.400000e+06</td>\n",
              "      <td>3.966775e+00</td>\n",
              "      <td>4.254222e+00</td>\n",
              "      <td>3.836167e+00</td>\n",
              "      <td>1.660519e+01</td>\n",
              "      <td>8.140337e+00</td>\n",
              "    </tr>\n",
              "  </tbody>\n",
              "</table>\n",
              "</div>\n",
              "      <button class=\"colab-df-convert\" onclick=\"convertToInteractive('df-98eecdfe-e094-43e7-984c-383144b6f788')\"\n",
              "              title=\"Convert this dataframe to an interactive table.\"\n",
              "              style=\"display:none;\">\n",
              "        \n",
              "  <svg xmlns=\"http://www.w3.org/2000/svg\" height=\"24px\"viewBox=\"0 0 24 24\"\n",
              "       width=\"24px\">\n",
              "    <path d=\"M0 0h24v24H0V0z\" fill=\"none\"/>\n",
              "    <path d=\"M18.56 5.44l.94 2.06.94-2.06 2.06-.94-2.06-.94-.94-2.06-.94 2.06-2.06.94zm-11 1L8.5 8.5l.94-2.06 2.06-.94-2.06-.94L8.5 2.5l-.94 2.06-2.06.94zm10 10l.94 2.06.94-2.06 2.06-.94-2.06-.94-.94-2.06-.94 2.06-2.06.94z\"/><path d=\"M17.41 7.96l-1.37-1.37c-.4-.4-.92-.59-1.43-.59-.52 0-1.04.2-1.43.59L10.3 9.45l-7.72 7.72c-.78.78-.78 2.05 0 2.83L4 21.41c.39.39.9.59 1.41.59.51 0 1.02-.2 1.41-.59l7.78-7.78 2.81-2.81c.8-.78.8-2.07 0-2.86zM5.41 20L4 18.59l7.72-7.72 1.47 1.35L5.41 20z\"/>\n",
              "  </svg>\n",
              "      </button>\n",
              "      \n",
              "  <style>\n",
              "    .colab-df-container {\n",
              "      display:flex;\n",
              "      flex-wrap:wrap;\n",
              "      gap: 12px;\n",
              "    }\n",
              "\n",
              "    .colab-df-convert {\n",
              "      background-color: #E8F0FE;\n",
              "      border: none;\n",
              "      border-radius: 50%;\n",
              "      cursor: pointer;\n",
              "      display: none;\n",
              "      fill: #1967D2;\n",
              "      height: 32px;\n",
              "      padding: 0 0 0 0;\n",
              "      width: 32px;\n",
              "    }\n",
              "\n",
              "    .colab-df-convert:hover {\n",
              "      background-color: #E2EBFA;\n",
              "      box-shadow: 0px 1px 2px rgba(60, 64, 67, 0.3), 0px 1px 3px 1px rgba(60, 64, 67, 0.15);\n",
              "      fill: #174EA6;\n",
              "    }\n",
              "\n",
              "    [theme=dark] .colab-df-convert {\n",
              "      background-color: #3B4455;\n",
              "      fill: #D2E3FC;\n",
              "    }\n",
              "\n",
              "    [theme=dark] .colab-df-convert:hover {\n",
              "      background-color: #434B5C;\n",
              "      box-shadow: 0px 1px 3px 1px rgba(0, 0, 0, 0.15);\n",
              "      filter: drop-shadow(0px 1px 2px rgba(0, 0, 0, 0.3));\n",
              "      fill: #FFFFFF;\n",
              "    }\n",
              "  </style>\n",
              "\n",
              "      <script>\n",
              "        const buttonEl =\n",
              "          document.querySelector('#df-98eecdfe-e094-43e7-984c-383144b6f788 button.colab-df-convert');\n",
              "        buttonEl.style.display =\n",
              "          google.colab.kernel.accessAllowed ? 'block' : 'none';\n",
              "\n",
              "        async function convertToInteractive(key) {\n",
              "          const element = document.querySelector('#df-98eecdfe-e094-43e7-984c-383144b6f788');\n",
              "          const dataTable =\n",
              "            await google.colab.kernel.invokeFunction('convertToInteractive',\n",
              "                                                     [key], {});\n",
              "          if (!dataTable) return;\n",
              "\n",
              "          const docLinkHtml = 'Like what you see? Visit the ' +\n",
              "            '<a target=\"_blank\" href=https://colab.research.google.com/notebooks/data_table.ipynb>data table notebook</a>'\n",
              "            + ' to learn more about interactive tables.';\n",
              "          element.innerHTML = '';\n",
              "          dataTable['output_type'] = 'display_data';\n",
              "          await google.colab.output.renderOutput(dataTable, element);\n",
              "          const docLink = document.createElement('div');\n",
              "          docLink.innerHTML = docLinkHtml;\n",
              "          element.appendChild(docLink);\n",
              "        }\n",
              "      </script>\n",
              "    </div>\n",
              "  </div>\n",
              "  "
            ]
          },
          "metadata": {},
          "execution_count": 40
        }
      ],
      "source": [
        "df_copy.describe()"
      ]
    },
    {
      "cell_type": "markdown",
      "metadata": {
        "id": "oR3OeEati5sc"
      },
      "source": [
        "With this normalization, the selected attributes now have statistical inference: mean and variance very close to 0 and 1 respectively."
      ]
    },
    {
      "cell_type": "code",
      "execution_count": 41,
      "metadata": {
        "id": "VWKMZ-ssjB6K"
      },
      "outputs": [],
      "source": [
        "%matplotlib inline"
      ]
    },
    {
      "cell_type": "code",
      "execution_count": 42,
      "metadata": {
        "colab": {
          "base_uri": "https://localhost:8080/",
          "height": 338
        },
        "id": "aaqjGUYcjFBu",
        "outputId": "a29b53a1-43ca-430b-99a5-66f8c12293df"
      },
      "outputs": [
        {
          "output_type": "execute_result",
          "data": {
            "text/plain": [
              "(<matplotlib.axes._subplots.AxesSubplot at 0x7fbfa29f5650>,\n",
              " <matplotlib.axes._subplots.AxesSubplot at 0x7fbfa29f5650>,\n",
              " <matplotlib.axes._subplots.AxesSubplot at 0x7fbfa29f5650>,\n",
              " <matplotlib.axes._subplots.AxesSubplot at 0x7fbfa29f5650>)"
            ]
          },
          "metadata": {},
          "execution_count": 42
        },
        {
          "output_type": "display_data",
          "data": {
            "text/plain": [
              "<Figure size 432x288 with 1 Axes>"
            ],
            "image/png": "[encoded data removed]"
          },
          "metadata": {
            "needs_background": "light"
          }
        }
      ],
      "source": [
        "# Before normalization, the distribution of all attributes look like this\n",
        "df_copy[\"crime_C_average\"].plot(), df_copy[\"Rooms\"].plot(), df_copy[\"travel_min_to_CBD\"].plot(), df_copy[\"Age\"].plot()"
      ]
    },
    {
      "cell_type": "code",
      "execution_count": 43,
      "metadata": {
        "colab": {
          "base_uri": "https://localhost:8080/",
          "height": 342
        },
        "id": "cXg1ZkG6jScY",
        "outputId": "36266b71-b3b0-4396-9a28-3af385c82434"
      },
      "outputs": [
        {
          "output_type": "execute_result",
          "data": {
            "text/plain": [
              "(<matplotlib.axes._subplots.AxesSubplot at 0x7fbfa14284d0>,\n",
              " <matplotlib.axes._subplots.AxesSubplot at 0x7fbfa14284d0>,\n",
              " <matplotlib.axes._subplots.AxesSubplot at 0x7fbfa14284d0>,\n",
              " <matplotlib.axes._subplots.AxesSubplot at 0x7fbfa14284d0>)"
            ]
          },
          "metadata": {},
          "execution_count": 43
        },
        {
          "output_type": "display_data",
          "data": {
            "text/plain": [
              "<Figure size 432x288 with 1 Axes>"
            ],
            "image/png": "[encoded data removed]"
          },
          "metadata": {
            "needs_background": "light"
          }
        }
      ],
      "source": [
        "# After normalization process, data are clearly mroe centralizaed and clustered\n",
        "df_copy[\"scaled_crime\"].plot(), df_copy[\"scaled_rooms\"].plot(), df_copy[\"scaled_time\"].plot(), df_copy[\"scaled_age\"].plot()"
      ]
    },
    {
      "cell_type": "markdown",
      "metadata": {
        "id": "Da0l9_ZPjnQB"
      },
      "source": [
        "Which the normalization process bring all attributes into the same scale, while maintaining their original distribution (shape of line).\n",
        "Let's look into each attribute individually"
      ]
    },
    {
      "cell_type": "code",
      "execution_count": 44,
      "metadata": {
        "colab": {
          "base_uri": "https://localhost:8080/",
          "height": 312
        },
        "id": "1WJFg8o353tE",
        "outputId": "dc8d0492-804d-45d4-9a3f-edeb2b768cc1"
      },
      "outputs": [
        {
          "output_type": "execute_result",
          "data": {
            "text/plain": [
              "(<matplotlib.axes._subplots.AxesSubplot at 0x7fbfa20825d0>,\n",
              " <matplotlib.axes._subplots.AxesSubplot at 0x7fbfa20825d0>)"
            ]
          },
          "metadata": {},
          "execution_count": 44
        },
        {
          "output_type": "display_data",
          "data": {
            "text/plain": [
              "<Figure size 432x288 with 1 Axes>"
            ],
            "image/png": "[encoded data removed]"
          },
          "metadata": {
            "needs_background": "light"
          }
        }
      ],
      "source": [
        "# Crime data and price of property, before normalization\n",
        "df_copy[\"crime_C_average\"].plot(), df_copy[\"Price\"].plot()"
      ]
    },
    {
      "cell_type": "code",
      "execution_count": 45,
      "metadata": {
        "colab": {
          "base_uri": "https://localhost:8080/",
          "height": 301
        },
        "id": "vaOlUbvJjx-c",
        "outputId": "1f70c5a6-18d9-401a-a4ec-0be5542ef0dc"
      },
      "outputs": [
        {
          "output_type": "execute_result",
          "data": {
            "text/plain": [
              "(<matplotlib.axes._subplots.AxesSubplot at 0x7fbfa1467e10>,\n",
              " <matplotlib.axes._subplots.AxesSubplot at 0x7fbfa1467e10>)"
            ]
          },
          "metadata": {},
          "execution_count": 45
        },
        {
          "output_type": "display_data",
          "data": {
            "text/plain": [
              "<Figure size 432x288 with 1 Axes>"
            ],
            "image/png": "[encoded data removed]"
          },
          "metadata": {
            "needs_background": "light"
          }
        }
      ],
      "source": [
        "# Crime data and price of property, after normalization\n",
        "df_copy[\"scaled_crime\"].plot(), df_copy[\"scaled_p\"].plot()"
      ]
    },
    {
      "cell_type": "code",
      "execution_count": 46,
      "metadata": {
        "colab": {
          "base_uri": "https://localhost:8080/",
          "height": 312
        },
        "id": "n4nt4i4Pj9Yg",
        "outputId": "d2f5822e-4dcc-4515-982e-63eb5fab83d3"
      },
      "outputs": [
        {
          "output_type": "execute_result",
          "data": {
            "text/plain": [
              "(<matplotlib.axes._subplots.AxesSubplot at 0x7fbfa15e23d0>,\n",
              " <matplotlib.axes._subplots.AxesSubplot at 0x7fbfa15e23d0>)"
            ]
          },
          "metadata": {},
          "execution_count": 46
        },
        {
          "output_type": "display_data",
          "data": {
            "text/plain": [
              "<Figure size 432x288 with 1 Axes>"
            ],
            "image/png": "[encoded data removed]"
          },
          "metadata": {
            "needs_background": "light"
          }
        }
      ],
      "source": [
        "# Rooms data, before normalization\n",
        "df_copy[\"Rooms\"].plot(), df_copy[\"Price\"].plot()"
      ]
    },
    {
      "cell_type": "code",
      "execution_count": 47,
      "metadata": {
        "colab": {
          "base_uri": "https://localhost:8080/",
          "height": 301
        },
        "id": "0MCi-4xf6Iwg",
        "outputId": "7a7c2fad-22d5-4446-8026-8e6193a694fa"
      },
      "outputs": [
        {
          "output_type": "execute_result",
          "data": {
            "text/plain": [
              "(<matplotlib.axes._subplots.AxesSubplot at 0x7fbfa0ec8050>,\n",
              " <matplotlib.axes._subplots.AxesSubplot at 0x7fbfa0ec8050>)"
            ]
          },
          "metadata": {},
          "execution_count": 47
        },
        {
          "output_type": "display_data",
          "data": {
            "text/plain": [
              "<Figure size 432x288 with 1 Axes>"
            ],
            "image/png": "[encoded data removed]"
          },
          "metadata": {
            "needs_background": "light"
          }
        }
      ],
      "source": [
        "# Rooms data, after normalization\n",
        "df_copy[\"scaled_rooms\"].plot(), df_copy[\"scaled_p\"].plot()"
      ]
    },
    {
      "cell_type": "code",
      "execution_count": 48,
      "metadata": {
        "colab": {
          "base_uri": "https://localhost:8080/",
          "height": 312
        },
        "id": "QtvdE_K1kA7P",
        "outputId": "7e9fe9b5-d31b-4995-eaa6-64d5eed9186a"
      },
      "outputs": [
        {
          "output_type": "execute_result",
          "data": {
            "text/plain": [
              "(<matplotlib.axes._subplots.AxesSubplot at 0x7fbfa0e3f2d0>,\n",
              " <matplotlib.axes._subplots.AxesSubplot at 0x7fbfa0e3f2d0>)"
            ]
          },
          "metadata": {},
          "execution_count": 48
        },
        {
          "output_type": "display_data",
          "data": {
            "text/plain": [
              "<Figure size 432x288 with 1 Axes>"
            ],
            "image/png": "[encoded data removed]"
          },
          "metadata": {
            "needs_background": "light"
          }
        }
      ],
      "source": [
        "# Travel time against price, before normalization\n",
        "df_copy[\"travel_min_to_CBD\"].plot(), df_copy[\"Price\"].plot()"
      ]
    },
    {
      "cell_type": "code",
      "execution_count": 49,
      "metadata": {
        "colab": {
          "base_uri": "https://localhost:8080/",
          "height": 301
        },
        "id": "cTcVZeWt6WYy",
        "outputId": "acea78ec-d1fa-46cf-8ec8-b89210be1c42"
      },
      "outputs": [
        {
          "output_type": "execute_result",
          "data": {
            "text/plain": [
              "(<matplotlib.axes._subplots.AxesSubplot at 0x7fbfa0e2bbd0>,\n",
              " <matplotlib.axes._subplots.AxesSubplot at 0x7fbfa0e2bbd0>)"
            ]
          },
          "metadata": {},
          "execution_count": 49
        },
        {
          "output_type": "display_data",
          "data": {
            "text/plain": [
              "<Figure size 432x288 with 1 Axes>"
            ],
            "image/png": "[encoded data removed]"
          },
          "metadata": {
            "needs_background": "light"
          }
        }
      ],
      "source": [
        "# Travel time against price, after normalization\n",
        "df_copy[\"scaled_time\"].plot(), df_copy[\"scaled_p\"].plot()"
      ]
    },
    {
      "cell_type": "code",
      "execution_count": 50,
      "metadata": {
        "colab": {
          "base_uri": "https://localhost:8080/",
          "height": 312
        },
        "id": "zMTaQEgzkGRF",
        "outputId": "86dadb3c-c323-4734-e16f-ce8c4c933bf3"
      },
      "outputs": [
        {
          "output_type": "execute_result",
          "data": {
            "text/plain": [
              "(<matplotlib.axes._subplots.AxesSubplot at 0x7fbfa0e1fb10>,\n",
              " <matplotlib.axes._subplots.AxesSubplot at 0x7fbfa0e1fb10>)"
            ]
          },
          "metadata": {},
          "execution_count": 50
        },
        {
          "output_type": "display_data",
          "data": {
            "text/plain": [
              "<Figure size 432x288 with 1 Axes>"
            ],
            "image/png": "[encoded data removed]"
          },
          "metadata": {
            "needs_background": "light"
          }
        }
      ],
      "source": [
        "# Age data, before normalization\n",
        "df_copy[\"Age\"].plot(), df_copy[\"Price\"].plot()"
      ]
    },
    {
      "cell_type": "code",
      "execution_count": 51,
      "metadata": {
        "colab": {
          "base_uri": "https://localhost:8080/",
          "height": 305
        },
        "id": "-WYgLPzx6b-k",
        "outputId": "253845f4-5236-43eb-ef82-2332a503b5ef"
      },
      "outputs": [
        {
          "output_type": "execute_result",
          "data": {
            "text/plain": [
              "(<matplotlib.axes._subplots.AxesSubplot at 0x7fbfa0dad350>,\n",
              " <matplotlib.axes._subplots.AxesSubplot at 0x7fbfa0dad350>)"
            ]
          },
          "metadata": {},
          "execution_count": 51
        },
        {
          "output_type": "display_data",
          "data": {
            "text/plain": [
              "<Figure size 432x288 with 1 Axes>"
            ],
            "image/png": "[encoded data removed]"
          },
          "metadata": {
            "needs_background": "light"
          }
        }
      ],
      "source": [
        "# Age data, after normalization\n",
        "df_copy[\"scaled_age\"].plot(), df_copy[\"scaled_p\"].plot()"
      ]
    },
    {
      "cell_type": "markdown",
      "metadata": {
        "id": "81oTh40hOihR"
      },
      "source": [
        "-------------------------------------"
      ]
    },
    {
      "cell_type": "markdown",
      "metadata": {
        "id": "4KmVJ46UkK9M"
      },
      "source": [
        "<div class=\"alert alert-block alert-warning\">\n",
        "\n",
        "## 4.1.2 Min-max normalization  <a class=\"anchor\" name=\"minmax\"></a>\n",
        "    \n",
        "</div>"
      ]
    },
    {
      "cell_type": "markdown",
      "metadata": {
        "id": "qw8WmSyA6sls"
      },
      "source": [
        "The second practice applied is the Min-max normalization method.\n",
        "Compared to the Z-score normlization method that adopts to converting the whole distribution to a standard normal distribution with mean of 0 and variance of 1, and scaled upon their standard deviation value of each row, the min-max method uses another practise.\n",
        "\n",
        "It uses the maximum and minimum value of attributes in the selected dataset, and uses the max value and min value to form the scale of max of 1 and minimum of 0.\n",
        "\n",
        "The whole process could be done also with the sklearn preprocessing library:"
      ]
    },
    {
      "cell_type": "code",
      "execution_count": 52,
      "metadata": {
        "id": "CWDyJqhTuztz"
      },
      "outputs": [],
      "source": [
        "# apply normalization\n",
        "minmax_scale = preprocessing.MinMaxScaler().fit(df_copy[[\"crime_C_average\", \"Rooms\", \"travel_min_to_CBD\", \"Age\", \"Price\"]])\n",
        "df_minmax = minmax_scale.transform(df[[\"crime_C_average\", \"Rooms\", \"travel_min_to_CBD\", \"Age\", \"Price\"]])\n"
      ]
    },
    {
      "cell_type": "code",
      "execution_count": 53,
      "metadata": {
        "colab": {
          "base_uri": "https://localhost:8080/",
          "height": 441
        },
        "id": "M_E3kM_uwhEv",
        "outputId": "4c7f9bc0-f039-42e4-93ba-99b645dae095"
      },
      "outputs": [
        {
          "output_type": "display_data",
          "data": {
            "text/plain": [
              "<Figure size 576x432 with 1 Axes>"
            ],
            "image/png": "[encoded data removed]"
          },
          "metadata": {
            "needs_background": "light"
          }
        }
      ],
      "source": [
        "# Plot of number of crime against price\n",
        "# Red dots represents the Z-Score normalization while blue dots represents the Min-max normalization\n",
        "%matplotlib inline\n",
        "\n",
        "from matplotlib import pyplot as plt\n",
        "\n",
        "def plot():\n",
        "    f = plt.figure(figsize=(8,6))\n",
        "    plt.scatter(df_std[:,0], df_std[:,4], color='red',\n",
        "             label='Standardized u=0, s=1', alpha=0.3)\n",
        "    \n",
        "    plt.scatter(df_minmax[:,0], df_minmax[:,4],\n",
        "            color='blue', label='min-max scaled [min=0, max=1]', alpha=0.3)\n",
        "\n",
        "    plt.title('Plotting crime data (x) aginst Price (y)')\n",
        "    plt.xlabel('Crime')\n",
        "    plt.ylabel(\"Price\")\n",
        "    plt.legend(loc='upper left')\n",
        "    plt.grid()\n",
        "    plt.tight_layout()\n",
        "\n",
        "plot()\n",
        "plt.show()"
      ]
    },
    {
      "cell_type": "code",
      "execution_count": 54,
      "metadata": {
        "colab": {
          "base_uri": "https://localhost:8080/",
          "height": 441
        },
        "id": "vpNtR99yn-u9",
        "outputId": "1b2c5adf-f28f-412a-ef85-69fb592e431c"
      },
      "outputs": [
        {
          "output_type": "display_data",
          "data": {
            "text/plain": [
              "<Figure size 576x432 with 1 Axes>"
            ],
            "image/png": "[encoded data removed]"
          },
          "metadata": {
            "needs_background": "light"
          }
        }
      ],
      "source": [
        "# Plot of number of rooms against price\n",
        "# Red dots represents the Z-Score normalization while blue dots represents the Min-max normalization\n",
        "%matplotlib inline\n",
        "\n",
        "from matplotlib import pyplot as plt\n",
        "\n",
        "def plot():\n",
        "    f = plt.figure(figsize=(8,6))\n",
        "\n",
        "    plt.scatter(df_std[:,1], df_std[:,4], color='red',\n",
        "             label='Standardized u=0, s=1', alpha=0.3) \n",
        "    \n",
        "    plt.scatter(df_minmax[:,1], df_minmax[:,4],\n",
        "            color='blue', label='min-max scaled [min=0, max=1]', alpha=0.3)\n",
        "\n",
        "    plt.title('Plotting room (x) aginst Price (y)')\n",
        "    plt.xlabel('Rooms')\n",
        "    plt.ylabel('Price')\n",
        "    plt.legend(loc='upper left')\n",
        "    plt.grid()\n",
        "    plt.tight_layout()\n",
        "\n",
        "\n",
        "plot()\n",
        "plt.show()"
      ]
    },
    {
      "cell_type": "code",
      "execution_count": 55,
      "metadata": {
        "colab": {
          "base_uri": "https://localhost:8080/",
          "height": 441
        },
        "id": "tj8vMyuLw3d0",
        "outputId": "06892e9c-e3b0-4e54-a97f-b20b6a23f0e7"
      },
      "outputs": [
        {
          "output_type": "display_data",
          "data": {
            "text/plain": [
              "<Figure size 576x432 with 1 Axes>"
            ],
            "image/png": "[encoded data removed]"
          },
          "metadata": {
            "needs_background": "light"
          }
        }
      ],
      "source": [
        "# Plot of travel time against price\n",
        "# Red dots represents the Z-Score normalization while blue dots represents the Min-max normalization\n",
        "%matplotlib inline\n",
        "\n",
        "from matplotlib import pyplot as plt\n",
        "\n",
        "def plot():\n",
        "    f = plt.figure(figsize=(8,6))\n",
        "    plt.scatter(df_std[:,2], df_std[:,4], color='red',\n",
        "             label='Standardized u=0, s=1', alpha=0.3)\n",
        "    \n",
        "    plt.scatter(df_minmax[:,2], df_minmax[:,4],\n",
        "            color='blue', label='min-max scaled [min=0, max=1]', alpha=0.3)\n",
        "\n",
        "    plt.title('Plotting Travel time (x) aginst Price (y)')\n",
        "    plt.xlabel('Travel time')\n",
        "    plt.ylabel(\"Price\")\n",
        "    plt.legend(loc='upper left')\n",
        "    plt.grid()\n",
        "    plt.tight_layout()\n",
        "\n",
        "plot()\n",
        "plt.show()"
      ]
    },
    {
      "cell_type": "code",
      "execution_count": 56,
      "metadata": {
        "colab": {
          "base_uri": "https://localhost:8080/",
          "height": 441
        },
        "id": "iVYfKWow8YF_",
        "outputId": "977546bd-a685-4342-d392-bf57646f0912"
      },
      "outputs": [
        {
          "output_type": "display_data",
          "data": {
            "text/plain": [
              "<Figure size 576x432 with 1 Axes>"
            ],
            "image/png": "[encoded data removed]"
          },
          "metadata": {
            "needs_background": "light"
          }
        }
      ],
      "source": [
        "# Plot of properties' age against price\n",
        "# Red dots represents the Z-Score normalization while blue dots represents the Min-max normalization\n",
        "%matplotlib inline\n",
        "\n",
        "from matplotlib import pyplot as plt\n",
        "\n",
        "def plot():\n",
        "    f = plt.figure(figsize=(8,6))\n",
        "    plt.scatter(df_std[:,3], df_std[:,4], color='red',\n",
        "             label='Standardized u=0, s=1', alpha=0.3)\n",
        "    \n",
        "    plt.scatter(df_minmax[:,3], df_minmax[:,4],\n",
        "            color='blue', label='min-max scaled [min=0, max=1]', alpha=0.3)\n",
        "\n",
        "    plt.title('Plotting Age (x) aginst Price (y)')\n",
        "    plt.xlabel('Age')\n",
        "    plt.ylabel(\"Price\")\n",
        "    plt.legend(loc='upper left')\n",
        "    plt.grid()\n",
        "    plt.tight_layout()\n",
        "\n",
        "plot()\n",
        "plt.show()"
      ]
    },
    {
      "cell_type": "markdown",
      "source": [
        "Normalization conclusion:\n",
        "\n",
        "From the above transformation, it was noticed that the min-max normalization (blue dots) results in significant lower biasness when compared to the Z-score normalization.\n",
        "\n",
        "As it is shown on graph, blue dots are clustered for all of the graph while the red dots are relatively scattered around the plot. \n",
        "\n",
        "This is mainly because the min-max method limits the range of all value within 0 and 1; while the Z-score normalization method maintain mean value as 0 and variance as 1, but it allows the outliers to exist and be reflected on visualization.\n",
        "\n",
        "There are outliers that exist in the dataset, and they are observations that might provide valuable information if a linear model has to be built upon the selected attributes.\n",
        "\n",
        "In such case, I believe the Z-score normalization will be a more suitable practice to be applied on such dataset among the two."
      ],
      "metadata": {
        "id": "lPhQRN49PSsb"
      }
    },
    {
      "cell_type": "markdown",
      "metadata": {
        "id": "ptsnjg8KRdpn"
      },
      "source": [
        "-------------------------------------"
      ]
    },
    {
      "cell_type": "markdown",
      "metadata": {
        "id": "iAUwR04_yNrk"
      },
      "source": [
        "<div class=\"alert alert-block alert-warning\">\n",
        "\n",
        "## 4.2 Data transformation  <a class=\"anchor\" name=\"tran\"></a>\n",
        "    \n",
        "</div>"
      ]
    },
    {
      "cell_type": "markdown",
      "metadata": {
        "id": "5R0pYidG8hJm"
      },
      "source": [
        "In the following cells, three data transformation will be applied to see the change in relations between the estimators, and the output.\n",
        "The three methods include:\n",
        "1. Root-transformation\n",
        "2. Squared-transformation\n",
        "3. Log-transformation"
      ]
    },
    {
      "cell_type": "code",
      "execution_count": 57,
      "metadata": {
        "id": "Kyv8AVA_2GoX"
      },
      "outputs": [],
      "source": [
        "# Get estimate and output\n",
        "df_copy = df[[\"crime_C_average\", \"Rooms\", \"travel_min_to_CBD\", \"Age\", \"Price\"]]\n"
      ]
    },
    {
      "cell_type": "code",
      "execution_count": 58,
      "metadata": {
        "colab": {
          "base_uri": "https://localhost:8080/",
          "height": 294
        },
        "id": "dnwuxpFJ2Gql",
        "outputId": "c7eeef05-d75e-4caa-cead-eb719d82af13"
      },
      "outputs": [
        {
          "output_type": "execute_result",
          "data": {
            "text/plain": [
              "<matplotlib.collections.PathCollection at 0x7fbf9e2dbf90>"
            ]
          },
          "metadata": {},
          "execution_count": 58
        },
        {
          "output_type": "display_data",
          "data": {
            "text/plain": [
              "<Figure size 432x288 with 1 Axes>"
            ],
            "image/png": "[encoded data removed]"
          },
          "metadata": {
            "needs_background": "light"
          }
        }
      ],
      "source": [
        "# plot travel time aginst price before transformation\n",
        "plt.scatter(df_copy.travel_min_to_CBD, df_copy.Price)"
      ]
    },
    {
      "cell_type": "code",
      "execution_count": 59,
      "metadata": {
        "colab": {
          "base_uri": "https://localhost:8080/",
          "height": 294
        },
        "id": "7VBNb3Uy2GtB",
        "outputId": "d4893a08-acf3-4632-af15-95424381bed7"
      },
      "outputs": [
        {
          "output_type": "execute_result",
          "data": {
            "text/plain": [
              "<matplotlib.collections.PathCollection at 0x7fbf9e250790>"
            ]
          },
          "metadata": {},
          "execution_count": 59
        },
        {
          "output_type": "display_data",
          "data": {
            "text/plain": [
              "<Figure size 432x288 with 1 Axes>"
            ],
            "image/png": "[encoded data removed]"
          },
          "metadata": {
            "needs_background": "light"
          }
        }
      ],
      "source": [
        "# plot age aginst price before transformation\n",
        "plt.scatter(df_copy.Age, df_copy.Price)\n"
      ]
    },
    {
      "cell_type": "code",
      "execution_count": 60,
      "metadata": {
        "colab": {
          "base_uri": "https://localhost:8080/",
          "height": 294
        },
        "id": "K9o6LhMO2Gvd",
        "outputId": "a87a7efe-f403-4098-bfe9-cbca571e9389"
      },
      "outputs": [
        {
          "output_type": "execute_result",
          "data": {
            "text/plain": [
              "<matplotlib.collections.PathCollection at 0x7fbf9e1be910>"
            ]
          },
          "metadata": {},
          "execution_count": 60
        },
        {
          "output_type": "display_data",
          "data": {
            "text/plain": [
              "<Figure size 432x288 with 1 Axes>"
            ],
            "image/png": "[encoded data removed]"
          },
          "metadata": {
            "needs_background": "light"
          }
        }
      ],
      "source": [
        "# plot number of rooms aginst price before transformation\n",
        "plt.scatter(df_copy.Rooms, df_copy.Price)\n"
      ]
    },
    {
      "cell_type": "code",
      "execution_count": 61,
      "metadata": {
        "colab": {
          "base_uri": "https://localhost:8080/",
          "height": 294
        },
        "id": "ikHf50Ku2Si7",
        "outputId": "e657dad6-b2f9-4a66-9435-6f0f928e16b7"
      },
      "outputs": [
        {
          "output_type": "execute_result",
          "data": {
            "text/plain": [
              "<matplotlib.collections.PathCollection at 0x7fbf9e1a4990>"
            ]
          },
          "metadata": {},
          "execution_count": 61
        },
        {
          "output_type": "display_data",
          "data": {
            "text/plain": [
              "<Figure size 432x288 with 1 Axes>"
            ],
            "image/png": "[encoded data removed]"
          },
          "metadata": {
            "needs_background": "light"
          }
        }
      ],
      "source": [
        "# plot crime data aginst price before transformation\n",
        "\n",
        "plt.scatter(df_copy.crime_C_average, df_copy.Price)\n"
      ]
    },
    {
      "cell_type": "markdown",
      "metadata": {
        "id": "9GJ6VPcc9Hyb"
      },
      "source": [
        "From the above graphs, we cannot observed strong relationship between the individual estimator to the output.\n",
        "\n",
        "Now, let's discover the effect after performing transformation."
      ]
    },
    {
      "cell_type": "markdown",
      "source": [
        "-------------------------------------"
      ],
      "metadata": {
        "id": "KNN8z8GBWV9p"
      }
    },
    {
      "cell_type": "markdown",
      "metadata": {
        "id": "IkgOKqRqyWp-"
      },
      "source": [
        "<div class=\"alert alert-block alert-warning\">\n",
        "\n",
        "## 4.2.1 Root Transformation <a class=\"anchor\" name=\"rt\"></a>\n",
        "    \n",
        "</div>"
      ]
    },
    {
      "cell_type": "markdown",
      "metadata": {
        "id": "Yi7v5edq-tAN"
      },
      "source": [
        "The root transformation takes root (squared-root in this example) of the whole dataset. The transformation aims to return a linear relationship between an estimator and output."
      ]
    },
    {
      "cell_type": "code",
      "execution_count": 62,
      "metadata": {
        "colab": {
          "base_uri": "https://localhost:8080/"
        },
        "id": "-gdEyyT6yM3a",
        "outputId": "9536200e-ce99-49f4-80ec-9df50006969f"
      },
      "outputs": [
        {
          "output_type": "stream",
          "name": "stderr",
          "text": [
            "/usr/local/lib/python3.7/dist-packages/ipykernel_launcher.py:5: SettingWithCopyWarning: \n",
            "A value is trying to be set on a copy of a slice from a DataFrame.\n",
            "Try using .loc[row_indexer,col_indexer] = value instead\n",
            "\n",
            "See the caveats in the documentation: https://pandas.pydata.org/pandas-docs/stable/user_guide/indexing.html#returning-a-view-versus-a-copy\n",
            "  \"\"\"\n",
            "/usr/local/lib/python3.7/dist-packages/ipykernel_launcher.py:6: SettingWithCopyWarning: \n",
            "A value is trying to be set on a copy of a slice from a DataFrame.\n",
            "Try using .loc[row_indexer,col_indexer] = value instead\n",
            "\n",
            "See the caveats in the documentation: https://pandas.pydata.org/pandas-docs/stable/user_guide/indexing.html#returning-a-view-versus-a-copy\n",
            "  \n",
            "/usr/local/lib/python3.7/dist-packages/ipykernel_launcher.py:7: SettingWithCopyWarning: \n",
            "A value is trying to be set on a copy of a slice from a DataFrame.\n",
            "Try using .loc[row_indexer,col_indexer] = value instead\n",
            "\n",
            "See the caveats in the documentation: https://pandas.pydata.org/pandas-docs/stable/user_guide/indexing.html#returning-a-view-versus-a-copy\n",
            "  import sys\n",
            "/usr/local/lib/python3.7/dist-packages/ipykernel_launcher.py:8: SettingWithCopyWarning: \n",
            "A value is trying to be set on a copy of a slice from a DataFrame.\n",
            "Try using .loc[row_indexer,col_indexer] = value instead\n",
            "\n",
            "See the caveats in the documentation: https://pandas.pydata.org/pandas-docs/stable/user_guide/indexing.html#returning-a-view-versus-a-copy\n",
            "  \n",
            "/usr/local/lib/python3.7/dist-packages/ipykernel_launcher.py:9: SettingWithCopyWarning: \n",
            "A value is trying to be set on a copy of a slice from a DataFrame.\n",
            "Try using .loc[row_indexer,col_indexer] = value instead\n",
            "\n",
            "See the caveats in the documentation: https://pandas.pydata.org/pandas-docs/stable/user_guide/indexing.html#returning-a-view-versus-a-copy\n",
            "  if __name__ == '__main__':\n",
            "/usr/local/lib/python3.7/dist-packages/pandas/core/series.py:1169: SettingWithCopyWarning: \n",
            "A value is trying to be set on a copy of a slice from a DataFrame\n",
            "\n",
            "See the caveats in the documentation: https://pandas.pydata.org/pandas-docs/stable/user_guide/indexing.html#returning-a-view-versus-a-copy\n",
            "  self._set_values(loc, value)\n"
          ]
        }
      ],
      "source": [
        "# apply squared-root to both estimators and output\n",
        "\n",
        "df_copy = df[[\"crime_C_average\", \"Rooms\", \"travel_min_to_CBD\", \"Age\", \"Price\"]]\n",
        "\n",
        "df_copy[\"rt_crime\"] = None\n",
        "df_copy[\"rt_rooms\"] = None\n",
        "df_copy[\"rt_time\"] = None\n",
        "df_copy[\"rt_age\"] = None\n",
        "df_copy[\"rt_p\"] = None\n",
        "i = 0\n",
        "for row in df_copy.iterrows():\n",
        "  df_copy[\"rt_crime\"].at[i] = math.sqrt(df_copy[\"crime_C_average\"][i])\n",
        "  df_copy[\"rt_rooms\"].at[i] = math.sqrt(df_copy[\"Rooms\"][i])\n",
        "  df_copy[\"rt_time\"].at[i] = math.sqrt(df_copy[\"travel_min_to_CBD\"][i])\n",
        "  df_copy[\"rt_age\"].at[i] = math.sqrt(df_copy[\"Age\"][i])\n",
        "  df_copy[\"rt_p\"].at[i] = math.sqrt(df_copy[\"Price\"][i])\n",
        "  i += 1"
      ]
    },
    {
      "cell_type": "code",
      "execution_count": 63,
      "metadata": {
        "colab": {
          "base_uri": "https://localhost:8080/",
          "height": 283
        },
        "id": "xvc-YQF_2lJ5",
        "outputId": "f9ce0f17-a564-4149-87a3-cae22f2b5ccb"
      },
      "outputs": [
        {
          "output_type": "execute_result",
          "data": {
            "text/plain": [
              "<matplotlib.collections.PathCollection at 0x7fbfa0d04410>"
            ]
          },
          "metadata": {},
          "execution_count": 63
        },
        {
          "output_type": "display_data",
          "data": {
            "text/plain": [
              "<Figure size 432x288 with 1 Axes>"
            ],
            "image/png": "[encoded data removed]"
          },
          "metadata": {
            "needs_background": "light"
          }
        }
      ],
      "source": [
        "# Crime aginst price after transformation\n",
        "plt.scatter(df_copy.rt_crime, df_copy.rt_p)"
      ]
    },
    {
      "cell_type": "code",
      "execution_count": 64,
      "metadata": {
        "colab": {
          "base_uri": "https://localhost:8080/",
          "height": 283
        },
        "id": "BWNYDS4Y2h28",
        "outputId": "b73cb30f-fa53-4549-f415-e8cb4852fec2"
      },
      "outputs": [
        {
          "output_type": "execute_result",
          "data": {
            "text/plain": [
              "<matplotlib.collections.PathCollection at 0x7fbf9e274550>"
            ]
          },
          "metadata": {},
          "execution_count": 64
        },
        {
          "output_type": "display_data",
          "data": {
            "text/plain": [
              "<Figure size 432x288 with 1 Axes>"
            ],
            "image/png": "[encoded data removed]"
          },
          "metadata": {
            "needs_background": "light"
          }
        }
      ],
      "source": [
        "# Number of rooms aginst price after transformation\n",
        "plt.scatter(df_copy.rt_rooms, df_copy.rt_p)"
      ]
    },
    {
      "cell_type": "code",
      "execution_count": 65,
      "metadata": {
        "colab": {
          "base_uri": "https://localhost:8080/",
          "height": 283
        },
        "id": "HFsm8JoozU7y",
        "outputId": "c6a22386-54db-4f0e-e584-21f71dff6003"
      },
      "outputs": [
        {
          "output_type": "execute_result",
          "data": {
            "text/plain": [
              "<matplotlib.collections.PathCollection at 0x7fbf9e2b7810>"
            ]
          },
          "metadata": {},
          "execution_count": 65
        },
        {
          "output_type": "display_data",
          "data": {
            "text/plain": [
              "<Figure size 432x288 with 1 Axes>"
            ],
            "image/png": "[encoded data removed]"
          },
          "metadata": {
            "needs_background": "light"
          }
        }
      ],
      "source": [
        "# Time aginst price after transformation\n",
        "plt.scatter(df_copy.rt_time, df_copy.rt_p)"
      ]
    },
    {
      "cell_type": "code",
      "execution_count": 66,
      "metadata": {
        "colab": {
          "base_uri": "https://localhost:8080/",
          "height": 283
        },
        "id": "FIG_vMCYzO3g",
        "outputId": "099c5731-8a52-4132-b704-c471b4cdf4d7"
      },
      "outputs": [
        {
          "output_type": "execute_result",
          "data": {
            "text/plain": [
              "<matplotlib.collections.PathCollection at 0x7fbfa0e138d0>"
            ]
          },
          "metadata": {},
          "execution_count": 66
        },
        {
          "output_type": "display_data",
          "data": {
            "text/plain": [
              "<Figure size 432x288 with 1 Axes>"
            ],
            "image/png": "[encoded data removed]"
          },
          "metadata": {
            "needs_background": "light"
          }
        }
      ],
      "source": [
        "# Age aginst price after transformation\n",
        "plt.scatter(df_copy.rt_age, df_copy.rt_p)"
      ]
    },
    {
      "cell_type": "markdown",
      "metadata": {
        "id": "bD0ala5p-Zai"
      },
      "source": [
        "From the above visualization, it cannot be observed any significant effect on the relationships between estimators and output except for the graph between number of rooms (rooted) and price (rooted). \n",
        "\n",
        "Root transformation perhaps might not be the best transformation method to apply for the rest of the estimators except for the rooms attribute."
      ]
    },
    {
      "cell_type": "markdown",
      "source": [
        "-------------------------------------"
      ],
      "metadata": {
        "id": "j5_2YcI4JTVW"
      }
    },
    {
      "cell_type": "markdown",
      "metadata": {
        "id": "_G-gkqvH0pR9"
      },
      "source": [
        "<div class=\"alert alert-block alert-warning\">\n",
        "\n",
        "## 4.2.2. Power transformation <a class=\"anchor\" name=\"sq\"></a>\n",
        "    \n",
        "</div>"
      ]
    },
    {
      "cell_type": "markdown",
      "metadata": {
        "id": "JWAWi8AE_Ogj"
      },
      "source": [
        "The power transformation aims for the same objective: a linear relation between the estimator and output. However, instead of taking root, the dataset will take a power up approach (square power in this example)."
      ]
    },
    {
      "cell_type": "code",
      "execution_count": 67,
      "metadata": {
        "colab": {
          "base_uri": "https://localhost:8080/"
        },
        "id": "hz6oLNge0oam",
        "outputId": "b6a8c412-ce0a-42af-b828-969cc3fd2e5d"
      },
      "outputs": [
        {
          "output_type": "stream",
          "name": "stderr",
          "text": [
            "/usr/local/lib/python3.7/dist-packages/ipykernel_launcher.py:4: SettingWithCopyWarning: \n",
            "A value is trying to be set on a copy of a slice from a DataFrame.\n",
            "Try using .loc[row_indexer,col_indexer] = value instead\n",
            "\n",
            "See the caveats in the documentation: https://pandas.pydata.org/pandas-docs/stable/user_guide/indexing.html#returning-a-view-versus-a-copy\n",
            "  after removing the cwd from sys.path.\n",
            "/usr/local/lib/python3.7/dist-packages/ipykernel_launcher.py:5: SettingWithCopyWarning: \n",
            "A value is trying to be set on a copy of a slice from a DataFrame.\n",
            "Try using .loc[row_indexer,col_indexer] = value instead\n",
            "\n",
            "See the caveats in the documentation: https://pandas.pydata.org/pandas-docs/stable/user_guide/indexing.html#returning-a-view-versus-a-copy\n",
            "  \"\"\"\n",
            "/usr/local/lib/python3.7/dist-packages/ipykernel_launcher.py:6: SettingWithCopyWarning: \n",
            "A value is trying to be set on a copy of a slice from a DataFrame.\n",
            "Try using .loc[row_indexer,col_indexer] = value instead\n",
            "\n",
            "See the caveats in the documentation: https://pandas.pydata.org/pandas-docs/stable/user_guide/indexing.html#returning-a-view-versus-a-copy\n",
            "  \n",
            "/usr/local/lib/python3.7/dist-packages/ipykernel_launcher.py:7: SettingWithCopyWarning: \n",
            "A value is trying to be set on a copy of a slice from a DataFrame.\n",
            "Try using .loc[row_indexer,col_indexer] = value instead\n",
            "\n",
            "See the caveats in the documentation: https://pandas.pydata.org/pandas-docs/stable/user_guide/indexing.html#returning-a-view-versus-a-copy\n",
            "  import sys\n",
            "/usr/local/lib/python3.7/dist-packages/ipykernel_launcher.py:8: SettingWithCopyWarning: \n",
            "A value is trying to be set on a copy of a slice from a DataFrame.\n",
            "Try using .loc[row_indexer,col_indexer] = value instead\n",
            "\n",
            "See the caveats in the documentation: https://pandas.pydata.org/pandas-docs/stable/user_guide/indexing.html#returning-a-view-versus-a-copy\n",
            "  \n"
          ]
        }
      ],
      "source": [
        "# Get estimators and output\n",
        "df_copy = df[[\"crime_C_average\", \"Rooms\", \"travel_min_to_CBD\", \"Age\", \"Price\"]]\n",
        "\n",
        "df_copy[\"sq_crime\"] = None\n",
        "df_copy[\"sq_rooms\"] = None\n",
        "df_copy[\"sq_time\"] = None\n",
        "df_copy[\"sq_age\"] = None\n",
        "df_copy[\"sq_p\"] = None\n",
        "i = 0\n",
        "for row in df_copy.iterrows():\n",
        "  df_copy[\"sq_crime\"].at[i] = math.pow(df_copy[\"crime_C_average\"][i], 2)\n",
        "  df_copy[\"sq_rooms\"].at[i] = math.pow(df_copy[\"Rooms\"][i], 2)\n",
        "  df_copy[\"sq_time\"].at[i] = math.pow(df_copy[\"travel_min_to_CBD\"][i], 2)\n",
        "  df_copy[\"sq_age\"].at[i] = math.pow(df_copy[\"Age\"][i], 2)\n",
        "  df_copy[\"sq_p\"].at[i] = math.pow(df_copy[\"Price\"][i], 2)\n",
        "  i += 1\n"
      ]
    },
    {
      "cell_type": "code",
      "execution_count": 68,
      "metadata": {
        "colab": {
          "base_uri": "https://localhost:8080/",
          "height": 307
        },
        "id": "Ykmyuvpt0-G5",
        "outputId": "b239ba54-e7d7-4bc4-9ecc-c543bcf485d9"
      },
      "outputs": [
        {
          "output_type": "execute_result",
          "data": {
            "text/plain": [
              "<matplotlib.collections.PathCollection at 0x7fbfa0c9cf10>"
            ]
          },
          "metadata": {},
          "execution_count": 68
        },
        {
          "output_type": "display_data",
          "data": {
            "text/plain": [
              "<Figure size 432x288 with 1 Axes>"
            ],
            "image/png": "[encoded data removed]"
          },
          "metadata": {
            "needs_background": "light"
          }
        }
      ],
      "source": [
        "# Squared crime aginst price after transformation\n",
        "plt.scatter(df_copy.sq_crime, df_copy.sq_p)"
      ]
    },
    {
      "cell_type": "code",
      "execution_count": 69,
      "metadata": {
        "colab": {
          "base_uri": "https://localhost:8080/",
          "height": 294
        },
        "id": "fCriz8Jl24so",
        "outputId": "ec0f0f3b-9ae2-42f5-9f03-d5effed4b3d4"
      },
      "outputs": [
        {
          "output_type": "execute_result",
          "data": {
            "text/plain": [
              "<matplotlib.collections.PathCollection at 0x7fbf9e0a8810>"
            ]
          },
          "metadata": {},
          "execution_count": 69
        },
        {
          "output_type": "display_data",
          "data": {
            "text/plain": [
              "<Figure size 432x288 with 1 Axes>"
            ],
            "image/png": "[encoded data removed]"
          },
          "metadata": {
            "needs_background": "light"
          }
        }
      ],
      "source": [
        "# Squared room aginst price after transformation\n",
        "plt.scatter(df_copy.sq_rooms, df_copy.sq_p)"
      ]
    },
    {
      "cell_type": "code",
      "execution_count": 70,
      "metadata": {
        "colab": {
          "base_uri": "https://localhost:8080/",
          "height": 294
        },
        "id": "tsKSKuNW26ZX",
        "outputId": "0b10e531-d52d-48a7-e40c-d71d5348ccca"
      },
      "outputs": [
        {
          "output_type": "execute_result",
          "data": {
            "text/plain": [
              "<matplotlib.collections.PathCollection at 0x7fbf9e00a190>"
            ]
          },
          "metadata": {},
          "execution_count": 70
        },
        {
          "output_type": "display_data",
          "data": {
            "text/plain": [
              "<Figure size 432x288 with 1 Axes>"
            ],
            "image/png": "[encoded data removed]"
          },
          "metadata": {
            "needs_background": "light"
          }
        }
      ],
      "source": [
        "# Squared time aginst price after transformation\n",
        "plt.scatter(df_copy.sq_time, df_copy.sq_p)"
      ]
    },
    {
      "cell_type": "code",
      "execution_count": 71,
      "metadata": {
        "colab": {
          "base_uri": "https://localhost:8080/",
          "height": 294
        },
        "id": "fk28lRvq22ex",
        "outputId": "df98f033-c555-4aab-bf4a-fa269c1c8056"
      },
      "outputs": [
        {
          "output_type": "execute_result",
          "data": {
            "text/plain": [
              "<matplotlib.collections.PathCollection at 0x7fbf9dfed250>"
            ]
          },
          "metadata": {},
          "execution_count": 71
        },
        {
          "output_type": "display_data",
          "data": {
            "text/plain": [
              "<Figure size 432x288 with 1 Axes>"
            ],
            "image/png": "[encoded data removed]"
          },
          "metadata": {
            "needs_background": "light"
          }
        }
      ],
      "source": [
        "# Squared age aginst price after transformation\n",
        "\n",
        "plt.scatter(df_copy.sq_age, df_copy.sq_p)\n"
      ]
    },
    {
      "cell_type": "markdown",
      "metadata": {
        "id": "G8RMkM2s3G1L"
      },
      "source": [
        "The effect is still unclear, but improvements are shown for some of the estimators when compared to the first data transformation method. \n",
        "\n",
        "After applying square power transformation, data appeared to have a clearer relationship between the estimator and the output (eg. higher travel time to CBD, relatively lower price, higher number of crime, lower price, and more rooms, higher the price). \n",
        "\n",
        "For the \"Age\" estimator, although there is no clear trend shown in the visualization, it helps to eliminated one outliers in the dataset that seems to appear in the first transformation method."
      ]
    },
    {
      "cell_type": "markdown",
      "source": [
        "-------------------------------------"
      ],
      "metadata": {
        "id": "2_RyrL6uJT9u"
      }
    },
    {
      "cell_type": "markdown",
      "metadata": {
        "id": "wNhZq-q13G3s"
      },
      "source": [
        "<div class=\"alert alert-block alert-warning\">\n",
        "\n",
        "## 4.2.3. Log transformation\n",
        "<a class=\"anchor\" name=\"log\"></a>\n",
        "    \n",
        "</div>"
      ]
    },
    {
      "cell_type": "markdown",
      "metadata": {
        "id": "kMlBTtdfAEK-"
      },
      "source": [
        "With the same object, the log transformation takes log of the entire dataset."
      ]
    },
    {
      "cell_type": "code",
      "execution_count": 72,
      "metadata": {
        "colab": {
          "base_uri": "https://localhost:8080/"
        },
        "id": "Hn5-oChy3LUk",
        "outputId": "2798230f-95d1-4056-d369-0a6c4280c33c"
      },
      "outputs": [
        {
          "output_type": "stream",
          "name": "stderr",
          "text": [
            "/usr/local/lib/python3.7/dist-packages/ipykernel_launcher.py:2: SettingWithCopyWarning: \n",
            "A value is trying to be set on a copy of a slice from a DataFrame.\n",
            "Try using .loc[row_indexer,col_indexer] = value instead\n",
            "\n",
            "See the caveats in the documentation: https://pandas.pydata.org/pandas-docs/stable/user_guide/indexing.html#returning-a-view-versus-a-copy\n",
            "  \n",
            "/usr/local/lib/python3.7/dist-packages/ipykernel_launcher.py:3: SettingWithCopyWarning: \n",
            "A value is trying to be set on a copy of a slice from a DataFrame.\n",
            "Try using .loc[row_indexer,col_indexer] = value instead\n",
            "\n",
            "See the caveats in the documentation: https://pandas.pydata.org/pandas-docs/stable/user_guide/indexing.html#returning-a-view-versus-a-copy\n",
            "  This is separate from the ipykernel package so we can avoid doing imports until\n",
            "/usr/local/lib/python3.7/dist-packages/ipykernel_launcher.py:4: SettingWithCopyWarning: \n",
            "A value is trying to be set on a copy of a slice from a DataFrame.\n",
            "Try using .loc[row_indexer,col_indexer] = value instead\n",
            "\n",
            "See the caveats in the documentation: https://pandas.pydata.org/pandas-docs/stable/user_guide/indexing.html#returning-a-view-versus-a-copy\n",
            "  after removing the cwd from sys.path.\n",
            "/usr/local/lib/python3.7/dist-packages/ipykernel_launcher.py:5: SettingWithCopyWarning: \n",
            "A value is trying to be set on a copy of a slice from a DataFrame.\n",
            "Try using .loc[row_indexer,col_indexer] = value instead\n",
            "\n",
            "See the caveats in the documentation: https://pandas.pydata.org/pandas-docs/stable/user_guide/indexing.html#returning-a-view-versus-a-copy\n",
            "  \"\"\"\n",
            "/usr/local/lib/python3.7/dist-packages/ipykernel_launcher.py:6: SettingWithCopyWarning: \n",
            "A value is trying to be set on a copy of a slice from a DataFrame.\n",
            "Try using .loc[row_indexer,col_indexer] = value instead\n",
            "\n",
            "See the caveats in the documentation: https://pandas.pydata.org/pandas-docs/stable/user_guide/indexing.html#returning-a-view-versus-a-copy\n",
            "  \n"
          ]
        }
      ],
      "source": [
        "df_copy = df[[\"crime_C_average\", \"Rooms\", \"travel_min_to_CBD\", \"Age\", \"Price\"]]\n",
        "df_copy[\"ln_crime\"] = None\n",
        "df_copy[\"ln_rooms\"] = None\n",
        "df_copy[\"ln_time\"] = None\n",
        "df_copy[\"ln_age\"] = None\n",
        "df_copy[\"ln_p\"] = None\n",
        "i = 0\n",
        "for row in df_copy.iterrows():\n",
        "  df_copy[\"ln_crime\"].at[i] = math.log(df_copy[\"crime_C_average\"][i])\n",
        "  df_copy[\"ln_rooms\"].at[i] = math.log(df_copy[\"Rooms\"][i])\n",
        "  df_copy[\"ln_time\"].at[i] = math.log(df_copy[\"travel_min_to_CBD\"][i])\n",
        "  df_copy[\"ln_age\"].at[i] = math.log(df_copy[\"Age\"][i])\n",
        "  df_copy[\"ln_p\"].at[i] = math.log(df_copy[\"Price\"][i])\n",
        "  i += 1\n"
      ]
    },
    {
      "cell_type": "code",
      "execution_count": 73,
      "metadata": {
        "colab": {
          "base_uri": "https://localhost:8080/",
          "height": 287
        },
        "id": "YyDCYOQi3d4Q",
        "outputId": "52ceef71-334c-4ed9-baa8-1701233213ec"
      },
      "outputs": [
        {
          "output_type": "execute_result",
          "data": {
            "text/plain": [
              "<matplotlib.collections.PathCollection at 0x7fbf9df40b90>"
            ]
          },
          "metadata": {},
          "execution_count": 73
        },
        {
          "output_type": "display_data",
          "data": {
            "text/plain": [
              "<Figure size 432x288 with 1 Axes>"
            ],
            "image/png": "[encoded data removed]"
          },
          "metadata": {
            "needs_background": "light"
          }
        }
      ],
      "source": [
        "# log crime aginst price after transformation\n",
        "plt.scatter(df_copy.ln_crime, df_copy.ln_age)"
      ]
    },
    {
      "cell_type": "code",
      "execution_count": 74,
      "metadata": {
        "colab": {
          "base_uri": "https://localhost:8080/",
          "height": 283
        },
        "id": "vaNbokss3d4Q",
        "outputId": "1bf909cd-ca33-4085-f2f3-62da3e134282"
      },
      "outputs": [
        {
          "output_type": "execute_result",
          "data": {
            "text/plain": [
              "<matplotlib.collections.PathCollection at 0x7fbf9dec9090>"
            ]
          },
          "metadata": {},
          "execution_count": 74
        },
        {
          "output_type": "display_data",
          "data": {
            "text/plain": [
              "<Figure size 432x288 with 1 Axes>"
            ],
            "image/png": "[encoded data removed]"
          },
          "metadata": {
            "needs_background": "light"
          }
        }
      ],
      "source": [
        "# log room aginst price after transformation\n",
        "\n",
        "plt.scatter(df_copy.ln_rooms, df_copy.ln_p)"
      ]
    },
    {
      "cell_type": "code",
      "execution_count": 75,
      "metadata": {
        "colab": {
          "base_uri": "https://localhost:8080/",
          "height": 283
        },
        "id": "B1gTH10u3d4P",
        "outputId": "0c690068-7f1c-4e97-bc90-1ea4df8382cd"
      },
      "outputs": [
        {
          "output_type": "execute_result",
          "data": {
            "text/plain": [
              "<matplotlib.collections.PathCollection at 0x7fbf9de371d0>"
            ]
          },
          "metadata": {},
          "execution_count": 75
        },
        {
          "output_type": "display_data",
          "data": {
            "text/plain": [
              "<Figure size 432x288 with 1 Axes>"
            ],
            "image/png": "[encoded data removed]"
          },
          "metadata": {
            "needs_background": "light"
          }
        }
      ],
      "source": [
        "# log time aginst price after transformation\n",
        "\n",
        "plt.scatter(df_copy.ln_time, df_copy.ln_p)"
      ]
    },
    {
      "cell_type": "code",
      "execution_count": 76,
      "metadata": {
        "colab": {
          "base_uri": "https://localhost:8080/",
          "height": 283
        },
        "id": "S70F424L3d4Q",
        "outputId": "8da9130e-0531-40c0-94a3-b06a50f46950"
      },
      "outputs": [
        {
          "output_type": "execute_result",
          "data": {
            "text/plain": [
              "<matplotlib.collections.PathCollection at 0x7fbf9de227d0>"
            ]
          },
          "metadata": {},
          "execution_count": 76
        },
        {
          "output_type": "display_data",
          "data": {
            "text/plain": [
              "<Figure size 432x288 with 1 Axes>"
            ],
            "image/png": "[encoded data removed]"
          },
          "metadata": {
            "needs_background": "light"
          }
        }
      ],
      "source": [
        "# log age aginst price after transformation\n",
        "\n",
        "plt.scatter(df_copy.ln_age, df_copy.ln_p)"
      ]
    },
    {
      "cell_type": "markdown",
      "metadata": {
        "id": "iIog-qt3A7hu"
      },
      "source": [
        "From the visualizations, the result is similar to the first root transformation performed. There are no evidence showing strong relation between the estimator and output after the log transformation here. Log transformation might not be the best method to apply here."
      ]
    },
    {
      "cell_type": "markdown",
      "source": [
        "-------------------------------------"
      ],
      "metadata": {
        "id": "EcM_CIFhWJy5"
      }
    },
    {
      "cell_type": "markdown",
      "source": [
        "<div class=\"alert alert-block alert-warning\">\n",
        "\n",
        "## 4.3. Conclusion <a class=\"anchor\" name=\"conclude\"></a>\n",
        "    \n",
        "</div>"
      ],
      "metadata": {
        "id": "yCuX7pd3WK7-"
      }
    },
    {
      "cell_type": "markdown",
      "metadata": {
        "id": "j2tdi2NJC26O"
      },
      "source": [
        "To conclude, for the given dataset, if only one transformation method will be performed, the power transformation seems to be the better choice among the three.\n",
        "\n",
        "Firstly, it convert most of the data of estimator to output relatively well. Although the relationship is not linear, it is able to show a weak trend between estimators and the output.\n",
        "\n",
        "Secondly, it is able to convert outlier in \"Age\" attribute into a normal data point among the graph. The estimator \"Age\" failed to show trends when plooted against output \"price\" in all three of the transformation practice. It is likely that it does not have strong relationship with price at all. If the outlier value eliminated, the situation could be better evaluated and it could bring postive result to the model.\n",
        "\n",
        "On the other hand, if more than one method could be applied to each estimator and output, I would apply the power transformation to \"crime_C_average\", \"travel_time_to_CBD\", and \"Age\".\n",
        "\n",
        "As for \"Rooms\" estimator, due to the unique characteristic that it is the only discrete data here (while the rest are continuous data), the power transformation failed to give \"Room\" and \"Price\" the best fit. For room, the root transformation shows better relation between itself and the \"price\" output.\n"
      ]
    }
  ],
  "metadata": {
    "colab": {
      "collapsed_sections": [],
      "provenance": []
    },
    "kernelspec": {
      "display_name": "Python 3",
      "name": "python3"
    },
    "language_info": {
      "name": "python"
    }
  },
  "nbformat": 4,
  "nbformat_minor": 0
}